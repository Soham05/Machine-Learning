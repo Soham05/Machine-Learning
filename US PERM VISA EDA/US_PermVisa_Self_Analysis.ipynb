{
 "cells": [
  {
   "cell_type": "code",
   "execution_count": 2,
   "metadata": {},
   "outputs": [],
   "source": [
    "import pandas as pd\n",
    "import numpy as np\n",
    "import matplotlib.pyplot as plt\n",
    "import seaborn as sns\n",
    "\n",
    "%matplotlib inline\n"
   ]
  },
  {
   "cell_type": "code",
   "execution_count": 4,
   "metadata": {},
   "outputs": [],
   "source": [
    "# Decision_date and case_recieved_date are read as dates\n",
    "df = pd.read_csv('us_perm_visas.csv', low_memory = False, parse_dates=['decision_date', 'case_received_date'])"
   ]
  },
  {
   "cell_type": "markdown",
   "metadata": {},
   "source": [
    "Let's take a look at the structure of our dataset by checking the number of observations, columns and displaying 10 first and last rows."
   ]
  },
  {
   "cell_type": "code",
   "execution_count": 5,
   "metadata": {},
   "outputs": [
    {
     "name": "stdout",
     "output_type": "stream",
     "text": [
      "Number of Visa Applications: 374362\n",
      "Number of Columns: 154\n"
     ]
    }
   ],
   "source": [
    "# Displaying number of rows and columns\n",
    "print('Number of Visa Applications:', len(df))\n",
    "print('Number of Columns:', len(df.columns))"
   ]
  },
  {
   "cell_type": "code",
   "execution_count": 6,
   "metadata": {},
   "outputs": [
    {
     "data": {
      "text/html": [
       "<div>\n",
       "<style scoped>\n",
       "    .dataframe tbody tr th:only-of-type {\n",
       "        vertical-align: middle;\n",
       "    }\n",
       "\n",
       "    .dataframe tbody tr th {\n",
       "        vertical-align: top;\n",
       "    }\n",
       "\n",
       "    .dataframe thead th {\n",
       "        text-align: right;\n",
       "    }\n",
       "</style>\n",
       "<table border=\"1\" class=\"dataframe\">\n",
       "  <thead>\n",
       "    <tr style=\"text-align: right;\">\n",
       "      <th></th>\n",
       "      <th>add_these_pw_job_title_9089</th>\n",
       "      <th>agent_city</th>\n",
       "      <th>agent_firm_name</th>\n",
       "      <th>agent_state</th>\n",
       "      <th>application_type</th>\n",
       "      <th>case_no</th>\n",
       "      <th>case_number</th>\n",
       "      <th>case_received_date</th>\n",
       "      <th>case_status</th>\n",
       "      <th>class_of_admission</th>\n",
       "      <th>...</th>\n",
       "      <th>ri_pvt_employment_firm_to</th>\n",
       "      <th>ri_us_workers_considered</th>\n",
       "      <th>schd_a_sheepherder</th>\n",
       "      <th>us_economic_sector</th>\n",
       "      <th>wage_offer_from_9089</th>\n",
       "      <th>wage_offer_to_9089</th>\n",
       "      <th>wage_offer_unit_of_pay_9089</th>\n",
       "      <th>wage_offered_from_9089</th>\n",
       "      <th>wage_offered_to_9089</th>\n",
       "      <th>wage_offered_unit_of_pay_9089</th>\n",
       "    </tr>\n",
       "  </thead>\n",
       "  <tbody>\n",
       "    <tr>\n",
       "      <th>0</th>\n",
       "      <td>NaN</td>\n",
       "      <td>NaN</td>\n",
       "      <td>NaN</td>\n",
       "      <td>NaN</td>\n",
       "      <td>PERM</td>\n",
       "      <td>A-07323-97014</td>\n",
       "      <td>NaN</td>\n",
       "      <td>NaT</td>\n",
       "      <td>Certified</td>\n",
       "      <td>J-1</td>\n",
       "      <td>...</td>\n",
       "      <td>NaN</td>\n",
       "      <td>NaN</td>\n",
       "      <td>NaN</td>\n",
       "      <td>IT</td>\n",
       "      <td>75629.0</td>\n",
       "      <td>NaN</td>\n",
       "      <td>yr</td>\n",
       "      <td>NaN</td>\n",
       "      <td>NaN</td>\n",
       "      <td>NaN</td>\n",
       "    </tr>\n",
       "    <tr>\n",
       "      <th>1</th>\n",
       "      <td>NaN</td>\n",
       "      <td>NaN</td>\n",
       "      <td>NaN</td>\n",
       "      <td>NaN</td>\n",
       "      <td>PERM</td>\n",
       "      <td>A-07332-99439</td>\n",
       "      <td>NaN</td>\n",
       "      <td>NaT</td>\n",
       "      <td>Denied</td>\n",
       "      <td>B-2</td>\n",
       "      <td>...</td>\n",
       "      <td>NaN</td>\n",
       "      <td>NaN</td>\n",
       "      <td>NaN</td>\n",
       "      <td>Other Economic Sector</td>\n",
       "      <td>37024.0</td>\n",
       "      <td>NaN</td>\n",
       "      <td>yr</td>\n",
       "      <td>NaN</td>\n",
       "      <td>NaN</td>\n",
       "      <td>NaN</td>\n",
       "    </tr>\n",
       "    <tr>\n",
       "      <th>2</th>\n",
       "      <td>NaN</td>\n",
       "      <td>NaN</td>\n",
       "      <td>NaN</td>\n",
       "      <td>NaN</td>\n",
       "      <td>PERM</td>\n",
       "      <td>A-07333-99643</td>\n",
       "      <td>NaN</td>\n",
       "      <td>NaT</td>\n",
       "      <td>Certified</td>\n",
       "      <td>H-1B</td>\n",
       "      <td>...</td>\n",
       "      <td>NaN</td>\n",
       "      <td>NaN</td>\n",
       "      <td>NaN</td>\n",
       "      <td>Aerospace</td>\n",
       "      <td>47923.0</td>\n",
       "      <td>NaN</td>\n",
       "      <td>yr</td>\n",
       "      <td>NaN</td>\n",
       "      <td>NaN</td>\n",
       "      <td>NaN</td>\n",
       "    </tr>\n",
       "    <tr>\n",
       "      <th>3</th>\n",
       "      <td>NaN</td>\n",
       "      <td>NaN</td>\n",
       "      <td>NaN</td>\n",
       "      <td>NaN</td>\n",
       "      <td>PERM</td>\n",
       "      <td>A-07339-01930</td>\n",
       "      <td>NaN</td>\n",
       "      <td>NaT</td>\n",
       "      <td>Certified</td>\n",
       "      <td>B-2</td>\n",
       "      <td>...</td>\n",
       "      <td>NaN</td>\n",
       "      <td>NaN</td>\n",
       "      <td>NaN</td>\n",
       "      <td>Other Economic Sector</td>\n",
       "      <td>10.97</td>\n",
       "      <td>NaN</td>\n",
       "      <td>hr</td>\n",
       "      <td>NaN</td>\n",
       "      <td>NaN</td>\n",
       "      <td>NaN</td>\n",
       "    </tr>\n",
       "    <tr>\n",
       "      <th>4</th>\n",
       "      <td>NaN</td>\n",
       "      <td>NaN</td>\n",
       "      <td>NaN</td>\n",
       "      <td>NaN</td>\n",
       "      <td>PERM</td>\n",
       "      <td>A-07345-03565</td>\n",
       "      <td>NaN</td>\n",
       "      <td>NaT</td>\n",
       "      <td>Certified</td>\n",
       "      <td>L-1</td>\n",
       "      <td>...</td>\n",
       "      <td>NaN</td>\n",
       "      <td>NaN</td>\n",
       "      <td>NaN</td>\n",
       "      <td>Advanced Mfg</td>\n",
       "      <td>100000.0</td>\n",
       "      <td>NaN</td>\n",
       "      <td>yr</td>\n",
       "      <td>NaN</td>\n",
       "      <td>NaN</td>\n",
       "      <td>NaN</td>\n",
       "    </tr>\n",
       "  </tbody>\n",
       "</table>\n",
       "<p>5 rows × 154 columns</p>\n",
       "</div>"
      ],
      "text/plain": [
       "  add_these_pw_job_title_9089 agent_city agent_firm_name agent_state  \\\n",
       "0                         NaN        NaN             NaN         NaN   \n",
       "1                         NaN        NaN             NaN         NaN   \n",
       "2                         NaN        NaN             NaN         NaN   \n",
       "3                         NaN        NaN             NaN         NaN   \n",
       "4                         NaN        NaN             NaN         NaN   \n",
       "\n",
       "  application_type        case_no case_number case_received_date case_status  \\\n",
       "0             PERM  A-07323-97014         NaN                NaT   Certified   \n",
       "1             PERM  A-07332-99439         NaN                NaT      Denied   \n",
       "2             PERM  A-07333-99643         NaN                NaT   Certified   \n",
       "3             PERM  A-07339-01930         NaN                NaT   Certified   \n",
       "4             PERM  A-07345-03565         NaN                NaT   Certified   \n",
       "\n",
       "  class_of_admission              ...               ri_pvt_employment_firm_to  \\\n",
       "0                J-1              ...                                     NaN   \n",
       "1                B-2              ...                                     NaN   \n",
       "2               H-1B              ...                                     NaN   \n",
       "3                B-2              ...                                     NaN   \n",
       "4                L-1              ...                                     NaN   \n",
       "\n",
       "  ri_us_workers_considered schd_a_sheepherder     us_economic_sector  \\\n",
       "0                      NaN                NaN                     IT   \n",
       "1                      NaN                NaN  Other Economic Sector   \n",
       "2                      NaN                NaN              Aerospace   \n",
       "3                      NaN                NaN  Other Economic Sector   \n",
       "4                      NaN                NaN           Advanced Mfg   \n",
       "\n",
       "  wage_offer_from_9089 wage_offer_to_9089 wage_offer_unit_of_pay_9089  \\\n",
       "0              75629.0                NaN                          yr   \n",
       "1              37024.0                NaN                          yr   \n",
       "2              47923.0                NaN                          yr   \n",
       "3                10.97                NaN                          hr   \n",
       "4             100000.0                NaN                          yr   \n",
       "\n",
       "  wage_offered_from_9089 wage_offered_to_9089  wage_offered_unit_of_pay_9089  \n",
       "0                    NaN                  NaN                            NaN  \n",
       "1                    NaN                  NaN                            NaN  \n",
       "2                    NaN                  NaN                            NaN  \n",
       "3                    NaN                  NaN                            NaN  \n",
       "4                    NaN                  NaN                            NaN  \n",
       "\n",
       "[5 rows x 154 columns]"
      ]
     },
     "execution_count": 6,
     "metadata": {},
     "output_type": "execute_result"
    }
   ],
   "source": [
    "# Displaying 5 first rows\n",
    "df.head()"
   ]
  },
  {
   "cell_type": "code",
   "execution_count": 7,
   "metadata": {},
   "outputs": [
    {
     "name": "stdout",
     "output_type": "stream",
     "text": [
      "['add_these_pw_job_title_9089' 'agent_city' 'agent_firm_name'\n",
      " 'agent_state' 'application_type' 'case_no' 'case_number'\n",
      " 'case_received_date' 'case_status' 'class_of_admission'\n",
      " 'country_of_citizenship' 'country_of_citzenship' 'decision_date'\n",
      " 'employer_address_1' 'employer_address_2' 'employer_city'\n",
      " 'employer_country' 'employer_decl_info_title' 'employer_name'\n",
      " 'employer_num_employees' 'employer_phone' 'employer_phone_ext'\n",
      " 'employer_postal_code' 'employer_state' 'employer_yr_estab'\n",
      " 'foreign_worker_info_alt_edu_experience'\n",
      " 'foreign_worker_info_birth_country' 'foreign_worker_info_city'\n",
      " 'foreign_worker_info_education' 'foreign_worker_info_education_other'\n",
      " 'foreign_worker_info_inst' 'foreign_worker_info_major'\n",
      " 'foreign_worker_info_postal_code' 'foreign_worker_info_rel_occup_exp'\n",
      " 'foreign_worker_info_req_experience' 'foreign_worker_info_state'\n",
      " 'foreign_worker_info_training_comp' 'foreign_worker_ownership_interest'\n",
      " 'foreign_worker_yr_rel_edu_completed' 'fw_info_alt_edu_experience'\n",
      " 'fw_info_birth_country' 'fw_info_education_other' 'fw_info_postal_code'\n",
      " 'fw_info_rel_occup_exp' 'fw_info_req_experience' 'fw_info_training_comp'\n",
      " 'fw_info_yr_rel_edu_completed' 'fw_ownership_interest'\n",
      " 'ji_foreign_worker_live_on_premises' 'ji_fw_live_on_premises'\n",
      " 'ji_live_in_dom_svc_contract' 'ji_live_in_domestic_service'\n",
      " 'ji_offered_to_sec_j_foreign_worker' 'ji_offered_to_sec_j_fw'\n",
      " 'job_info_alt_cmb_ed_oth_yrs' 'job_info_alt_combo_ed'\n",
      " 'job_info_alt_combo_ed_exp' 'job_info_alt_combo_ed_other'\n",
      " 'job_info_alt_field' 'job_info_alt_field_name' 'job_info_alt_occ'\n",
      " 'job_info_alt_occ_job_title' 'job_info_alt_occ_num_months'\n",
      " 'job_info_combo_occupation' 'job_info_education'\n",
      " 'job_info_education_other' 'job_info_experience'\n",
      " 'job_info_experience_num_months' 'job_info_foreign_ed'\n",
      " 'job_info_foreign_lang_req' 'job_info_job_req_normal'\n",
      " 'job_info_job_title' 'job_info_major' 'job_info_training'\n",
      " 'job_info_training_field' 'job_info_training_num_months'\n",
      " 'job_info_work_city' 'job_info_work_postal_code' 'job_info_work_state'\n",
      " 'naics_2007_us_code' 'naics_2007_us_title' 'naics_code' 'naics_title'\n",
      " 'naics_us_code' 'naics_us_code_2007' 'naics_us_title'\n",
      " 'naics_us_title_2007' 'orig_case_no' 'orig_file_date'\n",
      " 'preparer_info_emp_completed' 'preparer_info_title' 'pw_amount_9089'\n",
      " 'pw_determ_date' 'pw_expire_date' 'pw_job_title_908' 'pw_job_title_9089'\n",
      " 'pw_level_9089' 'pw_soc_code' 'pw_soc_title' 'pw_source_name_9089'\n",
      " 'pw_source_name_other_9089' 'pw_track_num' 'pw_unit_of_pay_9089'\n",
      " 'rec_info_barg_rep_notified' 'recr_info_barg_rep_notified'\n",
      " 'recr_info_coll_teach_comp_proc' 'recr_info_coll_univ_teacher'\n",
      " 'recr_info_employer_rec_payment' 'recr_info_first_ad_start'\n",
      " 'recr_info_job_fair_from' 'recr_info_job_fair_to'\n",
      " 'recr_info_on_campus_recr_from' 'recr_info_on_campus_recr_to'\n",
      " 'recr_info_pro_org_advert_from' 'recr_info_pro_org_advert_to'\n",
      " 'recr_info_prof_org_advert_from' 'recr_info_prof_org_advert_to'\n",
      " 'recr_info_professional_occ' 'recr_info_radio_tv_ad_from'\n",
      " 'recr_info_radio_tv_ad_to' 'recr_info_second_ad_start'\n",
      " 'recr_info_sunday_newspaper' 'recr_info_swa_job_order_end'\n",
      " 'recr_info_swa_job_order_start' 'refile' 'ri_1st_ad_newspaper_name'\n",
      " 'ri_2nd_ad_newspaper_name' 'ri_2nd_ad_newspaper_or_journal'\n",
      " 'ri_campus_placement_from' 'ri_campus_placement_to'\n",
      " 'ri_coll_tch_basic_process' 'ri_coll_teach_pro_jnl'\n",
      " 'ri_coll_teach_select_date' 'ri_employee_referral_prog_from'\n",
      " 'ri_employee_referral_prog_to' 'ri_employer_web_post_from'\n",
      " 'ri_employer_web_post_to' 'ri_job_search_website_from'\n",
      " 'ri_job_search_website_to' 'ri_layoff_in_past_six_months'\n",
      " 'ri_local_ethnic_paper_from' 'ri_local_ethnic_paper_to'\n",
      " 'ri_posted_notice_at_worksite' 'ri_pvt_employment_firm_from'\n",
      " 'ri_pvt_employment_firm_to' 'ri_us_workers_considered'\n",
      " 'schd_a_sheepherder' 'us_economic_sector' 'wage_offer_from_9089'\n",
      " 'wage_offer_to_9089' 'wage_offer_unit_of_pay_9089'\n",
      " 'wage_offered_from_9089' 'wage_offered_to_9089'\n",
      " 'wage_offered_unit_of_pay_9089']\n"
     ]
    }
   ],
   "source": [
    "print(df.columns.values)"
   ]
  },
  {
   "cell_type": "markdown",
   "metadata": {},
   "source": [
    " case_number & case_no these columns contain similar values and their \"NaN\" values add up to the total number of observations so let's create new column containing only non missing values from both \"case_number\" and \"case_no\" columns and then we will remove them."
   ]
  },
  {
   "cell_type": "code",
   "execution_count": 8,
   "metadata": {},
   "outputs": [],
   "source": [
    "casenoindex = df.columns.get_loc(\"case_no\")\n",
    "casenumberindex = df.columns.get_loc(\"case_number\")\n",
    "casenumberlist = []\n",
    "\n",
    "for value in df.iloc[0:135269,casenoindex]:\n",
    "    casenumberlist.append(value)\n",
    "    \n",
    "for value in df.iloc[135269:374363,casenumberindex]:\n",
    "    casenumberlist.append(value)\n",
    "    \n",
    "df['casenumber'] = casenumberlist\n",
    "df.drop(df.columns[[casenoindex,casenumberindex]], axis=1, inplace=True)"
   ]
  },
  {
   "cell_type": "code",
   "execution_count": 9,
   "metadata": {},
   "outputs": [
    {
     "name": "stdout",
     "output_type": "stream",
     "text": [
      "181933  occurrences of status 'Certified'\n",
      "25649  occurrences of status 'Denied'\n",
      "148586  occurrences of status 'Certified-Expired'\n",
      "18194  occurrences of status 'Withdrawn'\n"
     ]
    }
   ],
   "source": [
    "#Printing number of unique values for 'case_status' column\n",
    "for value in df.case_status.unique():\n",
    "    print(len(df[df['case_status'] == value]),\" occurrences of status '{}'\".format(value))"
   ]
  },
  {
   "cell_type": "code",
   "execution_count": 11,
   "metadata": {},
   "outputs": [
    {
     "data": {
      "text/plain": [
       "add_these_pw_job_title_9089               332168\n",
       "agent_city                                162908\n",
       "agent_firm_name                           167365\n",
       "agent_state                               166123\n",
       "application_type                          239093\n",
       "case_received_date                        135271\n",
       "case_status                                    0\n",
       "class_of_admission                         22845\n",
       "country_of_citizenship                     20633\n",
       "country_of_citzenship                     353788\n",
       "decision_date                                  0\n",
       "employer_address_1                            42\n",
       "employer_address_2                        149193\n",
       "employer_city                                 14\n",
       "employer_country                          135343\n",
       "employer_decl_info_title                  135308\n",
       "employer_name                                 12\n",
       "employer_num_employees                    135349\n",
       "employer_phone                            135305\n",
       "employer_phone_ext                        350901\n",
       "employer_postal_code                          37\n",
       "employer_state                                42\n",
       "employer_yr_estab                         135404\n",
       "foreign_worker_info_alt_edu_experience    285737\n",
       "foreign_worker_info_birth_country         285734\n",
       "foreign_worker_info_city                  135297\n",
       "foreign_worker_info_education             135309\n",
       "foreign_worker_info_education_other       370422\n",
       "foreign_worker_info_inst                  153996\n",
       "foreign_worker_info_major                 154972\n",
       "                                           ...  \n",
       "ri_2nd_ad_newspaper_name                  137666\n",
       "ri_2nd_ad_newspaper_or_journal            141448\n",
       "ri_campus_placement_from                  344359\n",
       "ri_campus_placement_to                    344369\n",
       "ri_coll_tch_basic_process                 367349\n",
       "ri_coll_teach_pro_jnl                     221788\n",
       "ri_coll_teach_select_date                 368632\n",
       "ri_employee_referral_prog_from            305641\n",
       "ri_employee_referral_prog_to              305640\n",
       "ri_employer_web_post_from                 237726\n",
       "ri_employer_web_post_to                   237748\n",
       "ri_job_search_website_from                177571\n",
       "ri_job_search_website_to                  177581\n",
       "ri_layoff_in_past_six_months              135303\n",
       "ri_local_ethnic_paper_from                253481\n",
       "ri_local_ethnic_paper_to                  253481\n",
       "ri_posted_notice_at_worksite              135360\n",
       "ri_pvt_employment_firm_from               357920\n",
       "ri_pvt_employment_firm_to                 357922\n",
       "ri_us_workers_considered                  357129\n",
       "schd_a_sheepherder                        135288\n",
       "us_economic_sector                        245294\n",
       "wage_offer_from_9089                      114771\n",
       "wage_offer_to_9089                        300728\n",
       "wage_offer_unit_of_pay_9089               115916\n",
       "wage_offered_from_9089                    259715\n",
       "wage_offered_to_9089                      343347\n",
       "wage_offered_unit_of_pay_9089             303663\n",
       "casenumber                                     0\n",
       "year                                           0\n",
       "Length: 154, dtype: int64"
      ]
     },
     "execution_count": 11,
     "metadata": {},
     "output_type": "execute_result"
    }
   ],
   "source": [
    "df.isna().sum()"
   ]
  },
  {
   "cell_type": "code",
   "execution_count": 10,
   "metadata": {},
   "outputs": [
    {
     "data": {
      "text/plain": [
       "[Text(0,0.5,'Number of Visa applicatons'), Text(0.5,0,'Visa application year')]"
      ]
     },
     "execution_count": 10,
     "metadata": {},
     "output_type": "execute_result"
    },
    {
     "data": {
      "image/png": "[encoded data removed]",
      "text/plain": [
       "<Figure size 914.4x595.44 with 1 Axes>"
      ]
     },
     "metadata": {},
     "output_type": "display_data"
    }
   ],
   "source": [
    "#Converting the date to contain just the year of application submission\n",
    "df['year'] = df['decision_date'].dt.year\n",
    "\n",
    "#Setting plot parameters\n",
    "fig, ax = plt.subplots()\n",
    "fig.set_size_inches(12.7, 8.27)\n",
    "sns.set_context(rc={\"font.size\":12})\n",
    "sns.countplot(x=\"year\", hue=\"case_status\", data=df)\n",
    "ax.set(xlabel='Visa application year', ylabel='Number of Visa applicatons')"
   ]
  },
  {
   "cell_type": "markdown",
   "metadata": {},
   "source": [
    "As we can observe, the number of submitted Visa applications increases every year. It's interesting that while the number of possitively considered applications increases, the number of \"Denied\" ones seems to be similar from year 2013. As a next step, let's see, what where the most popular cities."
   ]
  },
  {
   "cell_type": "code",
   "execution_count": 12,
   "metadata": {},
   "outputs": [
    {
     "data": {
      "text/plain": [
       "NEW YORK           17989\n",
       "COLLEGE STATION    12121\n",
       "SANTA CLARA        11195\n",
       "SAN JOSE            9503\n",
       "REDMOND             8821\n",
       "MOUNTAIN VIEW       8363\n",
       "HOUSTON             7066\n",
       "SAN FRANCISCO       6676\n",
       "SUNNYVALE           6344\n",
       "PLANO               5957\n",
       "CHICAGO             5934\n",
       "SEATTLE             5207\n",
       "LOS ANGELES         4337\n",
       "EDISON              4280\n",
       "DALLAS              3916\n",
       "Name: employer_city, dtype: int64"
      ]
     },
     "execution_count": 12,
     "metadata": {},
     "output_type": "execute_result"
    }
   ],
   "source": [
    "# Displaying 15 most popular cities\n",
    "df['employer_city'] = df['employer_city'].str.upper()\n",
    "df['employer_city'].value_counts().head(15)"
   ]
  },
  {
   "cell_type": "code",
   "execution_count": 13,
   "metadata": {},
   "outputs": [
    {
     "data": {
      "text/plain": [
       "[Text(0,0.5,'Number of Visa applications'), Text(0.5,0,'Employer city')]"
      ]
     },
     "execution_count": 13,
     "metadata": {},
     "output_type": "execute_result"
    },
    {
     "data": {
      "image/png": "[encoded data removed]",
      "text/plain": [
       "<Figure size 986.4x595.44 with 1 Axes>"
      ]
     },
     "metadata": {},
     "output_type": "display_data"
    }
   ],
   "source": [
    "# Setting plot parameters\n",
    "fig, ax = plt.subplots()\n",
    "fig.set_size_inches(13.7, 8.27)\n",
    "sns.set_context(\"paper\", rc={\"font.size\":12,\"axes.titlesize\":12,\"axes.labelsize\":12})\n",
    "sns.countplot(x='employer_city', hue='year', data=df, order=df.employer_city.value_counts().iloc[:10].index)\n",
    "plt.xticks(rotation=90)\n",
    "ax.set(xlabel='Employer city', ylabel='Number of Visa applications')"
   ]
  },
  {
   "cell_type": "markdown",
   "metadata": {},
   "source": [
    "In the last few years, the most popular destination cities were: New York, College Station, Santa Clara, San Jose, Redmond, Mountain View, Houston, SunnyVale, San Francisco and Plano. In most of the cities there was a positive trend in Visa applications. A bizarre situation occured in College Station in 2015 where the number of submitted Visa applications was more or less twice large as in other cities.\n",
    "\n",
    "Now, let's take a look what were the most hiring employers and economic sectors through these years. For \"us_economic_sector\" variable we have only 120 868 non-missing values, but this should give us an insight."
   ]
  },
  {
   "cell_type": "code",
   "execution_count": 14,
   "metadata": {
    "scrolled": true
   },
   "outputs": [
    {
     "data": {
      "text/plain": [
       "[Text(0,0.5,'Number of Visa applications'), Text(0.5,0,'Employer name')]"
      ]
     },
     "execution_count": 14,
     "metadata": {},
     "output_type": "execute_result"
    },
    {
     "data": {
      "image/png": "[encoded data removed]",
      "text/plain": [
       "<Figure size 914.4x595.44 with 1 Axes>"
      ]
     },
     "metadata": {},
     "output_type": "display_data"
    }
   ],
   "source": [
    "#Setting plot parameters\n",
    "fig, ax = plt.subplots()\n",
    "fig.set_size_inches(12.7, 8.27)\n",
    "sns.set_context(rc={\"font.size\":12,\"axes.labelsize\":13})\n",
    "sns.countplot(x='employer_name', data=df, palette = sns.cubehelix_palette(8, start=.5, rot=-.75), order=df.employer_name.value_counts().iloc[:10].index)\n",
    "plt.xticks(rotation=90)\n",
    "\n",
    "#Iterating over elements in \"employer_name\" column and displaying counts above bars \n",
    "for i, v in df.employer_name.value_counts().head(10).reset_index().iterrows():\n",
    "    ax.text(i,v.employer_name,v.unique()[1], horizontalalignment='center',verticalalignment='bottom')\n",
    "    \n",
    "ax.set(xlabel='Employer name', ylabel='Number of Visa applications')"
   ]
  },
  {
   "cell_type": "markdown",
   "metadata": {},
   "source": [
    "As we can see, 9 out of 10 most beneficial companies for Visa applicants are IT industry representatives. This leads to the assumption that IT sector is both most favourable and demanding one in United States. Let's check what is the distribution of industries across all Visa applications."
   ]
  },
  {
   "cell_type": "code",
   "execution_count": 15,
   "metadata": {},
   "outputs": [
    {
     "data": {
      "text/plain": [
       "Software Engineer                   14827\n",
       "Computer Systems Analyst - V         4755\n",
       "Senior Software Engineer             3925\n",
       "Computer Systems Analyst - II        3434\n",
       "Software Developer                   3013\n",
       "Assistant Professor                  2674\n",
       "Programmer Analyst                   2640\n",
       "Computer Systems Analyst - IV        2501\n",
       "Systems Analyst                      2093\n",
       "Poultry Processing Worker            1987\n",
       "Software Development Engineer II     1656\n",
       "Poultry Processor                    1179\n",
       "Component Design Engineer            1129\n",
       "software engineer                    1009\n",
       "Business Analyst                     1006\n",
       "SOFTWARE ENGINEER                     903\n",
       "Senior Programmer Analyst             877\n",
       "Sr. Software Engineer                 874\n",
       "Commercial Cleaner                    862\n",
       "Senior Software Developer             839\n",
       "Name: job_info_job_title, dtype: int64"
      ]
     },
     "execution_count": 15,
     "metadata": {},
     "output_type": "execute_result"
    }
   ],
   "source": [
    "df['job_info_job_title'].value_counts()[:20]"
   ]
  },
  {
   "cell_type": "markdown",
   "metadata": {},
   "source": [
    "Since our column contains job titles with different letter casing we need to standarize them so that value_counts() method will be able to count them more appropriately. Also, there are lots of same positions like \"Computer Systems Analyst\" which differ only by the number standing after hyphen so we will split these titles by finding the '-', 'ii' and '/' signs and leaving only the left side of the splitting result. Afterwards, we are going to remove leading and ending spaces, replace \"sr.\" with \"senior\" values and get rid of 'nan's."
   ]
  },
  {
   "cell_type": "code",
   "execution_count": 16,
   "metadata": {},
   "outputs": [
    {
     "data": {
      "text/plain": [
       "software engineer                19211\n",
       "computer systems analyst         12138\n",
       "senior software engineer          5978\n",
       "software developer                4721\n",
       "programmer analyst                3918\n",
       "assistant professor               2952\n",
       "software development engineer     2814\n",
       "systems analyst                   2670\n",
       "poultry processing worker         1989\n",
       "senior programmer analyst         1930\n",
       "Name: job_info_job_title, dtype: int64"
      ]
     },
     "execution_count": 16,
     "metadata": {},
     "output_type": "execute_result"
    }
   ],
   "source": [
    "#Converting values to lower case\n",
    "df['job_info_job_title'] = df['job_info_job_title'].str.lower()\n",
    "\n",
    "#Splitting job titles by '-'\n",
    "df['job_info_job_title'] = df['job_info_job_title'].astype(str).str.split('-').str[0]\n",
    "#Splitting job titles by 'ii'\n",
    "df['job_info_job_title'] = df['job_info_job_title'].astype(str).str.split('ii').str[0]\n",
    "#Splitting job titles by '/'\n",
    "df['job_info_job_title'] = df['job_info_job_title'].astype(str).str.split('/').str[0]\n",
    "#Removing leading and ending spaces\n",
    "df['job_info_job_title'] = df['job_info_job_title'].astype(str).str.strip()\n",
    "#Replacing \"sr.\" values with \"senior\"\n",
    "df['job_info_job_title'] = df['job_info_job_title'].str.replace('sr.', 'senior')\n",
    "#Replacing \"NaN\", \"NaT\" and \"nan\" values with np.nan\n",
    "df['job_info_job_title'].replace([\"NaN\", 'NaT','nan'], np.nan, inplace = True)\n",
    "\n",
    "\n",
    "df['job_info_job_title'].value_counts(dropna=True)[:10]"
   ]
  },
  {
   "cell_type": "code",
   "execution_count": 17,
   "metadata": {},
   "outputs": [
    {
     "data": {
      "text/plain": [
       "[Text(0,0.5,'Number of Visa applications'), Text(0.5,0,'Job Title')]"
      ]
     },
     "execution_count": 17,
     "metadata": {},
     "output_type": "execute_result"
    },
    {
     "data": {
      "image/png": "[encoded data removed]",
      "text/plain": [
       "<Figure size 914.4x595.44 with 1 Axes>"
      ]
     },
     "metadata": {},
     "output_type": "display_data"
    }
   ],
   "source": [
    "#Setting plot parameters\n",
    "fig, ax = plt.subplots()\n",
    "fig.set_size_inches(12.7, 8.27)\n",
    " #sns.set_context(rc={\"font.size\":14, \"axes.labelsize\":12})\n",
    "sns.countplot(x='job_info_job_title',data=df, \n",
    "               palette = sns.diverging_palette(255, 133, l=60, n=10, center=\"dark\"), \n",
    "               order=df.job_info_job_title.value_counts().iloc[:10].index)\n",
    "plt.xticks(rotation=90)\n",
    "\n",
    "#Iterating over elements in \"job_info_job_title\" column and displaying counts above bars \n",
    "for i, v in df.job_info_job_title.value_counts().head(10).reset_index().iterrows():\n",
    "    ax.text(i,v.job_info_job_title,v.unique()[1], horizontalalignment='center',verticalalignment='bottom')\n",
    "\n",
    "#Setting label titles    \n",
    "ax.set(xlabel='Job Title', ylabel='Number of Visa applications')"
   ]
  },
  {
   "cell_type": "markdown",
   "metadata": {},
   "source": [
    "Interestingely, all of the most popular positions except \"assistant professor\" are derived from the IT industry. This is another confirmation that there is a huge demand for IT specialists in USA and being one of them increases our chances to obtain a permanent Visa."
   ]
  },
  {
   "cell_type": "code",
   "execution_count": 18,
   "metadata": {},
   "outputs": [
    {
     "data": {
      "text/plain": [
       "[Text(0,0.5,'Number of Visa applications'),\n",
       " Text(0.5,0,'Country of citizenship')]"
      ]
     },
     "execution_count": 18,
     "metadata": {},
     "output_type": "execute_result"
    },
    {
     "data": {
      "image/png": "[encoded data removed]",
      "text/plain": [
       "<Figure size 914.4x595.44 with 1 Axes>"
      ]
     },
     "metadata": {},
     "output_type": "display_data"
    }
   ],
   "source": [
    "#Setting plot parameters\n",
    "fig, ax = plt.subplots()\n",
    "fig.set_size_inches(12.7, 8.27)\n",
    "sns.set_context(rc={\"font.size\":14, \"axes.labelsize\":12})\n",
    "sns.countplot(x='country_of_citizenship',hue='case_status',data=df, \n",
    "              palette = sns.diverging_palette(255, 133, l=60, n=7, center=\"dark\"), \n",
    "              order=df.country_of_citizenship.value_counts().iloc[:7].index)\n",
    "plt.xticks(rotation=90)\n",
    "\n",
    "#Iterating over elements in \"country_of_citizenship\" column and displaying counts above bars \n",
    "for i, v in df.country_of_citizenship.value_counts().head(7).reset_index().iterrows():\n",
    "    ax.text(i,v.country_of_citizenship,v.unique()[1], horizontalalignment='right',verticalalignment='bottom')\n",
    "\n",
    "#Setting label titles    \n",
    "ax.set(xlabel='Country of citizenship', ylabel='Number of Visa applications')"
   ]
  },
  {
   "cell_type": "markdown",
   "metadata": {},
   "source": [
    "As we can see, the majority of Visa applications has been submitted by Indian citizens. They constitute to more than half of our observations, we can assume that most of them are computer specialists."
   ]
  },
  {
   "cell_type": "code",
   "execution_count": 19,
   "metadata": {},
   "outputs": [
    {
     "data": {
      "text/plain": [
       "[Text(0,0.5,'Number of Visa applications'), Text(0.5,0,'Visa type')]"
      ]
     },
     "execution_count": 19,
     "metadata": {},
     "output_type": "execute_result"
    },
    {
     "data": {
      "image/png": "[encoded data removed]",
      "text/plain": [
       "<Figure size 914.4x595.44 with 1 Axes>"
      ]
     },
     "metadata": {},
     "output_type": "display_data"
    }
   ],
   "source": [
    "#Setting plot parameters\n",
    "fig, ax = plt.subplots()\n",
    "fig.set_size_inches(12.7, 8.27)\n",
    "sns.countplot(x='class_of_admission',data=df, \n",
    "              order=df.class_of_admission.value_counts().iloc[:10].index)\n",
    "plt.xticks(rotation=90)\n",
    "\n",
    "#Iterating over elements in \"class_of_admission\" column and displaying counts above bars \n",
    "for i, v in df.class_of_admission.value_counts().head(10).reset_index().iterrows():\n",
    "    ax.text(i,v.class_of_admission,v.unique()[1], horizontalalignment='center',verticalalignment='bottom')\n",
    "    \n",
    "ax.set(xlabel='Visa type', ylabel='Number of Visa applications')"
   ]
  },
  {
   "cell_type": "markdown",
   "metadata": {},
   "source": [
    "The vast majority of petitioners were applying for the H-1B Visa, which according to the Wikipedia, allows U.S. employers to employ foreign workers in specialty occupations. If a foreign worker in H-1B status quits or is dismissed from the sponsoring employer, the worker must either apply for and be granted a change of status, find another employer (subject to application for adjustment of status and/or change of visa), or leave the United States.\n",
    "\n",
    "Finally, let's try checking on the number and kind of application types. Unfortunately, our data consists only of 126 848 non-missing values for this attribute, but this should give us a general overview."
   ]
  },
  {
   "cell_type": "code",
   "execution_count": 20,
   "metadata": {},
   "outputs": [
    {
     "data": {
      "text/plain": [
       "[Text(0,0.5,'Number of Visa applications'), Text(0.5,0,'Application type')]"
      ]
     },
     "execution_count": 20,
     "metadata": {},
     "output_type": "execute_result"
    },
    {
     "data": {
      "image/png": "[encoded data removed]",
      "text/plain": [
       "<Figure size 770.4x523.44 with 1 Axes>"
      ]
     },
     "metadata": {},
     "output_type": "display_data"
    }
   ],
   "source": [
    "#Setting plot parameters\n",
    "fig, ax = plt.subplots()\n",
    "fig.set_size_inches(10.7, 7.27)\n",
    "sns.countplot(x='application_type', data=df, palette = sns.color_palette(\"GnBu_d\"), order=df.application_type.value_counts().iloc[:10].index)\n",
    "\n",
    "#Iterating over elements in \"application_type\" column and displaying counts above bars \n",
    "for i, v in df.application_type.value_counts().head(10).reset_index().iterrows():\n",
    "    ax.text(i,v.application_type,v.unique()[1], horizontalalignment='center',verticalalignment='bottom')\n",
    "    \n",
    "ax.set(xlabel='Application type', ylabel='Number of Visa applications')"
   ]
  },
  {
   "cell_type": "markdown",
   "metadata": {},
   "source": [
    "Online submission was the most popular form of application type. Here, we can also find \"PERM\" value which is probably incorrect. My assumtion is that some petitioners thought about this form field as a distinction between \"temporary\" and \"permanent\" Visa type. The last plotting activity will be displaying the applicants education level and remuneration."
   ]
  },
  {
   "cell_type": "code",
   "execution_count": 21,
   "metadata": {},
   "outputs": [
    {
     "data": {
      "text/plain": [
       "[Text(0,0.5,'Number of Visa applications'), Text(0.5,0,'Education level')]"
      ]
     },
     "execution_count": 21,
     "metadata": {},
     "output_type": "execute_result"
    },
    {
     "data": {
      "image/png": "[encoded data removed]",
      "text/plain": [
       "<Figure size 914.4x595.44 with 1 Axes>"
      ]
     },
     "metadata": {},
     "output_type": "display_data"
    }
   ],
   "source": [
    "#Setting plot parameters\n",
    "fig, ax = plt.subplots()\n",
    "fig.set_size_inches(12.7, 8.27)\n",
    " #sns.set_context(rc={\"font.size\":14, \"axes.labelsize\":12})\n",
    "sns.countplot(x='foreign_worker_info_education',data=df, \n",
    "               palette = sns.color_palette(\"Paired\"), \n",
    "               order=df.foreign_worker_info_education.value_counts().iloc[:10].index)\n",
    "\n",
    "#Iterating over elements in \"job_info_job_title\" column and displaying counts above bars \n",
    "for i, v in df.foreign_worker_info_education.value_counts().head(10).reset_index().iterrows():\n",
    "    ax.text(i,v.foreign_worker_info_education,v.unique()[1], horizontalalignment='center',verticalalignment='bottom')\n",
    "\n",
    "#Setting label titles    \n",
    "ax.set(xlabel='Education level', ylabel='Number of Visa applications')"
   ]
  },
  {
   "cell_type": "markdown",
   "metadata": {},
   "source": [
    "As we can see, over 50% of applicants obtained a university degree. Before plotting the remuneration, we will remove commas from the values so that they are left only with decimal places denoted. Also, since some of the wages are hourly, weekly, bi-weekly and monthly values, we have to calculate the yearly equivalents for them. "
   ]
  },
  {
   "cell_type": "code",
   "execution_count": 22,
   "metadata": {},
   "outputs": [
    {
     "data": {
      "text/html": [
       "<div>\n",
       "<style scoped>\n",
       "    .dataframe tbody tr th:only-of-type {\n",
       "        vertical-align: middle;\n",
       "    }\n",
       "\n",
       "    .dataframe tbody tr th {\n",
       "        vertical-align: top;\n",
       "    }\n",
       "\n",
       "    .dataframe thead th {\n",
       "        text-align: right;\n",
       "    }\n",
       "</style>\n",
       "<table border=\"1\" class=\"dataframe\">\n",
       "  <thead>\n",
       "    <tr style=\"text-align: right;\">\n",
       "      <th></th>\n",
       "      <th>pw_amount_9089</th>\n",
       "      <th>pw_unit_of_pay_9089</th>\n",
       "    </tr>\n",
       "  </thead>\n",
       "  <tbody>\n",
       "    <tr>\n",
       "      <th>0</th>\n",
       "      <td>75629.0</td>\n",
       "      <td>yr</td>\n",
       "    </tr>\n",
       "    <tr>\n",
       "      <th>1</th>\n",
       "      <td>37024.0</td>\n",
       "      <td>yr</td>\n",
       "    </tr>\n",
       "    <tr>\n",
       "      <th>2</th>\n",
       "      <td>47923.0</td>\n",
       "      <td>yr</td>\n",
       "    </tr>\n",
       "    <tr>\n",
       "      <th>3</th>\n",
       "      <td>10.97</td>\n",
       "      <td>hr</td>\n",
       "    </tr>\n",
       "    <tr>\n",
       "      <th>4</th>\n",
       "      <td>94890.0</td>\n",
       "      <td>yr</td>\n",
       "    </tr>\n",
       "    <tr>\n",
       "      <th>5</th>\n",
       "      <td>37024.0</td>\n",
       "      <td>yr</td>\n",
       "    </tr>\n",
       "    <tr>\n",
       "      <th>6</th>\n",
       "      <td>47083.33</td>\n",
       "      <td>yr</td>\n",
       "    </tr>\n",
       "    <tr>\n",
       "      <th>7</th>\n",
       "      <td>36733.0</td>\n",
       "      <td>yr</td>\n",
       "    </tr>\n",
       "    <tr>\n",
       "      <th>8</th>\n",
       "      <td>44824.0</td>\n",
       "      <td>yr</td>\n",
       "    </tr>\n",
       "    <tr>\n",
       "      <th>9</th>\n",
       "      <td>12.86</td>\n",
       "      <td>hr</td>\n",
       "    </tr>\n",
       "  </tbody>\n",
       "</table>\n",
       "</div>"
      ],
      "text/plain": [
       "  pw_amount_9089 pw_unit_of_pay_9089\n",
       "0        75629.0                  yr\n",
       "1        37024.0                  yr\n",
       "2        47923.0                  yr\n",
       "3          10.97                  hr\n",
       "4        94890.0                  yr\n",
       "5        37024.0                  yr\n",
       "6       47083.33                  yr\n",
       "7        36733.0                  yr\n",
       "8        44824.0                  yr\n",
       "9          12.86                  hr"
      ]
     },
     "execution_count": 22,
     "metadata": {},
     "output_type": "execute_result"
    }
   ],
   "source": [
    "df[['pw_amount_9089','pw_unit_of_pay_9089']].head(10)"
   ]
  },
  {
   "cell_type": "code",
   "execution_count": 23,
   "metadata": {},
   "outputs": [
    {
     "data": {
      "text/html": [
       "<div>\n",
       "<style scoped>\n",
       "    .dataframe tbody tr th:only-of-type {\n",
       "        vertical-align: middle;\n",
       "    }\n",
       "\n",
       "    .dataframe tbody tr th {\n",
       "        vertical-align: top;\n",
       "    }\n",
       "\n",
       "    .dataframe thead th {\n",
       "        text-align: right;\n",
       "    }\n",
       "</style>\n",
       "<table border=\"1\" class=\"dataframe\">\n",
       "  <thead>\n",
       "    <tr style=\"text-align: right;\">\n",
       "      <th></th>\n",
       "      <th>pw_amount_9089</th>\n",
       "      <th>pw_unit_of_pay_9089</th>\n",
       "    </tr>\n",
       "  </thead>\n",
       "  <tbody>\n",
       "    <tr>\n",
       "      <th>0</th>\n",
       "      <td>75629.00</td>\n",
       "      <td>Year</td>\n",
       "    </tr>\n",
       "    <tr>\n",
       "      <th>1</th>\n",
       "      <td>37024.00</td>\n",
       "      <td>Year</td>\n",
       "    </tr>\n",
       "    <tr>\n",
       "      <th>2</th>\n",
       "      <td>47923.00</td>\n",
       "      <td>Year</td>\n",
       "    </tr>\n",
       "    <tr>\n",
       "      <th>3</th>\n",
       "      <td>21940.00</td>\n",
       "      <td>Year</td>\n",
       "    </tr>\n",
       "    <tr>\n",
       "      <th>4</th>\n",
       "      <td>94890.00</td>\n",
       "      <td>Year</td>\n",
       "    </tr>\n",
       "    <tr>\n",
       "      <th>5</th>\n",
       "      <td>37024.00</td>\n",
       "      <td>Year</td>\n",
       "    </tr>\n",
       "    <tr>\n",
       "      <th>6</th>\n",
       "      <td>47083.33</td>\n",
       "      <td>Year</td>\n",
       "    </tr>\n",
       "    <tr>\n",
       "      <th>7</th>\n",
       "      <td>36733.00</td>\n",
       "      <td>Year</td>\n",
       "    </tr>\n",
       "    <tr>\n",
       "      <th>8</th>\n",
       "      <td>44824.00</td>\n",
       "      <td>Year</td>\n",
       "    </tr>\n",
       "    <tr>\n",
       "      <th>9</th>\n",
       "      <td>25720.00</td>\n",
       "      <td>Year</td>\n",
       "    </tr>\n",
       "  </tbody>\n",
       "</table>\n",
       "</div>"
      ],
      "text/plain": [
       "   pw_amount_9089 pw_unit_of_pay_9089\n",
       "0        75629.00                Year\n",
       "1        37024.00                Year\n",
       "2        47923.00                Year\n",
       "3        21940.00                Year\n",
       "4        94890.00                Year\n",
       "5        37024.00                Year\n",
       "6        47083.33                Year\n",
       "7        36733.00                Year\n",
       "8        44824.00                Year\n",
       "9        25720.00                Year"
      ]
     },
     "execution_count": 23,
     "metadata": {},
     "output_type": "execute_result"
    }
   ],
   "source": [
    "#Replacing commas with whitespace character\n",
    "df['pw_amount_9089'] = df['pw_amount_9089'].str.replace(\",\",\"\") \n",
    "\n",
    "for unit in df.pw_unit_of_pay_9089.unique():\n",
    "    if unit == \"hr\" or unit == \"Hour\":\n",
    "        df.loc[df['pw_unit_of_pay_9089'] == unit, 'pw_amount_9089'] = df['pw_amount_9089'].apply(lambda x: float(x) * 8 * 250)\n",
    "        df.loc[df['pw_unit_of_pay_9089'] == unit, 'pw_unit_of_pay_9089'] = df['pw_unit_of_pay_9089'].replace(to_replace = unit, value = \"Year\") \n",
    "    elif unit == \"wk\" or unit == \"Week\":\n",
    "        df.loc[df['pw_unit_of_pay_9089'] == unit, 'pw_amount_9089'] = df['pw_amount_9089'].apply(lambda x: float(x) * 50)\n",
    "        df.loc[df['pw_unit_of_pay_9089'] == unit, 'pw_unit_of_pay_9089'] = df['pw_unit_of_pay_9089'].replace(to_replace = unit, value = \"Year\")\n",
    "    elif unit == \"mth\" or unit == \"Month\":\n",
    "        df.loc[df['pw_unit_of_pay_9089'] == unit, 'pw_amount_9089'] = df['pw_amount_9089'].apply(lambda x: float(x) * 12)\n",
    "        df.loc[df['pw_unit_of_pay_9089'] == unit, 'pw_unit_of_pay_9089'] = df['pw_unit_of_pay_9089'].replace(to_replace = unit, value = \"Year\")\n",
    "    elif unit == \"bi\" or unit == \"Bi-Weekly\":  \n",
    "        df.loc[df['pw_unit_of_pay_9089'] == unit, 'pw_amount_9089'] = df['pw_amount_9089'].apply(lambda x: float(x) * 25)\n",
    "        df.loc[df['pw_unit_of_pay_9089'] == unit, 'pw_unit_of_pay_9089'] = df['pw_unit_of_pay_9089'].replace(to_replace = unit, value = \"Year\")\n",
    "    elif unit ==\"yr\":\n",
    "         df.loc[df['pw_unit_of_pay_9089'] == unit ,'pw_unit_of_pay_9089'] = df['pw_unit_of_pay_9089'].replace(to_replace = unit, value = \"Year\")\n",
    "    else:\n",
    "        continue\n",
    "        \n",
    "#Filling missing values with median \n",
    "df['pw_amount_9089']= df['pw_amount_9089'].fillna((df['pw_amount_9089'].median()))\n",
    "\n",
    "#Changing format from string to float\n",
    "df['pw_amount_9089'] = df.pw_amount_9089.astype(float)\n",
    "\n",
    "#Displaying 10 first values\n",
    "df[['pw_amount_9089','pw_unit_of_pay_9089']].head(10)"
   ]
  },
  {
   "cell_type": "code",
   "execution_count": 24,
   "metadata": {},
   "outputs": [
    {
     "name": "stdout",
     "output_type": "stream",
     "text": [
      "count      374362.00\n",
      "mean       476666.47\n",
      "std       7749169.18\n",
      "min             7.50\n",
      "25%         67308.80\n",
      "50%         86154.00\n",
      "75%        104666.00\n",
      "max     495748000.00\n",
      "Name: pw_amount_9089, dtype: float64\n"
     ]
    }
   ],
   "source": [
    "#Since running \"describe\" method on \"pw_amount_9089\" column returned exponential values, I decided to \n",
    "#convert them to floats so that they are easier to understand\n",
    "with pd.option_context('float_format', '{:.2f}'.format): print(df.pw_amount_9089.describe())"
   ]
  },
  {
   "cell_type": "code",
   "execution_count": 25,
   "metadata": {},
   "outputs": [
    {
     "data": {
      "text/plain": [
       "0-30k        22035\n",
       "30-60k       50217\n",
       "60-90k      139278\n",
       "90-120k     117579\n",
       "120-150k     31931\n",
       "150-180k      7420\n",
       "180-210k      4007\n",
       "210-240k       638\n",
       "240-270k        30\n",
       "270k+         1226\n",
       "Name: remuneration, dtype: int64"
      ]
     },
     "execution_count": 25,
     "metadata": {},
     "output_type": "execute_result"
    }
   ],
   "source": [
    "#Dividing our continuous income values into some categories to facilitate their visualization\n",
    "df['remuneration'] = pd.cut(df['pw_amount_9089'], [0, 30000, 60000,90000,120000,150000,180000,210000,240000,270000,495748000], right=False, labels=[\"0-30k\", \"30-60k\",\"60-90k\",\"90-120k\",\"120-150k\",\"150-180k\",\"180-210k\",\"210-240k\",\"240-270k\",\"270k+\"])\n",
    "salary = df['remuneration'].value_counts()\n",
    "salary.iloc[np.argsort(salary.index)]"
   ]
  },
  {
   "cell_type": "code",
   "execution_count": 26,
   "metadata": {},
   "outputs": [
    {
     "data": {
      "text/plain": [
       "<seaborn.axisgrid.FacetGrid at 0x2040bafd518>"
      ]
     },
     "execution_count": 26,
     "metadata": {},
     "output_type": "execute_result"
    },
    {
     "data": {
      "image/png": "[encoded data removed]",
      "text/plain": [
       "<Figure size 777.6x648 with 1 Axes>"
      ]
     },
     "metadata": {},
     "output_type": "display_data"
    }
   ],
   "source": [
    "# Draw a count plot to show the distribution of remunerations\n",
    "g = sns.factorplot(x='remuneration', data=df, kind=\"count\",\n",
    "                   palette=\"BuPu\", size=9, aspect=1.2)\n",
    "\n",
    "g.set(xlabel='Remuneration', ylabel='Number of applicants')"
   ]
  },
  {
   "cell_type": "markdown",
   "metadata": {},
   "source": [
    "As we can see, over 65% of the applicants earn between 60 and 120 thousand dollars yearly. From this moment, we will start working on the feature selection and data cleansing."
   ]
  },
  {
   "cell_type": "code",
   "execution_count": 27,
   "metadata": {},
   "outputs": [
    {
     "name": "stdout",
     "output_type": "stream",
     "text": [
      "0 Column: 'add_these_pw_job_title_9089' contains  11.27 % non-null values\n",
      "1 Column: 'agent_city' contains  56.48 % non-null values\n",
      "2 Column: 'agent_firm_name' contains  55.29 % non-null values\n",
      "3 Column: 'agent_state' contains  55.63 % non-null values\n",
      "4 Column: 'application_type' contains  36.13 % non-null values\n",
      "5 Column: 'case_received_date' contains  63.87 % non-null values\n",
      "6 Column: 'case_status' contains  100.0 % non-null values\n",
      "7 Column: 'class_of_admission' contains  93.9 % non-null values\n",
      "8 Column: 'country_of_citizenship' contains  94.49 % non-null values\n",
      "9 Column: 'country_of_citzenship' contains  5.5 % non-null values\n",
      "10 Column: 'decision_date' contains  100.0 % non-null values\n",
      "11 Column: 'employer_address_1' contains  99.99 % non-null values\n",
      "12 Column: 'employer_address_2' contains  60.15 % non-null values\n",
      "13 Column: 'employer_city' contains  100.0 % non-null values\n",
      "14 Column: 'employer_country' contains  63.85 % non-null values\n",
      "15 Column: 'employer_decl_info_title' contains  63.86 % non-null values\n",
      "16 Column: 'employer_name' contains  100.0 % non-null values\n",
      "17 Column: 'employer_num_employees' contains  63.85 % non-null values\n",
      "18 Column: 'employer_phone' contains  63.86 % non-null values\n",
      "19 Column: 'employer_phone_ext' contains  6.27 % non-null values\n",
      "20 Column: 'employer_postal_code' contains  99.99 % non-null values\n",
      "21 Column: 'employer_state' contains  99.99 % non-null values\n",
      "22 Column: 'employer_yr_estab' contains  63.83 % non-null values\n",
      "23 Column: 'foreign_worker_info_alt_edu_experience' contains  23.67 % non-null values\n",
      "24 Column: 'foreign_worker_info_birth_country' contains  23.67 % non-null values\n",
      "25 Column: 'foreign_worker_info_city' contains  63.86 % non-null values\n",
      "26 Column: 'foreign_worker_info_education' contains  63.86 % non-null values\n",
      "27 Column: 'foreign_worker_info_education_other' contains  1.05 % non-null values\n",
      "28 Column: 'foreign_worker_info_inst' contains  58.86 % non-null values\n",
      "29 Column: 'foreign_worker_info_major' contains  58.6 % non-null values\n",
      "30 Column: 'foreign_worker_info_postal_code' contains  22.94 % non-null values\n",
      "31 Column: 'foreign_worker_info_rel_occup_exp' contains  23.68 % non-null values\n",
      "32 Column: 'foreign_worker_info_req_experience' contains  23.68 % non-null values\n",
      "33 Column: 'foreign_worker_info_state' contains  59.27 % non-null values\n",
      "34 Column: 'foreign_worker_info_training_comp' contains  23.68 % non-null values\n",
      "35 Column: 'foreign_worker_ownership_interest' contains  23.68 % non-null values\n",
      "36 Column: 'foreign_worker_yr_rel_edu_completed' contains  22.27 % non-null values\n",
      "37 Column: 'fw_info_alt_edu_experience' contains  40.19 % non-null values\n",
      "38 Column: 'fw_info_birth_country' contains  40.18 % non-null values\n",
      "39 Column: 'fw_info_education_other' contains  40.07 % non-null values\n",
      "40 Column: 'fw_info_postal_code' contains  39.59 % non-null values\n",
      "41 Column: 'fw_info_rel_occup_exp' contains  40.19 % non-null values\n",
      "42 Column: 'fw_info_req_experience' contains  40.19 % non-null values\n",
      "43 Column: 'fw_info_training_comp' contains  40.19 % non-null values\n",
      "44 Column: 'fw_info_yr_rel_edu_completed' contains  36.65 % non-null values\n",
      "45 Column: 'fw_ownership_interest' contains  40.19 % non-null values\n",
      "46 Column: 'ji_foreign_worker_live_on_premises' contains  23.68 % non-null values\n",
      "47 Column: 'ji_fw_live_on_premises' contains  40.19 % non-null values\n",
      "48 Column: 'ji_live_in_dom_svc_contract' contains  0.64 % non-null values\n",
      "49 Column: 'ji_live_in_domestic_service' contains  63.86 % non-null values\n",
      "50 Column: 'ji_offered_to_sec_j_foreign_worker' contains  23.68 % non-null values\n",
      "51 Column: 'ji_offered_to_sec_j_fw' contains  40.19 % non-null values\n",
      "52 Column: 'job_info_alt_cmb_ed_oth_yrs' contains  18.76 % non-null values\n",
      "53 Column: 'job_info_alt_combo_ed' contains  18.84 % non-null values\n",
      "54 Column: 'job_info_alt_combo_ed_exp' contains  63.86 % non-null values\n",
      "55 Column: 'job_info_alt_combo_ed_other' contains  2.46 % non-null values\n",
      "56 Column: 'job_info_alt_field' contains  63.86 % non-null values\n",
      "57 Column: 'job_info_alt_field_name' contains  24.96 % non-null values\n",
      "58 Column: 'job_info_alt_occ' contains  39.81 % non-null values\n",
      "59 Column: 'job_info_alt_occ_job_title' contains  39.37 % non-null values\n",
      "60 Column: 'job_info_alt_occ_num_months' contains  39.32 % non-null values\n",
      "61 Column: 'job_info_combo_occupation' contains  63.86 % non-null values\n",
      "62 Column: 'job_info_education' contains  63.86 % non-null values\n",
      "63 Column: 'job_info_education_other' contains  2.08 % non-null values\n",
      "64 Column: 'job_info_experience' contains  63.86 % non-null values\n",
      "65 Column: 'job_info_experience_num_months' contains  35.58 % non-null values\n",
      "66 Column: 'job_info_foreign_ed' contains  63.81 % non-null values\n",
      "67 Column: 'job_info_foreign_lang_req' contains  63.86 % non-null values\n",
      "68 Column: 'job_info_job_req_normal' contains  63.86 % non-null values\n",
      "69 Column: 'job_info_job_title' contains  63.86 % non-null values\n",
      "70 Column: 'job_info_major' contains  56.8 % non-null values\n",
      "71 Column: 'job_info_training' contains  63.86 % non-null values\n",
      "72 Column: 'job_info_training_field' contains  1.2 % non-null values\n",
      "73 Column: 'job_info_training_num_months' contains  1.28 % non-null values\n",
      "74 Column: 'job_info_work_city' contains  99.97 % non-null values\n",
      "75 Column: 'job_info_work_postal_code' contains  63.84 % non-null values\n",
      "76 Column: 'job_info_work_state' contains  99.97 % non-null values\n",
      "77 Column: 'naics_2007_us_code' contains  5.48 % non-null values\n",
      "78 Column: 'naics_2007_us_title' contains  5.32 % non-null values\n",
      "79 Column: 'naics_code' contains  23.62 % non-null values\n",
      "80 Column: 'naics_title' contains  23.62 % non-null values\n",
      "81 Column: 'naics_us_code' contains  40.1 % non-null values\n",
      "82 Column: 'naics_us_code_2007' contains  30.53 % non-null values\n",
      "83 Column: 'naics_us_title' contains  40.1 % non-null values\n",
      "84 Column: 'naics_us_title_2007' contains  29.72 % non-null values\n",
      "85 Column: 'orig_case_no' contains  0.08 % non-null values\n",
      "86 Column: 'orig_file_date' contains  0.08 % non-null values\n",
      "87 Column: 'preparer_info_emp_completed' contains  63.86 % non-null values\n",
      "88 Column: 'preparer_info_title' contains  56.17 % non-null values\n",
      "89 Column: 'pw_amount_9089' contains  100.0 % non-null values\n",
      "90 Column: 'pw_determ_date' contains  63.78 % non-null values\n",
      "91 Column: 'pw_expire_date' contains  63.76 % non-null values\n",
      "92 Column: 'pw_job_title_908' contains  40.17 % non-null values\n",
      "93 Column: 'pw_job_title_9089' contains  59.73 % non-null values\n",
      "94 Column: 'pw_level_9089' contains  92.62 % non-null values\n",
      "95 Column: 'pw_soc_code' contains  99.89 % non-null values\n",
      "96 Column: 'pw_soc_title' contains  99.38 % non-null values\n",
      "97 Column: 'pw_source_name_9089' contains  99.44 % non-null values\n",
      "98 Column: 'pw_source_name_other_9089' contains  4.21 % non-null values\n",
      "99 Column: 'pw_track_num' contains  63.34 % non-null values\n",
      "100 Column: 'pw_unit_of_pay_9089' contains  99.58 % non-null values\n",
      "101 Column: 'rec_info_barg_rep_notified' contains  23.66 % non-null values\n",
      "102 Column: 'recr_info_barg_rep_notified' contains  40.18 % non-null values\n",
      "103 Column: 'recr_info_coll_teach_comp_proc' contains  1.88 % non-null values\n",
      "104 Column: 'recr_info_coll_univ_teacher' contains  63.86 % non-null values\n",
      "105 Column: 'recr_info_employer_rec_payment' contains  63.86 % non-null values\n",
      "106 Column: 'recr_info_first_ad_start' contains  62.22 % non-null values\n",
      "107 Column: 'recr_info_job_fair_from' contains  0.48 % non-null values\n",
      "108 Column: 'recr_info_job_fair_to' contains  0.48 % non-null values\n",
      "109 Column: 'recr_info_on_campus_recr_from' contains  0.5 % non-null values\n",
      "110 Column: 'recr_info_on_campus_recr_to' contains  0.5 % non-null values\n",
      "111 Column: 'recr_info_pro_org_advert_from' contains  3.76 % non-null values\n",
      "112 Column: 'recr_info_pro_org_advert_to' contains  3.76 % non-null values\n",
      "113 Column: 'recr_info_prof_org_advert_from' contains  7.5 % non-null values\n",
      "114 Column: 'recr_info_prof_org_advert_to' contains  7.5 % non-null values\n",
      "115 Column: 'recr_info_professional_occ' contains  63.86 % non-null values\n",
      "116 Column: 'recr_info_radio_tv_ad_from' contains  5.44 % non-null values\n",
      "117 Column: 'recr_info_radio_tv_ad_to' contains  5.44 % non-null values\n",
      "118 Column: 'recr_info_second_ad_start' contains  62.21 % non-null values\n"
     ]
    },
    {
     "name": "stdout",
     "output_type": "stream",
     "text": [
      "119 Column: 'recr_info_sunday_newspaper' contains  62.25 % non-null values\n",
      "120 Column: 'recr_info_swa_job_order_end' contains  62.21 % non-null values\n",
      "121 Column: 'recr_info_swa_job_order_start' contains  62.22 % non-null values\n",
      "122 Column: 'refile' contains  31.54 % non-null values\n",
      "123 Column: 'ri_1st_ad_newspaper_name' contains  63.24 % non-null values\n",
      "124 Column: 'ri_2nd_ad_newspaper_name' contains  63.23 % non-null values\n",
      "125 Column: 'ri_2nd_ad_newspaper_or_journal' contains  62.22 % non-null values\n",
      "126 Column: 'ri_campus_placement_from' contains  8.01 % non-null values\n",
      "127 Column: 'ri_campus_placement_to' contains  8.01 % non-null values\n",
      "128 Column: 'ri_coll_tch_basic_process' contains  1.87 % non-null values\n",
      "129 Column: 'ri_coll_teach_pro_jnl' contains  40.76 % non-null values\n",
      "130 Column: 'ri_coll_teach_select_date' contains  1.53 % non-null values\n",
      "131 Column: 'ri_employee_referral_prog_from' contains  18.36 % non-null values\n",
      "132 Column: 'ri_employee_referral_prog_to' contains  18.36 % non-null values\n",
      "133 Column: 'ri_employer_web_post_from' contains  36.5 % non-null values\n",
      "134 Column: 'ri_employer_web_post_to' contains  36.49 % non-null values\n",
      "135 Column: 'ri_job_search_website_from' contains  52.57 % non-null values\n",
      "136 Column: 'ri_job_search_website_to' contains  52.56 % non-null values\n",
      "137 Column: 'ri_layoff_in_past_six_months' contains  63.86 % non-null values\n",
      "138 Column: 'ri_local_ethnic_paper_from' contains  32.29 % non-null values\n",
      "139 Column: 'ri_local_ethnic_paper_to' contains  32.29 % non-null values\n",
      "140 Column: 'ri_posted_notice_at_worksite' contains  63.84 % non-null values\n",
      "141 Column: 'ri_pvt_employment_firm_from' contains  4.39 % non-null values\n",
      "142 Column: 'ri_pvt_employment_firm_to' contains  4.39 % non-null values\n",
      "143 Column: 'ri_us_workers_considered' contains  4.6 % non-null values\n",
      "144 Column: 'schd_a_sheepherder' contains  63.86 % non-null values\n",
      "145 Column: 'us_economic_sector' contains  34.48 % non-null values\n",
      "146 Column: 'wage_offer_from_9089' contains  69.34 % non-null values\n",
      "147 Column: 'wage_offer_to_9089' contains  19.67 % non-null values\n",
      "148 Column: 'wage_offer_unit_of_pay_9089' contains  69.04 % non-null values\n",
      "149 Column: 'wage_offered_from_9089' contains  30.62 % non-null values\n",
      "150 Column: 'wage_offered_to_9089' contains  8.28 % non-null values\n",
      "151 Column: 'wage_offered_unit_of_pay_9089' contains  18.89 % non-null values\n",
      "152 Column: 'casenumber' contains  100.0 % non-null values\n",
      "153 Column: 'year' contains  100.0 % non-null values\n",
      "154 Column: 'remuneration' contains  100.0 % non-null values\n"
     ]
    }
   ],
   "source": [
    "#Displaying percentage of non-null values for each feature\n",
    "i = 0;\n",
    "for col in df.columns:\n",
    "    i = i+1;\n",
    "    print (i-1,\"Column: '{}'\".format(col),\"contains \", np.round(100*df[col].count()/len(df['case_status']),decimals=2),\"% non-null values\" )"
   ]
  },
  {
   "cell_type": "code",
   "execution_count": null,
   "metadata": {},
   "outputs": [],
   "source": []
  }
 ],
 "metadata": {
  "kernelspec": {
   "display_name": "Python 3",
   "language": "python",
   "name": "python3"
  },
  "language_info": {
   "codemirror_mode": {
    "name": "ipython",
    "version": 3
   },
   "file_extension": ".py",
   "mimetype": "text/x-python",
   "name": "python",
   "nbconvert_exporter": "python",
   "pygments_lexer": "ipython3",
   "version": "3.6.5"
  }
 },
 "nbformat": 4,
 "nbformat_minor": 2
}
