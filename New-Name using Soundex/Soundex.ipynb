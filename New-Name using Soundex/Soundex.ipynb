{
 "cells": [
  {
   "cell_type": "code",
   "execution_count": 1,
   "metadata": {},
   "outputs": [],
   "source": [
    "import pandas as pd\n",
    "import numpy as np\n",
    "import difflib"
   ]
  },
  {
   "cell_type": "code",
   "execution_count": 2,
   "metadata": {},
   "outputs": [],
   "source": [
    "def soundex(name):\n",
    "\n",
    "    \"\"\"\n",
    "    The Soundex algorithm assigns a 1-letter + 3-digit code to strings,\n",
    "    the intention being that strings pronounced the same but spelled\n",
    "    differently have identical encodings; words pronounced similarly\n",
    "    should have similar encodings.\n",
    "    \"\"\"\n",
    "\n",
    "    soundexcoding = [' ', ' ', ' ', ' ']\n",
    "    soundexcodingindex = 1\n",
    "\n",
    "    #           ABCDEFGHIJKLMNOPQRSTUVWXYZ\n",
    "    mappings = \"01230120022455012623010202\"\n",
    "\n",
    "    soundexcoding[0] = name[0].upper()\n",
    "\n",
    "    for i in range(1, len(name)):\n",
    "        c = ord(name[i].upper()) - 65\n",
    "        if c >= 0 and c <= 25:\n",
    "            if mappings[c] != '0':\n",
    "                if mappings[c] != soundexcoding[soundexcodingindex-1]:\n",
    "                    soundexcoding[soundexcodingindex] = mappings[c]\n",
    "                    soundexcodingindex += 1\n",
    "\n",
    "                if soundexcodingindex > 3:\n",
    "                    break\n",
    "\n",
    "    if soundexcodingindex <= 3:\n",
    "        while(soundexcodingindex <= 3):\n",
    "            soundexcoding[soundexcodingindex] = '0'\n",
    "            soundexcodingindex += 1\n",
    "\n",
    "    return ''.join(soundexcoding)"
   ]
  },
  {
   "cell_type": "code",
   "execution_count": 3,
   "metadata": {},
   "outputs": [],
   "source": [
    "with open('Boys.txt', 'r') as f:\n",
    "    boy_names = f.read().splitlines()\n",
    "with open('Girls.txt', 'r') as f:\n",
    "    girl_names = f.read().splitlines()"
   ]
  },
  {
   "cell_type": "code",
   "execution_count": 4,
   "metadata": {},
   "outputs": [],
   "source": [
    "boys_score = []\n",
    "for name in boy_names:\n",
    "    boys_score.append(soundex(name))\n",
    "girls_score = []\n",
    "for name in girl_names:\n",
    "    girls_score.append(soundex(name))   "
   ]
  },
  {
   "cell_type": "code",
   "execution_count": 5,
   "metadata": {},
   "outputs": [],
   "source": [
    "boy_df = pd.DataFrame({'names':boy_names,'score':boys_score})\n",
    "girl_df = pd.DataFrame({'names':girl_names,'score':girls_score})"
   ]
  },
  {
   "cell_type": "code",
   "execution_count": 37,
   "metadata": {},
   "outputs": [],
   "source": [
    "def find_similar_name(name,gender):\n",
    "    if gender in ['m','M','male','MALE','Male']:\n",
    "        temp_score = soundex(name)\n",
    "        if temp_score in list(boy_df['score']):\n",
    "            return(list(boy_df['names'].loc[boy_df['score'] == temp_score]))\n",
    "        elif difflib.get_close_matches(name,list(boy_df['names'])):\n",
    "            return(difflib.get_close_matches(name,list(boy_df['names'])))\n",
    "        else:\n",
    "            return(name[:4])\n",
    "        \n",
    "    if gender in ['f','F','female','FEMALE','Female']:\n",
    "        temp_score = soundex(name)\n",
    "        if temp_score in list(girl_df['score']):\n",
    "            return(list(girl_df['names'].loc[girl_df['score'] == temp_score]))\n",
    "        else:\n",
    "            return(difflib.get_close_matches(name,list(girl_df['names'])))"
   ]
  },
  {
   "cell_type": "code",
   "execution_count": 72,
   "metadata": {},
   "outputs": [
    {
     "name": "stdout",
     "output_type": "stream",
     "text": [
      "Male/Female: male\n",
      "Enter Name: vaibhavi\n",
      "vaib\n"
     ]
    }
   ],
   "source": [
    "if __name__ == '__main__':\n",
    "    gender = input('Male/Female: ')\n",
    "    name = input('Enter Name: ')\n",
    "    print(find_similar_name(name,gender))"
   ]
  },
  {
   "cell_type": "code",
   "execution_count": null,
   "metadata": {},
   "outputs": [],
   "source": []
  }
 ],
 "metadata": {
  "kernelspec": {
   "display_name": "Python 3",
   "language": "python",
   "name": "python3"
  },
  "language_info": {
   "codemirror_mode": {
    "name": "ipython",
    "version": 3
   },
   "file_extension": ".py",
   "mimetype": "text/x-python",
   "name": "python",
   "nbconvert_exporter": "python",
   "pygments_lexer": "ipython3",
   "version": "3.6.5"
  }
 },
 "nbformat": 4,
 "nbformat_minor": 2
}
