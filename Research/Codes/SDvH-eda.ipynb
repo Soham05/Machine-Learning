{
 "cells": [
  {
   "cell_type": "code",
   "execution_count": 38,
   "id": "a9018645-f5db-4b90-971a-79b0f6267e8a",
   "metadata": {},
   "outputs": [],
   "source": [
    "from google.cloud import storage\n",
    "import pandas as pd\n",
    "import dask.dataframe as dd\n",
    "import gcsfs\n",
    "import io\n",
    "import re\n",
    "import warnings\n",
    "warnings.filterwarnings(\"ignore\")"
   ]
  },
  {
   "cell_type": "code",
   "execution_count": 39,
   "id": "0f584662-eacc-417d-8990-345705787879",
   "metadata": {
    "tags": []
   },
   "outputs": [],
   "source": [
    "storage_client = storage.Client()\n",
    "bucket_name = \"smtcmp-genai-data-hcb-dev\"  # Replace with your bucket name\n",
    "storage_bucket = storage_client.get_bucket(bucket_name)\n",
    "fs = gcsfs.GCSFileSystem(project='anbc-hcb-dev')"
   ]
  },
  {
   "cell_type": "markdown",
   "id": "89aed345-62b6-42c0-b7cc-090aea368ca2",
   "metadata": {},
   "source": [
    "## Readmission EDA"
   ]
  },
  {
   "cell_type": "code",
   "execution_count": 40,
   "id": "0127901f-d955-4afb-ad53-098bd05d35ec",
   "metadata": {
    "tags": []
   },
   "outputs": [],
   "source": [
    "with fs.open('gs://smtcmp-genai-data-hcb-dev/HPD Analytics/Hospitals/Readmission_Deaths/04_2025_FY_2025_Hospital_Readmissions_Reduction_Program_Hospital.csv') as f:\n",
    "    readmission_df = pd.read_csv(f)"
   ]
  },
  {
   "cell_type": "code",
   "execution_count": 41,
   "id": "816c491b-a809-4bb9-8330-cc1463718f47",
   "metadata": {
    "tags": []
   },
   "outputs": [
    {
     "name": "stdout",
     "output_type": "stream",
     "text": [
      "\n",
      "1. DATASET OVERVIEW:\n",
      "Total rows: 18,510\n",
      "Total columns: 12\n",
      "Dataset shape: (18510, 12)\n",
      "Columns Name and Types: Facility Name                  object\n",
      "Facility ID                     int64\n",
      "State                          object\n",
      "Measure Name                   object\n",
      "Number of Discharges          float64\n",
      "Footnote                      float64\n",
      "Excess Readmission Ratio      float64\n",
      "Predicted Readmission Rate    float64\n",
      "Expected Readmission Rate     float64\n",
      "Number of Readmissions         object\n",
      "Start Date                     object\n",
      "End Date                       object\n",
      "dtype: object\n"
     ]
    }
   ],
   "source": [
    "print(\"\\n1. DATASET OVERVIEW:\")\n",
    "print(f\"Total rows: {len(readmission_df):,}\")\n",
    "print(f\"Total columns: {readmission_df.shape[1]}\")\n",
    "print(f\"Dataset shape: {readmission_df.shape}\")\n",
    "print(f\"Columns Name and Types: {readmission_df.dtypes}\")"
   ]
  },
  {
   "cell_type": "code",
   "execution_count": 42,
   "id": "d9635eda-9704-4b45-a604-735b9afe442f",
   "metadata": {
    "tags": []
   },
   "outputs": [],
   "source": [
    "#How many unique hospitals"
   ]
  },
  {
   "cell_type": "code",
   "execution_count": 43,
   "id": "e33a67ab-8680-494b-908f-256280ff9dea",
   "metadata": {
    "tags": []
   },
   "outputs": [
    {
     "name": "stdout",
     "output_type": "stream",
     "text": [
      "Number of unique hospitals 3085\n"
     ]
    }
   ],
   "source": [
    "unquie_hospitals = readmission_df['Facility ID'].nunique()\n",
    "print(\"Number of unique hospitals\",unquie_hospitals)"
   ]
  },
  {
   "cell_type": "code",
   "execution_count": 44,
   "id": "20d00103-8292-49c7-b343-6cf4e5e96e63",
   "metadata": {
    "tags": []
   },
   "outputs": [],
   "source": [
    "#What are the unique measure name values"
   ]
  },
  {
   "cell_type": "code",
   "execution_count": 45,
   "id": "2f8c4a2e-d18f-46d8-8f0f-c4bcbeaff87a",
   "metadata": {
    "tags": []
   },
   "outputs": [
    {
     "name": "stdout",
     "output_type": "stream",
     "text": [
      "n4. ALL READMISSION MEASURES\n",
      "NUmber of unique measure: 6\n",
      "List of all measure:\n",
      " 1. READM-30-AMI-HRRP (n=3,085 hospitals)\n",
      " 2. READM-30-CABG-HRRP (n=3,085 hospitals)\n",
      " 3. READM-30-COPD-HRRP (n=3,085 hospitals)\n",
      " 4. READM-30-HF-HRRP (n=3,085 hospitals)\n",
      " 5. READM-30-HIP-KNEE-HRRP (n=3,085 hospitals)\n",
      " 6. READM-30-PN-HRRP (n=3,085 hospitals)\n"
     ]
    }
   ],
   "source": [
    "print(\"n4. ALL READMISSION MEASURES\")\n",
    "unique_measures = readmission_df['Measure Name'].unique()\n",
    "print(f\"NUmber of unique measure: {len(unique_measures)}\")\n",
    "print(\"List of all measure:\")\n",
    "for i,measure in enumerate(sorted(unique_measures),1):\n",
    "    measure_count = readmission_df[readmission_df['Measure Name']==measure].shape[0]\n",
    "    print(f\"{i:2d}. {measure} (n={measure_count:,} hospitals)\")"
   ]
  },
  {
   "cell_type": "code",
   "execution_count": 46,
   "id": "702c54f7-9aee-4c1d-b8c3-3bcd2bc645c0",
   "metadata": {
    "tags": []
   },
   "outputs": [
    {
     "name": "stdout",
     "output_type": "stream",
     "text": [
      "\n",
      "5 STATE DISTRIBUTION:\n",
      "NUmber of States: 51\n",
      "Top 10 states by number of hospital-measure combinations: State\n",
      "TX    1704\n",
      "CA    1674\n",
      "FL    1002\n",
      "PA     804\n",
      "NY     792\n",
      "OH     714\n",
      "IL     696\n",
      "GA     576\n",
      "MI     546\n",
      "NC     492\n",
      "Name: count, dtype: int64\n"
     ]
    }
   ],
   "source": [
    "#State Distribution\n",
    "print(f\"\\n5 STATE DISTRIBUTION:\")\n",
    "state_counts = readmission_df['State'].value_counts()\n",
    "print(f\"NUmber of States: {len(state_counts)}\")\n",
    "print(f\"Top 10 states by number of hospital-measure combinations: {state_counts.head(10)}\")"
   ]
  },
  {
   "cell_type": "code",
   "execution_count": 47,
   "id": "92f49870-a368-4891-be0f-fe7536fc8cee",
   "metadata": {
    "tags": []
   },
   "outputs": [],
   "source": [
    "#Missing Value Analysis"
   ]
  },
  {
   "cell_type": "code",
   "execution_count": 48,
   "id": "27320662-b0ab-400b-aaa9-638a3d840634",
   "metadata": {
    "tags": []
   },
   "outputs": [
    {
     "name": "stdout",
     "output_type": "stream",
     "text": [
      "\n",
      "6 MISSING VALUE ANALYSIS:\n",
      "                            Missing Count  Missing Percent\n",
      "Number of Discharges                10170            54.94\n",
      "Footnote                            11927            64.44\n",
      "Excess Readmission Ratio             6583            35.56\n",
      "Predicted Readmission Rate           6583            35.56\n",
      "Expected Readmission Rate            6583            35.56\n",
      "Number of Readmissions               6583            35.56\n"
     ]
    }
   ],
   "source": [
    "print(f\"\\n6 MISSING VALUE ANALYSIS:\")\n",
    "missing_summary = readmission_df.isnull().sum()\n",
    "missing_percet = missing_summary/len(readmission_df) * 100\n",
    "missing_df = pd.DataFrame({'Missing Count': missing_summary,'Missing Percent': missing_percet.round(2)})\n",
    "print(missing_df[missing_df['Missing Count']>0])"
   ]
  },
  {
   "cell_type": "code",
   "execution_count": 49,
   "id": "b5e8d177-1fd3-40de-ad3d-b2598448e6d7",
   "metadata": {
    "tags": []
   },
   "outputs": [
    {
     "name": "stdout",
     "output_type": "stream",
     "text": [
      "\n",
      "7. KEY NUMERIC VARIABLES SUMMARY:\n",
      "\n",
      "Number of Discharges:\n",
      "  Mean: 279.2699\n",
      "  Median: 197.0000\n",
      "  Min: 0.0000\n",
      "  Max: 4501.0000\n",
      "  Missing: 10170\n",
      "\n",
      "Excess Readmission Ratio:\n",
      "  Mean: 1.0017\n",
      "  Median: 0.9982\n",
      "  Min: 0.4779\n",
      "  Max: 1.6430\n",
      "  Missing: 6583\n",
      "\n",
      "Predicted Readmission Rate:\n",
      "  Mean: 14.9954\n",
      "  Median: 16.0602\n",
      "  Min: 1.6742\n",
      "  Max: 27.8095\n",
      "  Missing: 6583\n",
      "\n",
      "Expected Readmission Rate:\n",
      "  Mean: 14.9612\n",
      "  Median: 16.1460\n",
      "  Min: 2.8921\n",
      "  Max: 25.3942\n",
      "  Missing: 6583\n",
      "\n",
      "Number of Readmissions:\n",
      "  Mean: 48.0749\n",
      "  Median: 31.0000\n",
      "  Min: 11.0000\n",
      "  Max: 877.0000\n",
      "  Missing: 10389\n"
     ]
    }
   ],
   "source": [
    "# 7. Key numeric variables summary\n",
    "print(\"\\n7. KEY NUMERIC VARIABLES SUMMARY:\")\n",
    "numeric_cols = ['Number of Discharges', 'Excess Readmission Ratio', \n",
    "                'Predicted Readmission Rate', 'Expected Readmission Rate', \n",
    "                'Number of Readmissions']\n",
    "\n",
    "for col in numeric_cols:\n",
    "    if col in readmission_df.columns:\n",
    "        # Convert to numeric, handling any non-numeric values\n",
    "        readmission_df[col] = pd.to_numeric(readmission_df[col], errors='coerce')\n",
    "        print(f\"\\n{col}:\")\n",
    "        print(f\"  Mean: {readmission_df[col].mean():.4f}\")\n",
    "        print(f\"  Median: {readmission_df[col].median():.4f}\")\n",
    "        print(f\"  Min: {readmission_df[col].min():.4f}\")\n",
    "        print(f\"  Max: {readmission_df[col].max():.4f}\")\n",
    "        print(f\"  Missing: {readmission_df[col].isnull().sum()}\")"
   ]
  },
  {
   "cell_type": "code",
   "execution_count": 50,
   "id": "62b7f2c1-5cbd-4181-9e30-252d31c624df",
   "metadata": {
    "tags": []
   },
   "outputs": [
    {
     "name": "stdout",
     "output_type": "stream",
     "text": [
      "\n",
      "9. HOSPITAL MEASURE COVERAGE:\n",
      "Average measures per hospital: 6.00\n",
      "Min measures per hospital: 6\n",
      "Max measures per hospital: 6\n"
     ]
    }
   ],
   "source": [
    "# 9. Check for hospitals with multiple measures\n",
    "print(\"\\n9. HOSPITAL MEASURE COVERAGE:\")\n",
    "hospital_measure_counts = readmission_df.groupby('Facility ID')['Measure Name'].count()\n",
    "print(f\"Average measures per hospital: {hospital_measure_counts.mean():.2f}\")\n",
    "print(f\"Min measures per hospital: {hospital_measure_counts.min()}\")\n",
    "print(f\"Max measures per hospital: {hospital_measure_counts.max()}\")"
   ]
  },
  {
   "cell_type": "code",
   "execution_count": 51,
   "id": "09b630f4-318f-4f0c-a959-c47814ba1985",
   "metadata": {
    "tags": []
   },
   "outputs": [
    {
     "name": "stdout",
     "output_type": "stream",
     "text": [
      "\n",
      "10. TIME PERIOD VERIFICATION:\n",
      "Start dates: ['07/01/2020']\n",
      "End dates: ['06/30/2023']\n"
     ]
    }
   ],
   "source": [
    "# 10. Time period verification\n",
    "print(\"\\n10. TIME PERIOD VERIFICATION:\")\n",
    "print(f\"Start dates: {readmission_df['Start Date'].unique()}\")\n",
    "print(f\"End dates: {readmission_df['End Date'].unique()}\")"
   ]
  },
  {
   "cell_type": "code",
   "execution_count": 52,
   "id": "e0054b2f-ce92-4f72-b8fc-071238fc9d6f",
   "metadata": {
    "tags": []
   },
   "outputs": [
    {
     "name": "stdout",
     "output_type": "stream",
     "text": [
      "\n",
      "11. FOOTNOTE ANALYSIS:\n",
      "Footnote distribution:\n",
      "Footnote\n",
      "5.0    3272\n",
      "1.0    3092\n",
      "7.0     219\n",
      "Name: count, dtype: int64\n"
     ]
    }
   ],
   "source": [
    "# 11. Check for any footnote patterns\n",
    "print(\"\\n11. FOOTNOTE ANALYSIS:\")\n",
    "if 'Footnote' in readmission_df.columns:\n",
    "    footnote_counts = readmission_df['Footnote'].value_counts()\n",
    "    print(\"Footnote distribution:\")\n",
    "    print(footnote_counts.head(10))"
   ]
  },
  {
   "cell_type": "code",
   "execution_count": 53,
   "id": "67a8334f-4a24-4008-abc1-ef018b2186cc",
   "metadata": {
    "tags": []
   },
   "outputs": [
    {
     "name": "stdout",
     "output_type": "stream",
     "text": [
      "Missing data by measure:\n",
      "                        count  size  missing  missing_pct\n",
      "Measure Name                                             \n",
      "READM-30-PN-HRRP         2731  3085      354    11.474878\n",
      "READM-30-HF-HRRP         2638  3085      447    14.489465\n",
      "READM-30-COPD-HRRP       2324  3085      761    24.667747\n",
      "READM-30-AMI-HRRP        1763  3085     1322    42.852512\n",
      "READM-30-HIP-KNEE-HRRP   1588  3085     1497    48.525122\n",
      "READM-30-CABG-HRRP        883  3085     2202    71.377634\n"
     ]
    }
   ],
   "source": [
    "#Analyze missing data measure\n",
    "# Analyze missing data by measure\n",
    "missing_by_measure = readmission_df.groupby('Measure Name')['Excess Readmission Ratio'].agg(['count', 'size'])\n",
    "missing_by_measure['missing'] = missing_by_measure['size'] - missing_by_measure['count']\n",
    "missing_by_measure['missing_pct'] = (missing_by_measure['missing'] / missing_by_measure['size']) * 100\n",
    "print(\"Missing data by measure:\")\n",
    "print(missing_by_measure.sort_values('missing_pct'))"
   ]
  },
  {
   "cell_type": "code",
   "execution_count": 54,
   "id": "aa49ee00-62a8-472f-ac07-2ba4e1214a19",
   "metadata": {
    "tags": []
   },
   "outputs": [],
   "source": [
    "readmission_df.to_csv('readmission_processed.csv', index=False)\n",
    "#print(f\"\\nProcessed data saved to: county_health_combined_processed.csv\")"
   ]
  },
  {
   "cell_type": "markdown",
   "id": "d33db80c-408a-47e1-b91e-2531a2cb1185",
   "metadata": {},
   "source": [
    "## County Health Data"
   ]
  },
  {
   "cell_type": "code",
   "execution_count": 55,
   "id": "9b0f5c0f-2683-4288-88bd-cbfaa18e6132",
   "metadata": {
    "tags": []
   },
   "outputs": [],
   "source": [
    "with fs.open('gs://smtcmp-genai-data-hcb-dev/HPD Analytics/County-Health-Ranking/County_Health_Ranking_2020.csv') as f:\n",
    "    countyh_df_20 = pd.read_csv(f)\n",
    "# Use first row as column names\n",
    "countyh_df_20 = countyh_df_20.drop(countyh_df_20.index[0]).reset_index(drop=True)\n",
    "\n",
    "\n",
    "with fs.open('gs://smtcmp-genai-data-hcb-dev/HPD Analytics/County-Health-Ranking/County_Health_Ranking_2021.csv') as f:\n",
    "    countyh_df_21 = pd.read_csv(f)\n",
    "# Use first row as column names\n",
    "countyh_df_21 = countyh_df_21.drop(countyh_df_21.index[0]).reset_index(drop=True)\n",
    "\n",
    "\n",
    "with fs.open('gs://smtcmp-genai-data-hcb-dev/HPD Analytics/County-Health-Ranking/County_Health_Ranking_2022.csv') as f:\n",
    "    countyh_df_22 = pd.read_csv(f)\n",
    "# Use first row as column names\n",
    "countyh_df_22 = countyh_df_22.drop(countyh_df_22.index[0]).reset_index(drop=True)    \n",
    "\n",
    "with fs.open('gs://smtcmp-genai-data-hcb-dev/HPD Analytics/County-Health-Ranking/County_Health_Ranking_2023.csv') as f:\n",
    "    countyh_df_23 = pd.read_csv(f)\n",
    "# Use first row as column names\n",
    "countyh_df_23 = countyh_df_23.drop(countyh_df_23.index[0]).reset_index(drop=True)\n",
    "\n",
    "with fs.open('gs://smtcmp-genai-data-hcb-dev/HPD Analytics/County-Health-Ranking/County_Health_Ranking_2024.csv') as f:\n",
    "    countyh_df_24 = pd.read_csv(f)\n",
    "# Use first row as column names\n",
    "countyh_df_24 = countyh_df_24.drop(countyh_df_24.index[0]).reset_index(drop=True)\n",
    "\n",
    "with fs.open('gs://smtcmp-genai-data-hcb-dev/HPD Analytics/County-Health-Ranking/County_Health_Ranking_2025.csv') as f:\n",
    "    countyh_df_25 = pd.read_csv(f)\n",
    "\n",
    "# Use first row as column names\n",
    "countyh_df_25 = countyh_df_25.drop(countyh_df_25.index[0]).reset_index(drop=True)"
   ]
  },
  {
   "cell_type": "code",
   "execution_count": 56,
   "id": "7673ef23-67d5-4029-9ed3-6f79d9ed8221",
   "metadata": {
    "tags": []
   },
   "outputs": [],
   "source": [
    "def clean_columns (df: pd.DataFrame):\n",
    "    \n",
    "    cleaned_columns = []\n",
    "    for col in df.columns:\n",
    "        if pd.isna(col):\n",
    "            cleaned_columns.append('unnamed_column')\n",
    "        else:\n",
    "            clean_col = str(col).lower()\n",
    "            clean_col = re.sub(r'[/\\.&\\-\\s\\(\\)\\,\\\\#\\+\\=\\[\\]]+', '_', clean_col)\n",
    "            clean_col = re.sub(r'_+', '_', clean_col)\n",
    "            clean_col = clean_col.strip('_')\n",
    "            cleaned_columns.append(clean_col)\n",
    "\n",
    "    df.columns = cleaned_columns\n",
    "    return df"
   ]
  },
  {
   "cell_type": "code",
   "execution_count": 57,
   "id": "7de12736-430d-4901-a283-d77a042b80a5",
   "metadata": {
    "tags": []
   },
   "outputs": [],
   "source": [
    "countyh_df_20_clean = clean_columns(countyh_df_20)\n",
    "countyh_df_21_clean = clean_columns(countyh_df_21)\n",
    "countyh_df_22_clean = clean_columns(countyh_df_22)\n",
    "countyh_df_23_clean = clean_columns(countyh_df_23)\n",
    "countyh_df_24_clean = clean_columns(countyh_df_24)\n",
    "countyh_df_25_clean = clean_columns(countyh_df_25)"
   ]
  },
  {
   "cell_type": "code",
   "execution_count": 58,
   "id": "96e63979-e8c6-4bf0-a261-c2e44ee75fcc",
   "metadata": {
    "tags": []
   },
   "outputs": [
    {
     "name": "stdout",
     "output_type": "stream",
     "text": [
      "County Health 2020 shape: (3194, 786)\n",
      "County Health 2021 shape: (3194, 690)\n",
      "County Health 2022 shape: (3194, 725)\n",
      "County Health 2023 shape: (3194, 720)\n",
      "County Health 2024 shape: (3195, 770)\n",
      "County Health 2025 shape: (3204, 796)\n"
     ]
    }
   ],
   "source": [
    "print(f\"County Health 2020 shape: {countyh_df_20_clean.shape}\")\n",
    "print(f\"County Health 2021 shape: {countyh_df_21_clean.shape}\")\n",
    "print(f\"County Health 2022 shape: {countyh_df_22_clean.shape}\")\n",
    "print(f\"County Health 2023 shape: {countyh_df_23_clean.shape}\")\n",
    "print(f\"County Health 2024 shape: {countyh_df_24_clean.shape}\")\n",
    "print(f\"County Health 2025 shape: {countyh_df_25_clean.shape}\")"
   ]
  },
  {
   "cell_type": "code",
   "execution_count": 59,
   "id": "e3d7d3c9-cae2-42a3-8026-af773595f0c2",
   "metadata": {
    "tags": []
   },
   "outputs": [],
   "source": [
    "required_columns = ['State FIPS Code',\n",
    "'County FIPS Code',\n",
    "'5-digit FIPS Code',\n",
    "'State Abbreviation',\n",
    "'Name',\n",
    "'Release Year',\n",
    "'Median household income raw value',\n",
    "'Median household income CI low',\n",
    "'Median household income CI high',\n",
    "'Children in poverty raw value',\n",
    "'Children in poverty CI low',\n",
    "'Children in poverty CI high',\n",
    "'Unemployment raw value',\n",
    "'Income inequality raw value',\n",
    "'Some college raw value',\n",
    "'High school graduation raw value',\n",
    "'Uninsured adults raw value',\n",
    "'Primary care physicians raw value',\n",
    "'Ratio of population to primary care physicians.',\n",
    "'Mental health providers raw value',\n",
    "'Ratio of population to mental health providers.',\n",
    "'Severe housing problems raw value',\n",
    "'Social associations raw value',\n",
    "'Residential segregation - Black/White raw value',\n",
    "'% 65 and older raw value',\n",
    "'% Non-Hispanic Black raw value',\n",
    "'% American Indian & Alaska Native raw value',\n",
    "'% Asian raw value',\n",
    "'% Hispanic raw value',\n",
    "'% Native Hawaiian/Other Pacific Islander raw value',\n",
    "'% Non-Hispanic White raw value',\n",
    "'% Rural raw value',\n",
    "'% Females raw value',\n",
    "'Population raw value',\n",
    "'Adult smoking raw value',\n",
    "'Adult obesity raw value',\n",
    "'Excessive drinking raw value',\n",
    "'Physical inactivity raw value',\n",
    "'Poor or fair health raw value',\n",
    "'Poor physical health days raw value',\n",
    "'Poor mental health days raw value',\n",
    "'Children in single-parent households raw value',\n",
    "'Food insecurity raw value',\n",
    "'Homeownership raw value',\n",
    "'% not proficient in English raw value',\n",
    "'Uninsured children raw value',\n",
    "'Other primary care providers raw value']"
   ]
  },
  {
   "cell_type": "code",
   "execution_count": 60,
   "id": "631f2d5e-4a3e-49d0-8387-86d9a0ef65c5",
   "metadata": {
    "tags": []
   },
   "outputs": [],
   "source": [
    "required_columns_cleaned = []\n",
    "for col in required_columns:\n",
    "    clean_col = str(col).lower()\n",
    "    clean_col = re.sub(r'[/\\.&\\-\\s\\(\\)\\,\\\\#\\+\\=\\[\\]]+', '_', clean_col)\n",
    "    clean_col = re.sub(r'_+', '_', clean_col)\n",
    "    clean_col = clean_col.strip('_')\n",
    "    required_columns_cleaned.append(clean_col)\n",
    "\n",
    "#required_columns_cleaned"
   ]
  },
  {
   "cell_type": "code",
   "execution_count": 61,
   "id": "af13550f-818e-4c99-b164-80c7e26ae4da",
   "metadata": {
    "tags": []
   },
   "outputs": [
    {
     "name": "stdout",
     "output_type": "stream",
     "text": [
      "\n",
      "Combined data shape: (19175, 1018)\n"
     ]
    }
   ],
   "source": [
    "# STEP 2: COMBINE ALL YEARS\n",
    "countyH_df_all_cols = pd.concat([countyh_df_20_clean, countyh_df_21_clean,\n",
    "                                 countyh_df_22_clean, countyh_df_23_clean, \n",
    "                                countyh_df_24_clean,\n",
    "                                countyh_df_25_clean], ignore_index=True)\n",
    "print(f\"\\nCombined data shape: {countyH_df_all_cols.shape}\")"
   ]
  },
  {
   "cell_type": "code",
   "execution_count": 62,
   "id": "f75ff485-263d-4808-ae43-9069aec543f8",
   "metadata": {
    "tags": []
   },
   "outputs": [
    {
     "name": "stdout",
     "output_type": "stream",
     "text": [
      "\n",
      "Final dataset shape: (19175, 47)\n"
     ]
    }
   ],
   "source": [
    "countyH_final_df = countyH_df_all_cols[required_columns_cleaned].copy()\n",
    "print(f\"\\nFinal dataset shape: {countyH_final_df.shape}\")"
   ]
  },
  {
   "cell_type": "code",
   "execution_count": 63,
   "id": "5cc8251e-3eba-4f0d-80f2-6ff75ff16db7",
   "metadata": {
    "tags": []
   },
   "outputs": [],
   "source": [
    "int_cols = ['state_fips_code','county_fips_code','5_digit_fips_code','release_year']\n",
    "object_cols = ['name','state_abbreviation']\n",
    "float_cols = list(countyH_final_df.columns.difference(int_cols+object_cols))\n",
    "float_cols = [str(col) for col in float_cols]\n",
    "\n",
    "#Convert the specified columns to float\n",
    "for col in float_cols:\n",
    "    try:\n",
    "        countyH_final_df[col] = pd.to_numeric(countyH_final_df[col],errors='coerce')\n",
    "    except Exception as e:\n",
    "        print(f\"Skipping {col} due to error {e}\")\n",
    "\n",
    "#Convert the specified columns to int\n",
    "for col in int_cols:\n",
    "    countyH_final_df[col] = pd.to_numeric(countyH_final_df[col],errors='coerce').astype('Int64')\n",
    "\n",
    "#countyH_final_df['release_year'] = countyH_final_df['release_year'].astype(int)\n",
    "#countyH_final_df['median_household_income_raw_value'] = countyH_final_df['median_household_income_raw_value'].astype(float)\n",
    "#countyH_final_df['children_in_poverty_raw_value'] = countyH_final_df['children_in_poverty_raw_value'].astype(float)\n",
    "#countyH_final_df['unemployment_raw_value'] = countyH_final_df['unemployment_raw_value'].astype(float)\n",
    "#countyH_final_df['income_inequality_raw_value'] = countyH_final_df['income_inequality_raw_value'].astype(float)\n"
   ]
  },
  {
   "cell_type": "markdown",
   "id": "c5e23bad-4342-4a63-a540-4d9c6230453f",
   "metadata": {},
   "source": [
    "## COUNTY HEALTH DATA QUALITY ANALYSIS"
   ]
  },
  {
   "cell_type": "code",
   "execution_count": 64,
   "id": "8d02ba3d-334f-47d8-a138-c460544b6a1d",
   "metadata": {
    "tags": []
   },
   "outputs": [
    {
     "name": "stdout",
     "output_type": "stream",
     "text": [
      "\n",
      "1. BASIC INFORMATION:\n",
      "   Shape: (19175, 47)\n",
      "   Memory usage: 9.03 MB\n"
     ]
    }
   ],
   "source": [
    "# Basic information\n",
    "print(f\"\\n1. BASIC INFORMATION:\")\n",
    "print(f\"   Shape: {countyH_final_df.shape}\")\n",
    "print(f\"   Memory usage: {countyH_final_df.memory_usage(deep=True).sum() / 1024**2:.2f} MB\")"
   ]
  },
  {
   "cell_type": "code",
   "execution_count": 65,
   "id": "ea5bab45-5c44-4b02-ab17-66acc95626bd",
   "metadata": {
    "tags": []
   },
   "outputs": [
    {
     "name": "stdout",
     "output_type": "stream",
     "text": [
      "\n",
      "2. YEAR DISTRIBUTION:\n",
      "   2020: 3,194 counties\n",
      "   2021: 3,194 counties\n",
      "   2022: 3,194 counties\n",
      "   2023: 3,194 counties\n",
      "   2024: 3,195 counties\n",
      "   2025: 3,204 counties\n"
     ]
    }
   ],
   "source": [
    "# Year distribution\n",
    "print(f\"\\n2. YEAR DISTRIBUTION:\")\n",
    "if 'release_year' in countyH_final_df.columns:\n",
    "    year_counts = countyH_final_df['release_year'].value_counts().sort_index()\n",
    "    for year, count in year_counts.items():\n",
    "        print(f\"   {year}: {count:,} counties\")"
   ]
  },
  {
   "cell_type": "code",
   "execution_count": 66,
   "id": "9fb38d42-f645-4336-8ee5-2a9741dca960",
   "metadata": {
    "tags": []
   },
   "outputs": [
    {
     "name": "stdout",
     "output_type": "stream",
     "text": [
      "\n",
      "3. GEOGRAPHIC COVERAGE:\n",
      "   Unique states: 52\n",
      "   Unique counties: 1940\n",
      "   Unique FIPS codes: 3205\n"
     ]
    }
   ],
   "source": [
    "# Geographic coverage\n",
    "print(f\"\\n3. GEOGRAPHIC COVERAGE:\")\n",
    "if 'state_abbreviation' in countyH_final_df.columns:\n",
    "    print(f\"   Unique states: {countyH_final_df['state_abbreviation'].nunique()}\")\n",
    "if 'name' in countyH_final_df.columns:\n",
    "    print(f\"   Unique counties: {countyH_final_df['name'].nunique()}\")\n",
    "if '5_digit_fips_code' in countyH_final_df.columns:\n",
    "    print(f\"   Unique FIPS codes: {countyH_final_df['5_digit_fips_code'].nunique()}\")"
   ]
  },
  {
   "cell_type": "code",
   "execution_count": 67,
   "id": "52beed2a-2065-4633-af52-6c6f4549927e",
   "metadata": {
    "tags": []
   },
   "outputs": [
    {
     "name": "stdout",
     "output_type": "stream",
     "text": [
      "\n",
      "4. MISSING DATA ANALYSIS:\n",
      "   Variables with missing data: 41\n",
      "\n",
      "   Top 15 variables with most missing data:\n",
      "   %_females_raw_value: 12,787.0 (66.7%)\n",
      "   %_native_hawaiian_other_pacific_islander_raw_value: 9,593.0 (50.0%)\n",
      "   %_american_indian_alaska_native_raw_value: 9,593.0 (50.0%)\n",
      "   residential_segregation_black_white_raw_value: 6,403.0 (33.4%)\n",
      "   high_school_graduation_raw_value: 3,480.0 (18.1%)\n",
      "   ratio_of_population_to_mental_health_providers: 1,220.0 (6.4%)\n",
      "   mental_health_providers_raw_value: 1,220.0 (6.4%)\n",
      "   ratio_of_population_to_primary_care_physicians: 920.0 (4.8%)\n",
      "   primary_care_physicians_raw_value: 920.0 (4.8%)\n",
      "   other_primary_care_providers_raw_value: 97.0 (0.5%)\n",
      "   income_inequality_raw_value: 61.0 (0.3%)\n",
      "   %_rural_raw_value: 36.0 (0.2%)\n",
      "   median_household_income_ci_high: 16.0 (0.1%)\n",
      "   median_household_income_ci_low: 16.0 (0.1%)\n",
      "   median_household_income_raw_value: 16.0 (0.1%)\n"
     ]
    }
   ],
   "source": [
    "# Missing data analysis\n",
    "print(f\"\\n4. MISSING DATA ANALYSIS:\")\n",
    "missing_data = countyH_final_df.isnull().sum()\n",
    "missing_percent = (missing_data / len(countyH_final_df)) * 100\n",
    "\n",
    "missing_summary = pd.DataFrame({\n",
    "    'Missing_Count': missing_data,\n",
    "    'Missing_Percent': missing_percent\n",
    "}).sort_values('Missing_Percent', ascending=False)\n",
    "\n",
    "# Show variables with missing data\n",
    "variables_with_missing = missing_summary[missing_summary['Missing_Percent'] > 0]\n",
    "print(f\"   Variables with missing data: {len(variables_with_missing)}\")\n",
    "print(\"\\n   Top 15 variables with most missing data:\")\n",
    "for idx, row in variables_with_missing.head(15).iterrows():\n",
    "    print(f\"   {idx}: {row['Missing_Count']:,} ({row['Missing_Percent']:.1f}%)\")"
   ]
  },
  {
   "cell_type": "code",
   "execution_count": 68,
   "id": "50980ad7-e110-4f3d-ad23-85d82352f57b",
   "metadata": {
    "tags": []
   },
   "outputs": [
    {
     "name": "stdout",
     "output_type": "stream",
     "text": [
      "\n",
      "5. DATA COMPLETENESS BY YEAR:\n",
      "   2020: 98.7% complete (1,965 missing cells)\n",
      "   2021: 98.4% complete (2,385 missing cells)\n",
      "   2022: 96.2% complete (5,674 missing cells)\n",
      "   2023: 91.9% complete (12,223 missing cells)\n",
      "   2024: 92.0% complete (12,051 missing cells)\n",
      "   2025: 91.8% complete (12,352 missing cells)\n"
     ]
    }
   ],
   "source": [
    "\n",
    "# Data completeness by year\n",
    "print(f\"\\n5. DATA COMPLETENESS BY YEAR:\")\n",
    "if 'release_year' in countyH_final_df.columns:\n",
    "    for year in sorted(countyH_final_df['release_year'].unique()):\n",
    "        year_data = countyH_final_df[countyH_final_df['release_year'] == year]\n",
    "        total_cells = year_data.shape[0] * year_data.shape[1]\n",
    "        missing_cells = year_data.isnull().sum().sum()\n",
    "        completeness = (1 - missing_cells / total_cells) * 100\n",
    "        print(f\"   {year}: {completeness:.1f}% complete ({missing_cells:,} missing cells)\")"
   ]
  },
  {
   "cell_type": "code",
   "execution_count": 69,
   "id": "f13c142f-e6ed-444e-a4c0-101d090e56a1",
   "metadata": {
    "tags": []
   },
   "outputs": [
    {
     "name": "stdout",
     "output_type": "stream",
     "text": [
      "\n",
      "6. KEY VARIABLES ANALYSIS:\n",
      "\n",
      "   ECONOMIC VARIABLES:\n",
      "   median_household_income_raw_value: 0.1% missing\n",
      "      Mean: 59124.48, Std: 15815.36\n",
      "   children_in_poverty_raw_value: 0.1% missing\n",
      "      Mean: 0.20, Std: 0.08\n",
      "   unemployment_raw_value: 0.1% missing\n",
      "      Mean: 0.04, Std: 0.02\n",
      "   income_inequality_raw_value: 0.3% missing\n",
      "      Mean: 4.53, Std: 0.79\n"
     ]
    }
   ],
   "source": [
    "# Key variables analysis\n",
    "print(f\"\\n6. KEY VARIABLES ANALYSIS:\")\n",
    "\n",
    "# Economic variables\n",
    "economic_vars = ['median_household_income_raw_value', 'children_in_poverty_raw_value', 'unemployment_raw_value', \n",
    "                 'income_inequality_raw_value']\n",
    "print(\"\\n   ECONOMIC VARIABLES:\")\n",
    "for var in economic_vars:\n",
    "    if var in countyH_final_df.columns:\n",
    "        missing_pct = (countyH_final_df[var].isnull().sum() / len(countyH_final_df)) * 100\n",
    "        print(f\"   {var}: {missing_pct:.1f}% missing\")\n",
    "        if countyH_final_df[var].dtype in ['int64', 'float64']:\n",
    "            try:\n",
    "                print(f\"      Mean: {countyH_final_df[var].mean():.2f}, Std: {countyH_final_df[var].std():.2f}\")\n",
    "            except:\n",
    "                print(f\"      Cannot calculate statistics\")"
   ]
  },
  {
   "cell_type": "code",
   "execution_count": 70,
   "id": "dc9bf06b-dc2f-425f-8a64-c4d16e67f274",
   "metadata": {
    "tags": []
   },
   "outputs": [
    {
     "name": "stdout",
     "output_type": "stream",
     "text": [
      "\n",
      "   HEALTHCARE ACCESS VARIABLES:\n",
      "   uninsured_adults_raw_value: 0.1% missing\n",
      "      Mean: 0.1346, Std: 0.0609\n",
      "   primary_care_physicians_raw_value: 4.8% missing\n",
      "      Mean: 0.0005, Std: 0.0004\n",
      "   mental_health_providers_raw_value: 6.4% missing\n",
      "      Mean: 0.0019, Std: 0.0021\n"
     ]
    }
   ],
   "source": [
    "# Healthcare variables\n",
    "healthcare_vars = ['uninsured_adults_raw_value', 'primary_care_physicians_raw_value', 'mental_health_providers_raw_value']\n",
    "print(\"\\n   HEALTHCARE ACCESS VARIABLES:\")\n",
    "for var in healthcare_vars:\n",
    "    if var in countyH_final_df.columns:\n",
    "        missing_pct = (countyH_final_df[var].isnull().sum() / len(countyH_final_df)) * 100\n",
    "        print(f\"   {var}: {missing_pct:.1f}% missing\")\n",
    "        if countyH_final_df[var].dtype in ['int64', 'float64']:\n",
    "            try:\n",
    "                print(f\"      Mean: {countyH_final_df[var].mean():.4f}, Std: {countyH_final_df[var].std():.4f}\")\n",
    "            except:\n",
    "                print(f\"      Cannot calculate statistics\")"
   ]
  },
  {
   "cell_type": "code",
   "execution_count": 71,
   "id": "46880c0f-4971-4b10-995f-2cf39af2adb4",
   "metadata": {
    "tags": []
   },
   "outputs": [
    {
     "name": "stdout",
     "output_type": "stream",
     "text": [
      "\n",
      "   EDUCATION VARIABLES:\n",
      "   some_college_raw_value: 0.0% missing\n",
      "      Mean: 0.59, Std: 0.12\n",
      "   high_school_graduation_raw_value: 18.1% missing\n",
      "      Mean: 0.88, Std: 0.07\n"
     ]
    }
   ],
   "source": [
    "\n",
    "\n",
    "# Education variables\n",
    "education_vars = ['some_college_raw_value', 'high_school_graduation_raw_value']\n",
    "print(\"\\n   EDUCATION VARIABLES:\")\n",
    "for var in education_vars:\n",
    "    if var in countyH_final_df.columns:\n",
    "        missing_pct = (countyH_final_df[var].isnull().sum() / len(countyH_final_df)) * 100\n",
    "        print(f\"   {var}: {missing_pct:.1f}% missing\")\n",
    "        if countyH_final_df[var].dtype in ['int64', 'float64']:\n",
    "            try:\n",
    "                print(f\"      Mean: {countyH_final_df[var].mean():.2f}, Std: {countyH_final_df[var].std():.2f}\")\n",
    "            except:\n",
    "                print(f\"      Cannot calculate statistics\")"
   ]
  },
  {
   "cell_type": "code",
   "execution_count": 72,
   "id": "b455e4e5-115e-4a89-a58a-eed4f924106a",
   "metadata": {
    "tags": []
   },
   "outputs": [
    {
     "data": {
      "text/plain": [
       "state_fips_code                                         Int64\n",
       "county_fips_code                                        Int64\n",
       "5_digit_fips_code                                       Int64\n",
       "state_abbreviation                                     object\n",
       "name                                                   object\n",
       "release_year                                            Int64\n",
       "median_household_income_raw_value                     float64\n",
       "median_household_income_ci_low                        float64\n",
       "median_household_income_ci_high                       float64\n",
       "children_in_poverty_raw_value                         float64\n",
       "children_in_poverty_ci_low                            float64\n",
       "children_in_poverty_ci_high                           float64\n",
       "unemployment_raw_value                                float64\n",
       "income_inequality_raw_value                           float64\n",
       "some_college_raw_value                                float64\n",
       "high_school_graduation_raw_value                      float64\n",
       "uninsured_adults_raw_value                            float64\n",
       "primary_care_physicians_raw_value                     float64\n",
       "ratio_of_population_to_primary_care_physicians        float64\n",
       "mental_health_providers_raw_value                     float64\n",
       "ratio_of_population_to_mental_health_providers        float64\n",
       "severe_housing_problems_raw_value                     float64\n",
       "social_associations_raw_value                         float64\n",
       "residential_segregation_black_white_raw_value         float64\n",
       "%_65_and_older_raw_value                              float64\n",
       "%_non_hispanic_black_raw_value                        float64\n",
       "%_american_indian_alaska_native_raw_value             float64\n",
       "%_asian_raw_value                                     float64\n",
       "%_hispanic_raw_value                                  float64\n",
       "%_native_hawaiian_other_pacific_islander_raw_value    float64\n",
       "%_non_hispanic_white_raw_value                        float64\n",
       "%_rural_raw_value                                     float64\n",
       "%_females_raw_value                                   float64\n",
       "population_raw_value                                  float64\n",
       "adult_smoking_raw_value                               float64\n",
       "adult_obesity_raw_value                               float64\n",
       "excessive_drinking_raw_value                          float64\n",
       "physical_inactivity_raw_value                         float64\n",
       "poor_or_fair_health_raw_value                         float64\n",
       "poor_physical_health_days_raw_value                   float64\n",
       "poor_mental_health_days_raw_value                     float64\n",
       "children_in_single_parent_households_raw_value        float64\n",
       "food_insecurity_raw_value                             float64\n",
       "homeownership_raw_value                               float64\n",
       "%_not_proficient_in_english_raw_value                 float64\n",
       "uninsured_children_raw_value                          float64\n",
       "other_primary_care_providers_raw_value                float64\n",
       "dtype: object"
      ]
     },
     "execution_count": 72,
     "metadata": {},
     "output_type": "execute_result"
    }
   ],
   "source": [
    "countyH_final_df.dtypes"
   ]
  },
  {
   "cell_type": "code",
   "execution_count": 73,
   "id": "c6824312-1d64-442e-b067-0e9a1aa7c60b",
   "metadata": {
    "tags": []
   },
   "outputs": [
    {
     "name": "stdout",
     "output_type": "stream",
     "text": [
      "\n",
      "   DEMOGRAPHIC VARIABLES:\n",
      "   %_65_and_older_raw_value: 0.0% missing\n",
      "      Mean: 0.20, Std: 0.05\n",
      "   %_non_hispanic_black_raw_value: 0.0% missing\n",
      "      Mean: 0.09, Std: 0.14\n",
      "   %_american_indian_alaska_native_raw_value: 50.0% missing\n",
      "      Mean: 0.02, Std: 0.08\n",
      "   %_asian_raw_value: 0.0% missing\n",
      "      Mean: 0.02, Std: 0.03\n",
      "   %_hispanic_raw_value: 0.0% missing\n",
      "      Mean: 0.10, Std: 0.14\n",
      "   %_native_hawaiian_other_pacific_islander_raw_value: 50.0% missing\n",
      "      Mean: 0.00, Std: 0.01\n",
      "   %_non_hispanic_white_raw_value: 0.0% missing\n",
      "      Mean: 0.75, Std: 0.20\n",
      "   %_rural_raw_value: 0.2% missing\n",
      "      Mean: 0.60, Std: 0.32\n",
      "   %_females_raw_value: 66.7% missing\n",
      "      Mean: 0.50, Std: 0.02\n"
     ]
    }
   ],
   "source": [
    "\n",
    "# Demographics variables\n",
    "demo_vars = ['%_65_and_older_raw_value', '%_non_hispanic_black_raw_value', '%_american_indian_alaska_native_raw_value', \n",
    "             '%_asian_raw_value','%_hispanic_raw_value','%_native_hawaiian_other_pacific_islander_raw_value',\n",
    "            '%_non_hispanic_white_raw_value','%_rural_raw_value','%_females_raw_value']\n",
    "print(\"\\n   DEMOGRAPHIC VARIABLES:\")\n",
    "for var in demo_vars:\n",
    "    if var in countyH_final_df.columns:\n",
    "        missing_pct = (countyH_final_df[var].isnull().sum() / len(countyH_final_df)) * 100\n",
    "        print(f\"   {var}: {missing_pct:.1f}% missing\")\n",
    "        if countyH_final_df[var].dtype in ['int64', 'float64']:\n",
    "            try:\n",
    "                print(f\"      Mean: {countyH_final_df[var].mean():.2f}, Std: {countyH_final_df[var].std():.2f}\")\n",
    "            except:\n",
    "                print(f\"      Cannot calculate statistics\")"
   ]
  },
  {
   "cell_type": "code",
   "execution_count": 74,
   "id": "44bbda5c-e425-4575-a934-7649a950005a",
   "metadata": {
    "tags": []
   },
   "outputs": [
    {
     "name": "stdout",
     "output_type": "stream",
     "text": [
      "\n",
      "7. SAMPLE FIRST 5 ROWS:\n",
      "   state_fips_code  county_fips_code  5_digit_fips_code state_abbreviation  \\\n",
      "0                0                 0                  0                 US   \n",
      "1                1                 0               1000                 AL   \n",
      "2                1                 1               1001                 AL   \n",
      "3                1                 3               1003                 AL   \n",
      "4                1                 5               1005                 AL   \n",
      "\n",
      "             name  release_year  median_household_income_raw_value  \\\n",
      "0   United States          2020                            61937.0   \n",
      "1         Alabama          2020                            49881.0   \n",
      "2  Autauga County          2020                            59338.0   \n",
      "3  Baldwin County          2020                            57588.0   \n",
      "4  Barbour County          2020                            34382.0   \n",
      "\n",
      "   median_household_income_ci_low  median_household_income_ci_high  \\\n",
      "0                    61825.000000                     62049.000000   \n",
      "1                    48977.851064                     50784.148936   \n",
      "2                    52534.595745                     66141.404255   \n",
      "3                    53833.617021                     61342.382979   \n",
      "4                    30539.446809                     38224.553191   \n",
      "\n",
      "   children_in_poverty_raw_value  ...  physical_inactivity_raw_value  \\\n",
      "0                          0.180  ...                          0.233   \n",
      "1                          0.239  ...                          0.298   \n",
      "2                          0.193  ...                          0.347   \n",
      "3                          0.139  ...                          0.265   \n",
      "4                          0.439  ...                          0.235   \n",
      "\n",
      "   poor_or_fair_health_raw_value  poor_physical_health_days_raw_value  \\\n",
      "0                       0.171987                             3.752828   \n",
      "1                       0.220287                             4.918052   \n",
      "2                       0.208830                             4.743889   \n",
      "3                       0.175091                             4.224519   \n",
      "4                       0.295918                             5.430279   \n",
      "\n",
      "   poor_mental_health_days_raw_value  \\\n",
      "0                           3.970321   \n",
      "1                           4.939753   \n",
      "2                           4.654031   \n",
      "3                           4.304056   \n",
      "4                           5.185594   \n",
      "\n",
      "   children_in_single_parent_households_raw_value  food_insecurity_raw_value  \\\n",
      "0                                        0.331023                      0.125   \n",
      "1                                        0.373427                      0.163   \n",
      "2                                        0.262427                      0.132   \n",
      "3                                        0.241396                      0.116   \n",
      "4                                        0.566034                      0.220   \n",
      "\n",
      "   homeownership_raw_value  %_not_proficient_in_english_raw_value  \\\n",
      "0                 0.638476                               0.043960   \n",
      "1                 0.685505                               0.010610   \n",
      "2                 0.748946                               0.008202   \n",
      "3                 0.736193                               0.005435   \n",
      "4                 0.613978                               0.016317   \n",
      "\n",
      "   uninsured_children_raw_value  other_primary_care_providers_raw_value  \n",
      "0                      0.049950                                0.000987  \n",
      "1                      0.030320                                0.000860  \n",
      "2                      0.026692                                0.000396  \n",
      "3                      0.035388                                0.000560  \n",
      "4                      0.029135                                0.000522  \n",
      "\n",
      "[5 rows x 47 columns]\n",
      "\n",
      "8. COLUMN NAMES:\n",
      "Available columns in final dataset:\n",
      "   1. state_fips_code\n",
      "   2. county_fips_code\n",
      "   3. 5_digit_fips_code\n",
      "   4. state_abbreviation\n",
      "   5. name\n",
      "   6. release_year\n",
      "   7. median_household_income_raw_value\n",
      "   8. median_household_income_ci_low\n",
      "   9. median_household_income_ci_high\n",
      "   10. children_in_poverty_raw_value\n",
      "   11. children_in_poverty_ci_low\n",
      "   12. children_in_poverty_ci_high\n",
      "   13. unemployment_raw_value\n",
      "   14. income_inequality_raw_value\n",
      "   15. some_college_raw_value\n",
      "   16. high_school_graduation_raw_value\n",
      "   17. uninsured_adults_raw_value\n",
      "   18. primary_care_physicians_raw_value\n",
      "   19. ratio_of_population_to_primary_care_physicians\n",
      "   20. mental_health_providers_raw_value\n",
      "   21. ratio_of_population_to_mental_health_providers\n",
      "   22. severe_housing_problems_raw_value\n",
      "   23. social_associations_raw_value\n",
      "   24. residential_segregation_black_white_raw_value\n",
      "   25. %_65_and_older_raw_value\n",
      "   26. %_non_hispanic_black_raw_value\n",
      "   27. %_american_indian_alaska_native_raw_value\n",
      "   28. %_asian_raw_value\n",
      "   29. %_hispanic_raw_value\n",
      "   30. %_native_hawaiian_other_pacific_islander_raw_value\n",
      "   31. %_non_hispanic_white_raw_value\n",
      "   32. %_rural_raw_value\n",
      "   33. %_females_raw_value\n",
      "   34. population_raw_value\n",
      "   35. adult_smoking_raw_value\n",
      "   36. adult_obesity_raw_value\n",
      "   37. excessive_drinking_raw_value\n",
      "   38. physical_inactivity_raw_value\n",
      "   39. poor_or_fair_health_raw_value\n",
      "   40. poor_physical_health_days_raw_value\n",
      "   41. poor_mental_health_days_raw_value\n",
      "   42. children_in_single_parent_households_raw_value\n",
      "   43. food_insecurity_raw_value\n",
      "   44. homeownership_raw_value\n",
      "   45. %_not_proficient_in_english_raw_value\n",
      "   46. uninsured_children_raw_value\n",
      "   47. other_primary_care_providers_raw_value\n"
     ]
    }
   ],
   "source": [
    "print(f\"\\n7. SAMPLE FIRST 5 ROWS:\")\n",
    "print(countyH_final_df.head())\n",
    "\n",
    "print(f\"\\n8. COLUMN NAMES:\")\n",
    "print(\"Available columns in final dataset:\")\n",
    "for i, col in enumerate(countyH_final_df.columns):\n",
    "    print(f\"   {i+1}. {col}\")\n",
    "\n",
    "# Save the processed data\n",
    "#final_df.to_csv('county_health_combined_processed.csv', index=False)\n",
    "#print(f\"\\nProcessed data saved to: county_health_combined_processed.csv\")"
   ]
  },
  {
   "cell_type": "code",
   "execution_count": 75,
   "id": "7dd77958-2899-4ab0-96f7-4f954b0805d2",
   "metadata": {
    "tags": []
   },
   "outputs": [
    {
     "name": "stdout",
     "output_type": "stream",
     "text": [
      "\n",
      "Processed data saved to: county_health_processed.csv\n"
     ]
    }
   ],
   "source": [
    "# Save the processed data\n",
    "countyH_final_df.to_csv('county_health_processed.csv', index=False)\n",
    "print(f\"\\nProcessed data saved to: county_health_processed.csv\")"
   ]
  },
  {
   "cell_type": "markdown",
   "id": "9bd7e145-6434-4c2b-a47c-769c7e6ca38d",
   "metadata": {},
   "source": [
    "## Hospital General Information"
   ]
  },
  {
   "cell_type": "code",
   "execution_count": 76,
   "id": "6df062fb-ca57-4cba-ad9f-e5d95f634b9a",
   "metadata": {
    "tags": []
   },
   "outputs": [],
   "source": [
    "with fs.open('gs://smtcmp-genai-data-hcb-dev/HPD Analytics/Hospitals/Readmission_Deaths/07_2025_Hospital_General_Information.csv') as f:\n",
    "    hospital_general_df = pd.read_csv(f)"
   ]
  },
  {
   "cell_type": "code",
   "execution_count": 77,
   "id": "483d6bbb-3855-4a59-8b54-aa820b13cafb",
   "metadata": {
    "tags": []
   },
   "outputs": [
    {
     "data": {
      "text/html": [
       "<div>\n",
       "<style scoped>\n",
       "    .dataframe tbody tr th:only-of-type {\n",
       "        vertical-align: middle;\n",
       "    }\n",
       "\n",
       "    .dataframe tbody tr th {\n",
       "        vertical-align: top;\n",
       "    }\n",
       "\n",
       "    .dataframe thead th {\n",
       "        text-align: right;\n",
       "    }\n",
       "</style>\n",
       "<table border=\"1\" class=\"dataframe\">\n",
       "  <thead>\n",
       "    <tr style=\"text-align: right;\">\n",
       "      <th></th>\n",
       "      <th>Facility ID</th>\n",
       "      <th>Facility Name</th>\n",
       "      <th>Address</th>\n",
       "      <th>City/Town</th>\n",
       "      <th>State</th>\n",
       "      <th>ZIP Code</th>\n",
       "      <th>County/Parish</th>\n",
       "      <th>Telephone Number</th>\n",
       "      <th>Hospital Type</th>\n",
       "      <th>Hospital Ownership</th>\n",
       "      <th>...</th>\n",
       "      <th>Count of READM Measures Better</th>\n",
       "      <th>Count of READM Measures No Different</th>\n",
       "      <th>Count of READM Measures Worse</th>\n",
       "      <th>READM Group Footnote</th>\n",
       "      <th>Pt Exp Group Measure Count</th>\n",
       "      <th>Count of Facility Pt Exp Measures</th>\n",
       "      <th>Pt Exp Group Footnote</th>\n",
       "      <th>TE Group Measure Count</th>\n",
       "      <th>Count of Facility TE Measures</th>\n",
       "      <th>TE Group Footnote</th>\n",
       "    </tr>\n",
       "  </thead>\n",
       "  <tbody>\n",
       "    <tr>\n",
       "      <th>0</th>\n",
       "      <td>010001</td>\n",
       "      <td>SOUTHEAST HEALTH MEDICAL CENTER</td>\n",
       "      <td>1108 ROSS CLARK CIRCLE</td>\n",
       "      <td>DOTHAN</td>\n",
       "      <td>AL</td>\n",
       "      <td>36301</td>\n",
       "      <td>HOUSTON</td>\n",
       "      <td>(334) 793-8701</td>\n",
       "      <td>Acute Care Hospitals</td>\n",
       "      <td>Government - Hospital District or Authority</td>\n",
       "      <td>...</td>\n",
       "      <td>1</td>\n",
       "      <td>8</td>\n",
       "      <td>2</td>\n",
       "      <td>NaN</td>\n",
       "      <td>8</td>\n",
       "      <td>8</td>\n",
       "      <td>NaN</td>\n",
       "      <td>12</td>\n",
       "      <td>10</td>\n",
       "      <td>NaN</td>\n",
       "    </tr>\n",
       "    <tr>\n",
       "      <th>1</th>\n",
       "      <td>010005</td>\n",
       "      <td>MARSHALL MEDICAL CENTERS</td>\n",
       "      <td>2505 U S HIGHWAY 431 NORTH</td>\n",
       "      <td>BOAZ</td>\n",
       "      <td>AL</td>\n",
       "      <td>35957</td>\n",
       "      <td>MARSHALL</td>\n",
       "      <td>(256) 593-8310</td>\n",
       "      <td>Acute Care Hospitals</td>\n",
       "      <td>Government - Hospital District or Authority</td>\n",
       "      <td>...</td>\n",
       "      <td>0</td>\n",
       "      <td>8</td>\n",
       "      <td>1</td>\n",
       "      <td>NaN</td>\n",
       "      <td>8</td>\n",
       "      <td>8</td>\n",
       "      <td>NaN</td>\n",
       "      <td>12</td>\n",
       "      <td>12</td>\n",
       "      <td>NaN</td>\n",
       "    </tr>\n",
       "    <tr>\n",
       "      <th>2</th>\n",
       "      <td>010006</td>\n",
       "      <td>NORTH ALABAMA MEDICAL CENTER</td>\n",
       "      <td>1701 VETERANS DRIVE</td>\n",
       "      <td>FLORENCE</td>\n",
       "      <td>AL</td>\n",
       "      <td>35630</td>\n",
       "      <td>LAUDERDALE</td>\n",
       "      <td>(256) 768-8400</td>\n",
       "      <td>Acute Care Hospitals</td>\n",
       "      <td>Proprietary</td>\n",
       "      <td>...</td>\n",
       "      <td>0</td>\n",
       "      <td>7</td>\n",
       "      <td>2</td>\n",
       "      <td>NaN</td>\n",
       "      <td>8</td>\n",
       "      <td>8</td>\n",
       "      <td>NaN</td>\n",
       "      <td>12</td>\n",
       "      <td>11</td>\n",
       "      <td>NaN</td>\n",
       "    </tr>\n",
       "    <tr>\n",
       "      <th>3</th>\n",
       "      <td>010007</td>\n",
       "      <td>MIZELL MEMORIAL HOSPITAL</td>\n",
       "      <td>702 N MAIN ST</td>\n",
       "      <td>OPP</td>\n",
       "      <td>AL</td>\n",
       "      <td>36467</td>\n",
       "      <td>COVINGTON</td>\n",
       "      <td>(334) 493-3541</td>\n",
       "      <td>Acute Care Hospitals</td>\n",
       "      <td>Voluntary non-profit - Private</td>\n",
       "      <td>...</td>\n",
       "      <td>0</td>\n",
       "      <td>7</td>\n",
       "      <td>0</td>\n",
       "      <td>NaN</td>\n",
       "      <td>8</td>\n",
       "      <td>8</td>\n",
       "      <td>NaN</td>\n",
       "      <td>12</td>\n",
       "      <td>7</td>\n",
       "      <td>NaN</td>\n",
       "    </tr>\n",
       "    <tr>\n",
       "      <th>4</th>\n",
       "      <td>010008</td>\n",
       "      <td>CRENSHAW COMMUNITY HOSPITAL</td>\n",
       "      <td>101 HOSPITAL CIRCLE</td>\n",
       "      <td>LUVERNE</td>\n",
       "      <td>AL</td>\n",
       "      <td>36049</td>\n",
       "      <td>CRENSHAW</td>\n",
       "      <td>(334) 335-3374</td>\n",
       "      <td>Acute Care Hospitals</td>\n",
       "      <td>Proprietary</td>\n",
       "      <td>...</td>\n",
       "      <td>0</td>\n",
       "      <td>2</td>\n",
       "      <td>0</td>\n",
       "      <td>NaN</td>\n",
       "      <td>8</td>\n",
       "      <td>Not Available</td>\n",
       "      <td>5.0</td>\n",
       "      <td>12</td>\n",
       "      <td>6</td>\n",
       "      <td>NaN</td>\n",
       "    </tr>\n",
       "    <tr>\n",
       "      <th>...</th>\n",
       "      <td>...</td>\n",
       "      <td>...</td>\n",
       "      <td>...</td>\n",
       "      <td>...</td>\n",
       "      <td>...</td>\n",
       "      <td>...</td>\n",
       "      <td>...</td>\n",
       "      <td>...</td>\n",
       "      <td>...</td>\n",
       "      <td>...</td>\n",
       "      <td>...</td>\n",
       "      <td>...</td>\n",
       "      <td>...</td>\n",
       "      <td>...</td>\n",
       "      <td>...</td>\n",
       "      <td>...</td>\n",
       "      <td>...</td>\n",
       "      <td>...</td>\n",
       "      <td>...</td>\n",
       "      <td>...</td>\n",
       "      <td>...</td>\n",
       "    </tr>\n",
       "    <tr>\n",
       "      <th>5379</th>\n",
       "      <td>670322</td>\n",
       "      <td>LEGENT SURGICAL HOSPITAL PLANO</td>\n",
       "      <td>4100 MAPLESHADE LANE</td>\n",
       "      <td>PLANO</td>\n",
       "      <td>TX</td>\n",
       "      <td>75075</td>\n",
       "      <td>COLLIN</td>\n",
       "      <td>(972) 265-1050</td>\n",
       "      <td>Acute Care Hospitals</td>\n",
       "      <td>Proprietary</td>\n",
       "      <td>...</td>\n",
       "      <td>Not Available</td>\n",
       "      <td>Not Available</td>\n",
       "      <td>Not Available</td>\n",
       "      <td>5.0</td>\n",
       "      <td>8</td>\n",
       "      <td>Not Available</td>\n",
       "      <td>5.0</td>\n",
       "      <td>12</td>\n",
       "      <td>Not Available</td>\n",
       "      <td>5.0</td>\n",
       "    </tr>\n",
       "    <tr>\n",
       "      <th>5380</th>\n",
       "      <td>670326</td>\n",
       "      <td>BRUSHY CREEK FAMILY HOSPITAL LLC</td>\n",
       "      <td>230 DEER RIDGE DR</td>\n",
       "      <td>ROUND ROCK</td>\n",
       "      <td>TX</td>\n",
       "      <td>78681</td>\n",
       "      <td>WILLIAMSON</td>\n",
       "      <td>(512) 766-1400</td>\n",
       "      <td>Acute Care Hospitals</td>\n",
       "      <td>Proprietary</td>\n",
       "      <td>...</td>\n",
       "      <td>Not Available</td>\n",
       "      <td>Not Available</td>\n",
       "      <td>Not Available</td>\n",
       "      <td>19.0</td>\n",
       "      <td>Not Available</td>\n",
       "      <td>Not Available</td>\n",
       "      <td>19.0</td>\n",
       "      <td>Not Available</td>\n",
       "      <td>Not Available</td>\n",
       "      <td>19.0</td>\n",
       "    </tr>\n",
       "    <tr>\n",
       "      <th>5381</th>\n",
       "      <td>670327</td>\n",
       "      <td>EXCEPTIONAL COMMUNITY HOSPITAL LUBBOCK</td>\n",
       "      <td>6401 SPUR 327</td>\n",
       "      <td>LUBBOCK</td>\n",
       "      <td>TX</td>\n",
       "      <td>79424</td>\n",
       "      <td>LUBBOCK</td>\n",
       "      <td>(469) 341-7800</td>\n",
       "      <td>Acute Care Hospitals</td>\n",
       "      <td>Proprietary</td>\n",
       "      <td>...</td>\n",
       "      <td>Not Available</td>\n",
       "      <td>Not Available</td>\n",
       "      <td>Not Available</td>\n",
       "      <td>19.0</td>\n",
       "      <td>Not Available</td>\n",
       "      <td>Not Available</td>\n",
       "      <td>19.0</td>\n",
       "      <td>Not Available</td>\n",
       "      <td>Not Available</td>\n",
       "      <td>19.0</td>\n",
       "    </tr>\n",
       "    <tr>\n",
       "      <th>5382</th>\n",
       "      <td>671300</td>\n",
       "      <td>GRAHAM REGIONAL MEDICAL CENTER</td>\n",
       "      <td>1301 MONTGOMERY ROAD</td>\n",
       "      <td>GRAHAM</td>\n",
       "      <td>TX</td>\n",
       "      <td>76450</td>\n",
       "      <td>YOUNG</td>\n",
       "      <td>(940) 549-3400</td>\n",
       "      <td>Critical Access Hospitals</td>\n",
       "      <td>Government - Hospital District or Authority</td>\n",
       "      <td>...</td>\n",
       "      <td>Not Available</td>\n",
       "      <td>Not Available</td>\n",
       "      <td>Not Available</td>\n",
       "      <td>5.0</td>\n",
       "      <td>Not Available</td>\n",
       "      <td>Not Available</td>\n",
       "      <td>5.0</td>\n",
       "      <td>Not Available</td>\n",
       "      <td>Not Available</td>\n",
       "      <td>5.0</td>\n",
       "    </tr>\n",
       "    <tr>\n",
       "      <th>5383</th>\n",
       "      <td>671301</td>\n",
       "      <td>HEMPHILL COUNTY HOSPITAL</td>\n",
       "      <td>1020 S 4TH ST</td>\n",
       "      <td>CANADIAN</td>\n",
       "      <td>TX</td>\n",
       "      <td>79014</td>\n",
       "      <td>HEMPHILL</td>\n",
       "      <td>(806) 323-6622</td>\n",
       "      <td>Critical Access Hospitals</td>\n",
       "      <td>Government - Hospital District or Authority</td>\n",
       "      <td>...</td>\n",
       "      <td>Not Available</td>\n",
       "      <td>Not Available</td>\n",
       "      <td>Not Available</td>\n",
       "      <td>5.0</td>\n",
       "      <td>Not Available</td>\n",
       "      <td>Not Available</td>\n",
       "      <td>5.0</td>\n",
       "      <td>Not Available</td>\n",
       "      <td>Not Available</td>\n",
       "      <td>5.0</td>\n",
       "    </tr>\n",
       "  </tbody>\n",
       "</table>\n",
       "<p>5384 rows × 38 columns</p>\n",
       "</div>"
      ],
      "text/plain": [
       "     Facility ID                           Facility Name  \\\n",
       "0         010001         SOUTHEAST HEALTH MEDICAL CENTER   \n",
       "1         010005                MARSHALL MEDICAL CENTERS   \n",
       "2         010006            NORTH ALABAMA MEDICAL CENTER   \n",
       "3         010007                MIZELL MEMORIAL HOSPITAL   \n",
       "4         010008             CRENSHAW COMMUNITY HOSPITAL   \n",
       "...          ...                                     ...   \n",
       "5379      670322          LEGENT SURGICAL HOSPITAL PLANO   \n",
       "5380      670326        BRUSHY CREEK FAMILY HOSPITAL LLC   \n",
       "5381      670327  EXCEPTIONAL COMMUNITY HOSPITAL LUBBOCK   \n",
       "5382      671300          GRAHAM REGIONAL MEDICAL CENTER   \n",
       "5383      671301                HEMPHILL COUNTY HOSPITAL   \n",
       "\n",
       "                         Address   City/Town State  ZIP Code County/Parish  \\\n",
       "0         1108 ROSS CLARK CIRCLE      DOTHAN    AL     36301       HOUSTON   \n",
       "1     2505 U S HIGHWAY 431 NORTH        BOAZ    AL     35957      MARSHALL   \n",
       "2            1701 VETERANS DRIVE    FLORENCE    AL     35630    LAUDERDALE   \n",
       "3                  702 N MAIN ST         OPP    AL     36467     COVINGTON   \n",
       "4            101 HOSPITAL CIRCLE     LUVERNE    AL     36049      CRENSHAW   \n",
       "...                          ...         ...   ...       ...           ...   \n",
       "5379        4100 MAPLESHADE LANE       PLANO    TX     75075        COLLIN   \n",
       "5380           230 DEER RIDGE DR  ROUND ROCK    TX     78681    WILLIAMSON   \n",
       "5381               6401 SPUR 327     LUBBOCK    TX     79424       LUBBOCK   \n",
       "5382        1301 MONTGOMERY ROAD      GRAHAM    TX     76450         YOUNG   \n",
       "5383               1020 S 4TH ST    CANADIAN    TX     79014      HEMPHILL   \n",
       "\n",
       "     Telephone Number              Hospital Type  \\\n",
       "0      (334) 793-8701       Acute Care Hospitals   \n",
       "1      (256) 593-8310       Acute Care Hospitals   \n",
       "2      (256) 768-8400       Acute Care Hospitals   \n",
       "3      (334) 493-3541       Acute Care Hospitals   \n",
       "4      (334) 335-3374       Acute Care Hospitals   \n",
       "...               ...                        ...   \n",
       "5379   (972) 265-1050       Acute Care Hospitals   \n",
       "5380   (512) 766-1400       Acute Care Hospitals   \n",
       "5381   (469) 341-7800       Acute Care Hospitals   \n",
       "5382   (940) 549-3400  Critical Access Hospitals   \n",
       "5383   (806) 323-6622  Critical Access Hospitals   \n",
       "\n",
       "                               Hospital Ownership  ...  \\\n",
       "0     Government - Hospital District or Authority  ...   \n",
       "1     Government - Hospital District or Authority  ...   \n",
       "2                                     Proprietary  ...   \n",
       "3                  Voluntary non-profit - Private  ...   \n",
       "4                                     Proprietary  ...   \n",
       "...                                           ...  ...   \n",
       "5379                                  Proprietary  ...   \n",
       "5380                                  Proprietary  ...   \n",
       "5381                                  Proprietary  ...   \n",
       "5382  Government - Hospital District or Authority  ...   \n",
       "5383  Government - Hospital District or Authority  ...   \n",
       "\n",
       "     Count of READM Measures Better Count of READM Measures No Different  \\\n",
       "0                                 1                                    8   \n",
       "1                                 0                                    8   \n",
       "2                                 0                                    7   \n",
       "3                                 0                                    7   \n",
       "4                                 0                                    2   \n",
       "...                             ...                                  ...   \n",
       "5379                  Not Available                        Not Available   \n",
       "5380                  Not Available                        Not Available   \n",
       "5381                  Not Available                        Not Available   \n",
       "5382                  Not Available                        Not Available   \n",
       "5383                  Not Available                        Not Available   \n",
       "\n",
       "     Count of READM Measures Worse READM Group Footnote  \\\n",
       "0                                2                  NaN   \n",
       "1                                1                  NaN   \n",
       "2                                2                  NaN   \n",
       "3                                0                  NaN   \n",
       "4                                0                  NaN   \n",
       "...                            ...                  ...   \n",
       "5379                 Not Available                  5.0   \n",
       "5380                 Not Available                 19.0   \n",
       "5381                 Not Available                 19.0   \n",
       "5382                 Not Available                  5.0   \n",
       "5383                 Not Available                  5.0   \n",
       "\n",
       "     Pt Exp Group Measure Count Count of Facility Pt Exp Measures  \\\n",
       "0                             8                                 8   \n",
       "1                             8                                 8   \n",
       "2                             8                                 8   \n",
       "3                             8                                 8   \n",
       "4                             8                     Not Available   \n",
       "...                         ...                               ...   \n",
       "5379                          8                     Not Available   \n",
       "5380              Not Available                     Not Available   \n",
       "5381              Not Available                     Not Available   \n",
       "5382              Not Available                     Not Available   \n",
       "5383              Not Available                     Not Available   \n",
       "\n",
       "     Pt Exp Group Footnote TE Group Measure Count  \\\n",
       "0                      NaN                     12   \n",
       "1                      NaN                     12   \n",
       "2                      NaN                     12   \n",
       "3                      NaN                     12   \n",
       "4                      5.0                     12   \n",
       "...                    ...                    ...   \n",
       "5379                   5.0                     12   \n",
       "5380                  19.0          Not Available   \n",
       "5381                  19.0          Not Available   \n",
       "5382                   5.0          Not Available   \n",
       "5383                   5.0          Not Available   \n",
       "\n",
       "     Count of Facility TE Measures  TE Group Footnote  \n",
       "0                               10                NaN  \n",
       "1                               12                NaN  \n",
       "2                               11                NaN  \n",
       "3                                7                NaN  \n",
       "4                                6                NaN  \n",
       "...                            ...                ...  \n",
       "5379                 Not Available                5.0  \n",
       "5380                 Not Available               19.0  \n",
       "5381                 Not Available               19.0  \n",
       "5382                 Not Available                5.0  \n",
       "5383                 Not Available                5.0  \n",
       "\n",
       "[5384 rows x 38 columns]"
      ]
     },
     "execution_count": 77,
     "metadata": {},
     "output_type": "execute_result"
    }
   ],
   "source": [
    "hospital_general_df"
   ]
  },
  {
   "cell_type": "code",
   "execution_count": 78,
   "id": "8af08914-89ea-459c-863e-78f5e2472b2a",
   "metadata": {
    "tags": []
   },
   "outputs": [
    {
     "name": "stdout",
     "output_type": "stream",
     "text": [
      "\n",
      "1. HOSPITAL DATASET OVERVIEW:\n",
      "Total rows: 5,384\n",
      "Total columns: 38\n",
      "Dataset shape: (5384, 38)\n",
      "Columns Name and Types: Facility ID                                          object\n",
      "Facility Name                                        object\n",
      "Address                                              object\n",
      "City/Town                                            object\n",
      "State                                                object\n",
      "ZIP Code                                              int64\n",
      "County/Parish                                        object\n",
      "Telephone Number                                     object\n",
      "Hospital Type                                        object\n",
      "Hospital Ownership                                   object\n",
      "Emergency Services                                   object\n",
      "Meets criteria for birthing friendly designation     object\n",
      "Hospital overall rating                              object\n",
      "Hospital overall rating footnote                     object\n",
      "MORT Group Measure Count                             object\n",
      "Count of Facility MORT Measures                      object\n",
      "Count of MORT Measures Better                        object\n",
      "Count of MORT Measures No Different                  object\n",
      "Count of MORT Measures Worse                         object\n",
      "MORT Group Footnote                                 float64\n",
      "Safety Group Measure Count                           object\n",
      "Count of Facility Safety Measures                    object\n",
      "Count of Safety Measures Better                      object\n",
      "Count of Safety Measures No Different                object\n",
      "Count of Safety Measures Worse                       object\n",
      "Safety Group Footnote                               float64\n",
      "READM Group Measure Count                            object\n",
      "Count of Facility READM Measures                     object\n",
      "Count of READM Measures Better                       object\n",
      "Count of READM Measures No Different                 object\n",
      "Count of READM Measures Worse                        object\n",
      "READM Group Footnote                                float64\n",
      "Pt Exp Group Measure Count                           object\n",
      "Count of Facility Pt Exp Measures                    object\n",
      "Pt Exp Group Footnote                               float64\n",
      "TE Group Measure Count                               object\n",
      "Count of Facility TE Measures                        object\n",
      "TE Group Footnote                                   float64\n",
      "dtype: object\n"
     ]
    }
   ],
   "source": [
    "print(\"\\n1. HOSPITAL DATASET OVERVIEW:\")\n",
    "print(f\"Total rows: {len(hospital_general_df):,}\")\n",
    "print(f\"Total columns: {hospital_general_df.shape[1]}\")\n",
    "print(f\"Dataset shape: {hospital_general_df.shape}\")\n",
    "print(f\"Columns Name and Types: {hospital_general_df.dtypes}\")"
   ]
  },
  {
   "cell_type": "code",
   "execution_count": 79,
   "id": "0d1f8262-52b5-4bd0-b695-208b5a290585",
   "metadata": {
    "tags": []
   },
   "outputs": [
    {
     "name": "stdout",
     "output_type": "stream",
     "text": [
      "Missing Data Summary:\n",
      "                                                  Missing_Count  \\\n",
      "Facility ID                                                   0   \n",
      "Facility Name                                                 0   \n",
      "Address                                                       0   \n",
      "City/Town                                                     0   \n",
      "State                                                         0   \n",
      "ZIP Code                                                      0   \n",
      "County/Parish                                                 0   \n",
      "Telephone Number                                              0   \n",
      "Hospital Type                                                 0   \n",
      "Hospital Ownership                                            0   \n",
      "Emergency Services                                            0   \n",
      "Meets criteria for birthing friendly designation           3154   \n",
      "Hospital overall rating                                       0   \n",
      "Hospital overall rating footnote                           2766   \n",
      "MORT Group Measure Count                                      0   \n",
      "Count of Facility MORT Measures                               0   \n",
      "Count of MORT Measures Better                                 0   \n",
      "Count of MORT Measures No Different                           0   \n",
      "Count of MORT Measures Worse                                  0   \n",
      "MORT Group Footnote                                        3509   \n",
      "Safety Group Measure Count                                    0   \n",
      "Count of Facility Safety Measures                             0   \n",
      "Count of Safety Measures Better                               0   \n",
      "Count of Safety Measures No Different                         0   \n",
      "Count of Safety Measures Worse                                0   \n",
      "Safety Group Footnote                                      3390   \n",
      "READM Group Measure Count                                     0   \n",
      "Count of Facility READM Measures                              0   \n",
      "Count of READM Measures Better                                0   \n",
      "Count of READM Measures No Different                          0   \n",
      "Count of READM Measures Worse                                 0   \n",
      "READM Group Footnote                                       4296   \n",
      "Pt Exp Group Measure Count                                    0   \n",
      "Count of Facility Pt Exp Measures                             0   \n",
      "Pt Exp Group Footnote                                      3194   \n",
      "TE Group Measure Count                                        0   \n",
      "Count of Facility TE Measures                                 0   \n",
      "TE Group Footnote                                          4490   \n",
      "\n",
      "                                                  Missing_Percentage  \n",
      "Facility ID                                                 0.000000  \n",
      "Facility Name                                               0.000000  \n",
      "Address                                                     0.000000  \n",
      "City/Town                                                   0.000000  \n",
      "State                                                       0.000000  \n",
      "ZIP Code                                                    0.000000  \n",
      "County/Parish                                               0.000000  \n",
      "Telephone Number                                            0.000000  \n",
      "Hospital Type                                               0.000000  \n",
      "Hospital Ownership                                          0.000000  \n",
      "Emergency Services                                          0.000000  \n",
      "Meets criteria for birthing friendly designation           58.580981  \n",
      "Hospital overall rating                                     0.000000  \n",
      "Hospital overall rating footnote                           51.374443  \n",
      "MORT Group Measure Count                                    0.000000  \n",
      "Count of Facility MORT Measures                             0.000000  \n",
      "Count of MORT Measures Better                               0.000000  \n",
      "Count of MORT Measures No Different                         0.000000  \n",
      "Count of MORT Measures Worse                                0.000000  \n",
      "MORT Group Footnote                                        65.174591  \n",
      "Safety Group Measure Count                                  0.000000  \n",
      "Count of Facility Safety Measures                           0.000000  \n",
      "Count of Safety Measures Better                             0.000000  \n",
      "Count of Safety Measures No Different                       0.000000  \n",
      "Count of Safety Measures Worse                              0.000000  \n",
      "Safety Group Footnote                                      62.964339  \n",
      "READM Group Measure Count                                   0.000000  \n",
      "Count of Facility READM Measures                            0.000000  \n",
      "Count of READM Measures Better                              0.000000  \n",
      "Count of READM Measures No Different                        0.000000  \n",
      "Count of READM Measures Worse                               0.000000  \n",
      "READM Group Footnote                                       79.791976  \n",
      "Pt Exp Group Measure Count                                  0.000000  \n",
      "Count of Facility Pt Exp Measures                           0.000000  \n",
      "Pt Exp Group Footnote                                      59.323923  \n",
      "TE Group Measure Count                                      0.000000  \n",
      "Count of Facility TE Measures                               0.000000  \n",
      "TE Group Footnote                                          83.395245  \n"
     ]
    }
   ],
   "source": [
    "### 1.1 Missing Data Analysis\n",
    "# Check missing data patterns\n",
    "missing_data = hospital_general_df.isnull().sum()\n",
    "missing_percentage = (missing_data / len(hospital_general_df)) * 100\n",
    "print(\"Missing Data Summary:\")\n",
    "print(pd.DataFrame({'Missing_Count': missing_data, 'Missing_Percentage': missing_percentage}))"
   ]
  },
  {
   "cell_type": "markdown",
   "id": "5607fdb1-3573-4b1c-88e8-a3a940c9c568",
   "metadata": {},
   "source": [
    "### 1.2 Key Variables Inspection\n",
    "**Priority Variables for Analysis:**\n",
    "- `Facility ID` (Primary key for merging with readmissions data)\n",
    "- `County/Parish` (Critical for linking to county health rankings)\n",
    "- `State` (Geographic validation)\n",
    "- `Hospital Type` (Control variable)\n",
    "- `Hospital Ownership` (Control variable)\n",
    "- `Emergency Services` (Control variable)\n",
    "- `Hospital overall rating` (Control variable)"
   ]
  },
  {
   "cell_type": "code",
   "execution_count": 80,
   "id": "ef2e994d-af65-49f3-b490-562101205908",
   "metadata": {
    "tags": []
   },
   "outputs": [
    {
     "name": "stdout",
     "output_type": "stream",
     "text": [
      "\n",
      "Facility ID:\n",
      "  Data type: object\n",
      "  Unique values: 5384\n",
      "  Sample values: Facility ID\n",
      "671301    1\n",
      "010001    1\n",
      "010005    1\n",
      "Name: count, dtype: int64\n",
      "\n",
      "County/Parish:\n",
      "  Data type: object\n",
      "  Unique values: 1549\n",
      "  Sample values: County/Parish\n",
      "LOS ANGELES    88\n",
      "COOK           60\n",
      "JEFFERSON      57\n",
      "Name: count, dtype: int64\n",
      "\n",
      "State:\n",
      "  Data type: object\n",
      "  Unique values: 56\n",
      "  Sample values: State\n",
      "TX    459\n",
      "CA    379\n",
      "FL    219\n",
      "Name: count, dtype: int64\n",
      "\n",
      "Hospital Type:\n",
      "  Data type: object\n",
      "  Unique values: 6\n",
      "  Sample values: Hospital Type\n",
      "Acute Care Hospitals         3131\n",
      "Critical Access Hospitals    1368\n",
      "Psychiatric                   627\n",
      "Name: count, dtype: int64\n",
      "\n",
      "Hospital Ownership:\n",
      "  Data type: object\n",
      "  Unique values: 12\n",
      "  Sample values: Hospital Ownership\n",
      "Voluntary non-profit - Private                 2280\n",
      "Proprietary                                    1060\n",
      "Government - Hospital District or Authority     512\n",
      "Name: count, dtype: int64\n"
     ]
    }
   ],
   "source": [
    "### 1.3 Data Type Validation\n",
    "\n",
    "# Check data types and unique values\n",
    "for col in ['Facility ID', 'County/Parish', 'State', 'Hospital Type', 'Hospital Ownership']:\n",
    "    print(f\"\\n{col}:\")\n",
    "    print(f\"  Data type: {hospital_general_df[col].dtype}\")\n",
    "    print(f\"  Unique values: {hospital_general_df[col].nunique()}\")\n",
    "    print(f\"  Sample values: {hospital_general_df[col].value_counts().head(3)}\")"
   ]
  },
  {
   "cell_type": "code",
   "execution_count": 81,
   "id": "b01a44d2-0434-4b38-bb60-0219ef2a90ca",
   "metadata": {
    "tags": []
   },
   "outputs": [],
   "source": [
    "## Phase 2: Geographic Data Standardization\n",
    "\n",
    "### 2.1 County Name Standardization\n",
    "#####**Critical Step:** County names must match between datasets for successful merging.\n",
    "\n",
    "# Standardize county names\n",
    "def standardize_county_names(county_name):\n",
    "    if pd.isna(county_name):\n",
    "        return county_name\n",
    "    \n",
    "    # Convert to string and clean\n",
    "    county_clean = str(county_name).strip().upper()\n",
    "    \n",
    "    # Remove common suffixes\n",
    "    county_clean = county_clean.replace(' COUNTY', '')\n",
    "    county_clean = county_clean.replace(' PARISH', '')\n",
    "    county_clean = county_clean.replace(' BOROUGH', '')\n",
    "    \n",
    "    return county_clean\n",
    "\n",
    "hospital_general_df['County_Standardized'] = hospital_general_df['County/Parish'].apply(standardize_county_names)"
   ]
  },
  {
   "cell_type": "code",
   "execution_count": 82,
   "id": "d8691253-6096-4062-adba-5a650324d7d3",
   "metadata": {
    "tags": []
   },
   "outputs": [
    {
     "name": "stdout",
     "output_type": "stream",
     "text": [
      "State distribution:\n",
      "State\n",
      "TX    459\n",
      "CA    379\n",
      "FL    219\n",
      "IL    195\n",
      "OH    194\n",
      "NY    190\n",
      "PA    188\n",
      "LA    156\n",
      "IN    149\n",
      "MI    146\n",
      "GA    146\n",
      "WI    142\n",
      "MN    135\n",
      "KS    135\n",
      "OK    129\n",
      "NC    123\n",
      "MO    122\n",
      "TN    122\n",
      "IA    119\n",
      "AZ    106\n",
      "KY    102\n",
      "AL    100\n",
      "WA    100\n",
      "MS     99\n",
      "CO     97\n",
      "VA     95\n",
      "NE     92\n",
      "AR     85\n",
      "MA     82\n",
      "NJ     78\n",
      "SC     66\n",
      "MT     63\n",
      "SD     62\n",
      "OR     62\n",
      "PR     60\n",
      "MD     56\n",
      "WV     55\n",
      "UT     52\n",
      "ID     48\n",
      "ND     47\n",
      "NV     45\n",
      "NM     44\n",
      "ME     37\n",
      "CT     37\n",
      "WY     30\n",
      "NH     28\n",
      "AK     25\n",
      "HI     24\n",
      "VT     17\n",
      "DE     13\n",
      "RI     13\n",
      "DC     10\n",
      "VI      2\n",
      "GU      2\n",
      "AS      1\n",
      "MP      1\n",
      "Name: count, dtype: int64\n"
     ]
    }
   ],
   "source": [
    "### 2.2 State Standardization\n",
    "\n",
    "# Ensure state codes are consistent\n",
    "print(\"State distribution:\")\n",
    "print(hospital_general_df['State'].value_counts())\n",
    "\n",
    "# Check for any non-standard state codes\n",
    "standard_states = ['AL', 'AK', 'AZ', 'AR', 'CA', 'CO', 'CT', 'DE', 'FL', 'GA', 'HI', 'ID', 'IL', \n",
    "                   'IN', 'IA', 'KS', 'KY', 'LA', 'ME', 'MD', 'MA', 'MI', 'MN', 'MS', 'MO', 'MT', \n",
    "                   'NE', 'NV', 'NH', 'NJ', 'NM', 'NY', 'NC', 'ND', 'OH', 'OK', 'OR', 'PA', 'RI', \n",
    "                   'SC', 'SD', 'TN', 'TX', 'UT', 'VT', 'VA', 'WA', 'WV', 'WI', 'WY', 'DC']\n"
   ]
  },
  {
   "cell_type": "code",
   "execution_count": 83,
   "id": "73f2afcf-69bb-40ad-9535-8fcfc43c0934",
   "metadata": {
    "tags": []
   },
   "outputs": [
    {
     "name": "stdout",
     "output_type": "stream",
     "text": [
      "ZIP Code range: 603 - 99929\n",
      "ZIP Code missing: 0\n"
     ]
    }
   ],
   "source": [
    "### 2.3 ZIP Code Analysis\n",
    "\n",
    "# Analyze ZIP codes for potential county mapping backup\n",
    "print(f\"ZIP Code range: {hospital_general_df['ZIP Code'].min()} - {hospital_general_df['ZIP Code'].max()}\")\n",
    "print(f\"ZIP Code missing: {hospital_general_df['ZIP Code'].isnull().sum()}\")\n"
   ]
  },
  {
   "cell_type": "markdown",
   "id": "31763e2a-5223-45ce-8492-ad2c8e266c35",
   "metadata": {},
   "source": [
    "## Phase 3: Hospital Characteristics Processing"
   ]
  },
  {
   "cell_type": "code",
   "execution_count": 84,
   "id": "c407106e-2c0f-499a-96a0-0e184dc22bd7",
   "metadata": {
    "tags": []
   },
   "outputs": [
    {
     "name": "stdout",
     "output_type": "stream",
     "text": [
      "Hospital Type Distribution:\n",
      "Hospital Type\n",
      "Acute Care Hospitals                    3131\n",
      "Critical Access Hospitals               1368\n",
      "Psychiatric                              627\n",
      "Acute Care - Veterans Administration     132\n",
      "Childrens                                 94\n",
      "Acute Care - Department of Defense        32\n",
      "Name: count, dtype: int64\n"
     ]
    }
   ],
   "source": [
    "\n",
    "\n",
    "### 3.1 Hospital Type Categorization\n",
    "\n",
    "# Analyze hospital types\n",
    "print(\"Hospital Type Distribution:\")\n",
    "print(hospital_general_df['Hospital Type'].value_counts())\n",
    "\n",
    "# Create simplified categories if needed\n",
    "def categorize_hospital_type(hospital_type):\n",
    "    if pd.isna(hospital_type):\n",
    "        return 'Unknown'\n",
    "    \n",
    "    hospital_type = str(hospital_type).upper()\n",
    "    \n",
    "    if 'ACUTE' in hospital_type:\n",
    "        return 'Acute Care'\n",
    "    elif 'CRITICAL' in hospital_type:\n",
    "        return 'Critical Access'\n",
    "    elif 'SPECIALTY' in hospital_type:\n",
    "        return 'Specialty'\n",
    "    else:\n",
    "        return 'Other'\n",
    "\n",
    "hospital_general_df['Hospital_Type_Category'] = hospital_general_df['Hospital Type'].apply(categorize_hospital_type)"
   ]
  },
  {
   "cell_type": "code",
   "execution_count": 85,
   "id": "e6ef5a89-5556-4a7b-8f41-1a0e2e381d62",
   "metadata": {
    "tags": []
   },
   "outputs": [
    {
     "name": "stdout",
     "output_type": "stream",
     "text": [
      "Hospital Ownership Distribution:\n",
      "Hospital Ownership\n",
      "Voluntary non-profit - Private                 2280\n",
      "Proprietary                                    1060\n",
      "Government - Hospital District or Authority     512\n",
      "Government - Local                              396\n",
      "Voluntary non-profit - Other                    361\n",
      "Voluntary non-profit - Church                   272\n",
      "Government - State                              208\n",
      "Veterans Health Administration                  132\n",
      "Physician                                        74\n",
      "Government - Federal                             42\n",
      "Department of Defense                            32\n",
      "Tribal                                           15\n",
      "Name: count, dtype: int64\n"
     ]
    }
   ],
   "source": [
    "### 3.2 Hospital Ownership Processing\n",
    "\n",
    "# Analyze ownership patterns\n",
    "print(\"Hospital Ownership Distribution:\")\n",
    "print(hospital_general_df['Hospital Ownership'].value_counts())\n",
    "\n",
    "# Create ownership categories\n",
    "def categorize_ownership(ownership):\n",
    "    if pd.isna(ownership):\n",
    "        return 'Unknown'\n",
    "    \n",
    "    ownership = str(ownership).upper()\n",
    "    \n",
    "    if 'GOVERNMENT' in ownership or 'PUBLIC' in ownership:\n",
    "        return 'Public'\n",
    "    elif 'PROPRIETARY' in ownership or 'PRIVATE' in ownership:\n",
    "        return 'Private'\n",
    "    elif 'VOLUNTARY' in ownership or 'NON-PROFIT' in ownership:\n",
    "        return 'Non-Profit'\n",
    "    else:\n",
    "        return 'Other'\n",
    "\n",
    "hospital_general_df['Ownership_Category'] = hospital_general_df['Hospital Ownership'].apply(categorize_ownership)\n"
   ]
  },
  {
   "cell_type": "code",
   "execution_count": 86,
   "id": "53861b60-be74-4ead-9a6c-34dd9e8486bb",
   "metadata": {
    "tags": []
   },
   "outputs": [
    {
     "name": "stdout",
     "output_type": "stream",
     "text": [
      "Emergency Services Distribution:\n",
      "Emergency Services\n",
      "Yes    4475\n",
      "No      909\n",
      "Name: count, dtype: int64\n"
     ]
    }
   ],
   "source": [
    "### 3.3 Emergency Services Processing\n",
    "\n",
    "# Process emergency services\n",
    "print(\"Emergency Services Distribution:\")\n",
    "print(hospital_general_df['Emergency Services'].value_counts())\n",
    "\n",
    "# Convert to binary\n",
    "hospital_general_df['Has_Emergency_Services'] = hospital_general_df['Emergency Services'].map({'Yes': 1, 'No': 0})"
   ]
  },
  {
   "cell_type": "code",
   "execution_count": 87,
   "id": "c2c173d3-6d6e-485d-b691-b1954a7268d1",
   "metadata": {
    "tags": []
   },
   "outputs": [
    {
     "name": "stdout",
     "output_type": "stream",
     "text": [
      "Hospital Rating Distribution:\n",
      "Hospital overall rating\n",
      "Not Available    2572\n",
      "3                 816\n",
      "4                 758\n",
      "2                 583\n",
      "5                 380\n",
      "1                 275\n",
      "Name: count, dtype: int64\n"
     ]
    }
   ],
   "source": [
    "\n",
    "### 3.4 Hospital Rating Processing\n",
    "\n",
    "# Analyze hospital ratings\n",
    "print(\"Hospital Rating Distribution:\")\n",
    "print(hospital_general_df['Hospital overall rating'].value_counts())\n",
    "# Convert to numeric (handle 'Not Available' cases)\n",
    "def convert_rating(rating):\n",
    "    if pd.isna(rating) or rating == 'Not Available':\n",
    "        return None\n",
    "    try:\n",
    "        return int(rating)\n",
    "    except:\n",
    "        return None\n",
    "\n",
    "hospital_general_df['Hospital_Rating_Numeric'] = hospital_general_df['Hospital overall rating'].apply(convert_rating)\n"
   ]
  },
  {
   "cell_type": "markdown",
   "id": "7a0d36e2-a43f-42e9-9fb2-c95c99d2ab2a",
   "metadata": {},
   "source": [
    "## Phase 4: Data Integration Preparation"
   ]
  },
  {
   "cell_type": "code",
   "execution_count": 88,
   "id": "b115af78-dbe5-4d2c-8483-ce5e28d757db",
   "metadata": {
    "tags": []
   },
   "outputs": [
    {
     "name": "stdout",
     "output_type": "stream",
     "text": [
      "Facility ID format check:\n",
      "  Length range: 6 - 6\n",
      "  Sample IDs: 0    010001\n",
      "1    010005\n",
      "2    010006\n",
      "3    010007\n",
      "4    010008\n",
      "Name: Facility ID, dtype: object\n"
     ]
    }
   ],
   "source": [
    "### 4.1 Create Merge Keys\n",
    "\n",
    "# Create standardized merge key for county health rankings\n",
    "hospital_general_df['State_County_Key'] = hospital_general_df['State'] + '_' + hospital_general_df['County_Standardized']\n",
    "\n",
    "# Verify Facility ID format for readmissions merge\n",
    "print(f\"Facility ID format check:\")\n",
    "print(f\"  Length range: {hospital_general_df['Facility ID'].str.len().min()} - {hospital_general_df['Facility ID'].str.len().max()}\")\n",
    "print(f\"  Sample IDs: {hospital_general_df['Facility ID'].head()}\")"
   ]
  },
  {
   "cell_type": "code",
   "execution_count": 89,
   "id": "eebc2607-ee2e-481f-9197-5bd7249d356c",
   "metadata": {
    "tags": []
   },
   "outputs": [
    {
     "name": "stdout",
     "output_type": "stream",
     "text": [
      "Geographic Coverage Analysis:\n",
      "Total hospitals: 5384\n",
      "Unique states: 56\n",
      "Unique counties: 1549\n",
      "\n",
      "Top 10 states by hospital count:\n",
      "State\n",
      "TX    459\n",
      "CA    379\n",
      "FL    219\n",
      "IL    195\n",
      "OH    194\n",
      "NY    190\n",
      "PA    188\n",
      "LA    156\n",
      "IN    149\n",
      "MI    146\n",
      "Name: count, dtype: int64\n"
     ]
    }
   ],
   "source": [
    "### 4.2 Geographic Coverage Analysis\n",
    "\n",
    "# Analyze geographic coverage\n",
    "print(\"Geographic Coverage Analysis:\")\n",
    "print(f\"Total hospitals: {len(hospital_general_df)}\")\n",
    "print(f\"Unique states: {hospital_general_df['State'].nunique()}\")\n",
    "print(f\"Unique counties: {hospital_general_df['County_Standardized'].nunique()}\")\n",
    "\n",
    "# State-level distribution\n",
    "state_counts = hospital_general_df['State'].value_counts()\n",
    "print(f\"\\nTop 10 states by hospital count:\")\n",
    "print(state_counts.head(10))"
   ]
  },
  {
   "cell_type": "code",
   "execution_count": 90,
   "id": "5091a0b5-ac5e-49a2-8837-fbd98e954ad9",
   "metadata": {
    "tags": []
   },
   "outputs": [
    {
     "name": "stdout",
     "output_type": "stream",
     "text": [
      "Data Completeness for Key Variables:\n",
      "                        Complete  Missing  Completeness_Rate\n",
      "Facility ID               5384.0      0.0              100.0\n",
      "County_Standardized       5384.0      0.0              100.0\n",
      "State                     5384.0      0.0              100.0\n",
      "Hospital_Type_Category    5384.0      0.0              100.0\n",
      "Ownership_Category        5384.0      0.0              100.0\n",
      "Has_Emergency_Services    5384.0      0.0              100.0\n"
     ]
    }
   ],
   "source": [
    "\n",
    "### 4.3 Data Completeness Assessment\n",
    "\n",
    "# Assess completeness of key variables\n",
    "key_vars = ['Facility ID', 'County_Standardized', 'State', 'Hospital_Type_Category', \n",
    "           'Ownership_Category', 'Has_Emergency_Services']\n",
    "\n",
    "completeness = {}\n",
    "for var in key_vars:\n",
    "    completeness[var] = {\n",
    "        'Complete': hospital_general_df[var].notna().sum(),\n",
    "        'Missing': hospital_general_df[var].isna().sum(),\n",
    "        'Completeness_Rate': (hospital_general_df[var].notna().sum() / len(hospital_general_df)) * 100\n",
    "    }\n",
    "\n",
    "completeness_df = pd.DataFrame(completeness).T\n",
    "print(\"Data Completeness for Key Variables:\")\n",
    "print(completeness_df)"
   ]
  },
  {
   "cell_type": "markdown",
   "id": "88144192-f9c4-4889-a9fa-d6869a9f3624",
   "metadata": {},
   "source": [
    "## Phase 5: Quality Checks & Validation"
   ]
  },
  {
   "cell_type": "code",
   "execution_count": 91,
   "id": "388f4d34-a5b4-4378-8907-47fe4ae9ed4f",
   "metadata": {
    "tags": []
   },
   "outputs": [
    {
     "name": "stdout",
     "output_type": "stream",
     "text": [
      "Duplicate Facility IDs: 0\n"
     ]
    }
   ],
   "source": [
    "### 5.1 Duplicate Detection\n",
    "\n",
    "# Check for duplicate facilities\n",
    "duplicates = hospital_general_df[hospital_general_df.duplicated(subset=['Facility ID'], keep=False)]\n",
    "print(f\"Duplicate Facility IDs: {len(duplicates)}\")\n",
    "\n",
    "if len(duplicates) > 0:\n",
    "    print(\"Duplicate facilities found:\")\n",
    "    print(duplicates[['Facility ID', 'Facility Name', 'State', 'County_Standardized']])"
   ]
  },
  {
   "cell_type": "code",
   "execution_count": 92,
   "id": "8dba0c8b-356e-46df-bb7f-b469d3025423",
   "metadata": {
    "tags": []
   },
   "outputs": [
    {
     "name": "stdout",
     "output_type": "stream",
     "text": [
      "Unique state-county combinations: 2451\n",
      "Counties with >20 hospitals (potential data quality check needed):\n",
      "     State County_Standardized  Hospital_Count\n",
      "134     AZ            MARICOPA              53\n",
      "159     CA         LOS ANGELES              88\n",
      "170     CA              ORANGE              28\n",
      "175     CA      SAN BERNARDINO              23\n",
      "176     CA           SAN DIEGO              22\n",
      "547     IL                COOK              58\n",
      "1032    MI               WAYNE              21\n",
      "1529    NV               CLARK              24\n",
      "1722    OK            OKLAHOMA              23\n",
      "1820    PA        PHILADELPHIA              21\n",
      "2052    TX              DALLAS              30\n",
      "2083    TX              HARRIS              49\n",
      "2158    TX             TARRANT              29\n"
     ]
    }
   ],
   "source": [
    "### 5.2 Geographic Validation\n",
    "\n",
    "# Cross-validate state and county combinations\n",
    "state_county_combos = hospital_general_df.groupby(['State', 'County_Standardized']).size().reset_index(name='Hospital_Count')\n",
    "print(f\"Unique state-county combinations: {len(state_county_combos)}\")\n",
    "\n",
    "# Look for potential data quality issues\n",
    "suspicious_combos = state_county_combos[state_county_combos['Hospital_Count'] > 20]\n",
    "print(f\"Counties with >20 hospitals (potential data quality check needed):\")\n",
    "print(suspicious_combos)"
   ]
  },
  {
   "cell_type": "markdown",
   "id": "8b295420-a28c-4b94-8a77-293256e2070f",
   "metadata": {},
   "source": [
    "## Phase 6: Final Dataset Creation"
   ]
  },
  {
   "cell_type": "code",
   "execution_count": 93,
   "id": "1581b8a5-ee42-458a-8bf6-205a0a2fe495",
   "metadata": {
    "tags": []
   },
   "outputs": [],
   "source": [
    "\n",
    "\n",
    "### 6.1 Create Analysis-Ready Dataset\n",
    "# Select final variables for analysis\n",
    "analysis_vars = [\n",
    "    'Facility ID',                    # Primary key\n",
    "    'Facility Name',                  # Reference\n",
    "    'State',                         # Geographic\n",
    "    'County_Standardized',           # Geographic (for county health rankings merge)\n",
    "    'State_County_Key',              # Merge key\n",
    "    'Hospital_Type_Category',        # Control variable\n",
    "    'Ownership_Category',            # Control variable\n",
    "    'Has_Emergency_Services',        # Control variable\n",
    "    'Hospital_Rating_Numeric',       # Control variable\n",
    "    'ZIP Code'                       # Backup geographic identifier\n",
    "]\n",
    "\n",
    "hospital_analysis_df = hospital_general_df[analysis_vars].copy()\n"
   ]
  },
  {
   "cell_type": "markdown",
   "id": "b8aefbe3-e4a8-4e97-acb0-51623d3409a5",
   "metadata": {},
   "source": [
    "### 6.2 Export for Integration"
   ]
  },
  {
   "cell_type": "code",
   "execution_count": 94,
   "id": "9adcce10-7797-4267-8910-7b6abbd96630",
   "metadata": {
    "tags": []
   },
   "outputs": [
    {
     "name": "stdout",
     "output_type": "stream",
     "text": [
      "Final Dataset Summary:\n",
      "       Facility ID      Facility Name State County_Standardized  \\\n",
      "count         5384               5384  5384                5384   \n",
      "unique        5384               5257    56                1549   \n",
      "top         671301  MEMORIAL HOSPITAL    TX         LOS ANGELES   \n",
      "freq             1                 12   459                  88   \n",
      "mean           NaN                NaN   NaN                 NaN   \n",
      "std            NaN                NaN   NaN                 NaN   \n",
      "min            NaN                NaN   NaN                 NaN   \n",
      "25%            NaN                NaN   NaN                 NaN   \n",
      "50%            NaN                NaN   NaN                 NaN   \n",
      "75%            NaN                NaN   NaN                 NaN   \n",
      "max            NaN                NaN   NaN                 NaN   \n",
      "\n",
      "       State_County_Key Hospital_Type_Category Ownership_Category  \\\n",
      "count              5384                   5384               5384   \n",
      "unique             2451                      3                  4   \n",
      "top      CA_LOS ANGELES             Acute Care            Private   \n",
      "freq                 88                   3295               3340   \n",
      "mean                NaN                    NaN                NaN   \n",
      "std                 NaN                    NaN                NaN   \n",
      "min                 NaN                    NaN                NaN   \n",
      "25%                 NaN                    NaN                NaN   \n",
      "50%                 NaN                    NaN                NaN   \n",
      "75%                 NaN                    NaN                NaN   \n",
      "max                 NaN                    NaN                NaN   \n",
      "\n",
      "        Has_Emergency_Services  Hospital_Rating_Numeric      ZIP Code  \n",
      "count              5384.000000              2812.000000   5384.000000  \n",
      "unique                     NaN                      NaN           NaN  \n",
      "top                        NaN                      NaN           NaN  \n",
      "freq                       NaN                      NaN           NaN  \n",
      "mean                  0.831166                 3.136913  53762.267831  \n",
      "std                   0.374640                 1.179133  27103.733755  \n",
      "min                   0.000000                 1.000000    603.000000  \n",
      "25%                   1.000000                 2.000000  32607.250000  \n",
      "50%                   1.000000                 3.000000  55046.000000  \n",
      "75%                   1.000000                 4.000000  76125.250000  \n",
      "max                   1.000000                 5.000000  99929.000000  \n"
     ]
    }
   ],
   "source": [
    "# Save preprocessed dataset\n",
    "hospital_analysis_df.to_csv('hospital_general_preprocessed.csv', index=False)\n",
    "\n",
    "# Create summary statistics\n",
    "summary_stats = hospital_analysis_df.describe(include='all')\n",
    "print(\"Final Dataset Summary:\")\n",
    "print(summary_stats)\n"
   ]
  },
  {
   "cell_type": "markdown",
   "id": "380760db-a1c5-4e57-9451-a90080b09fed",
   "metadata": {
    "tags": []
   },
   "source": [
    "## THREE WAY DATA MERGE"
   ]
  },
  {
   "cell_type": "code",
   "execution_count": null,
   "id": "e28f5a66-ee54-4926-b0e9-435d20f8ac37",
   "metadata": {},
   "outputs": [],
   "source": []
  },
  {
   "cell_type": "code",
   "execution_count": 95,
   "id": "096c81d0-21de-4214-9795-039633ee9ad5",
   "metadata": {
    "tags": []
   },
   "outputs": [],
   "source": [
    "from typing import Tuple, Dict, List\n",
    "\n",
    "def standardize_county_names(county_series: pd.Series) -> pd.Series:\n",
    "    \"\"\"\n",
    "    Standardize county names by removing common suffixes and cleaning formatting\n",
    "    \"\"\"\n",
    "    # Convert to string and handle missing values\n",
    "    county_clean = county_series.astype(str).str.strip()\n",
    "    \n",
    "    # Remove common county suffixes\n",
    "    suffixes_to_remove = [\n",
    "        r'\\s+County$', r'\\s+Parish$', r'\\s+Borough$', \n",
    "        r'\\s+city$', r'\\s+City$', r'\\s+COUNTY$', \n",
    "        r'\\s+PARISH$', r'\\s+BOROUGH$'\n",
    "    ]\n",
    "    \n",
    "    for suffix in suffixes_to_remove:\n",
    "        county_clean = county_clean.str.replace(suffix, '', regex=True)\n",
    "    \n",
    "    # Additional cleaning\n",
    "    county_clean = county_clean.str.strip()\n",
    "    county_clean = county_clean.str.title()  # Standardize capitalization\n",
    "    \n",
    "    return county_clean\n",
    "\n",
    "def load_and_prepare_hospital_general(file_path: str) -> pd.DataFrame:\n",
    "    \"\"\"\n",
    "    Load and prepare Hospital General Information dataset\n",
    "    \"\"\"\n",
    "    print(\"Loading Hospital General Information dataset...\")\n",
    "    \n",
    "    # Load the dataset\n",
    "    hospital_general = pd.read_csv(file_path)\n",
    "    \n",
    "    \n",
    "    # Keep only existing columns\n",
    "    existing_columns = [col for col in hospital_general.columns]\n",
    "    hospital_general = hospital_general[existing_columns].copy()\n",
    "    \n",
    "    # Clean and standardize\n",
    "    hospital_general['county_clean'] = standardize_county_names(hospital_general['County_Standardized'])\n",
    "    hospital_general['state_county'] = hospital_general['State'].astype(str) + '_' + hospital_general['county_clean']\n",
    "    \n",
    "    # Clean Facility ID to ensure 6-character format\n",
    "    hospital_general['Facility ID'] = hospital_general['Facility ID'].astype(str).str.strip()\n",
    "    \n",
    "    # Remove duplicates based on Facility ID\n",
    "    hospital_general = hospital_general.drop_duplicates(subset=['Facility ID'])\n",
    "    \n",
    "    print(f\"Hospital General dataset prepared: {len(hospital_general)} hospitals\")\n",
    "    print(f\"Geographic coverage: {hospital_general['State'].nunique()} states, {hospital_general['county_clean'].nunique()} counties\")\n",
    "    \n",
    "    return hospital_general\n",
    "\n",
    "def load_and_prepare_county_health(file_path: str) -> pd.DataFrame:\n",
    "    \"\"\"\n",
    "    Load and prepare County Health Rankings dataset\n",
    "    \"\"\"\n",
    "    print(\"Loading County Health Rankings dataset...\")\n",
    "    \n",
    "    # Load the dataset\n",
    "    county_health = pd.read_csv(file_path)\n",
    "    \n",
    "    # Filter to 2020-2022 to match readmissions period\n",
    "    county_health = county_health[county_health['release_year'].isin([2020, 2021, 2022])].copy()\n",
    "    \"\"\"\n",
    "    # Select core social determinant variables with low missing data\n",
    "    core_variables = [\n",
    "        'release_year',\n",
    "        'state_abbreviation',\n",
    "        'name',\n",
    "        '5_digit_fips_code',\n",
    "        # Economic factors\n",
    "        'median_household_income_raw_value',\n",
    "        'children_in_poverty_raw_value',\n",
    "        'unemployment_raw_value',\n",
    "        # Healthcare access\n",
    "        'uninsured_adults_raw_value',\n",
    "        'primary_care_physicians_raw_value',\n",
    "        'mental_health_providers_raw_value',\n",
    "        # Demographics\n",
    "       '%_65_and_older_raw_value',\n",
    "       '%_non_hispanic_black_raw_value',\n",
    "       '%_american_indian_alaska_native_raw_value',\n",
    "       '%_asian_raw_value',\n",
    "       '%_hispanic_raw_value',\n",
    "       '%_native_hawaiian_other_pacific_islander_raw_value',\n",
    "       '%_non_hispanic_white_raw_value',\n",
    "       '%_rural_raw_value',\n",
    "       '%_females_raw_value'\n",
    "        # Education\n",
    "        'some_college_raw_value'\n",
    "    ]\n",
    "    \"\"\"\n",
    "    # Keep only existing columns\n",
    "    existing_columns = [col for col in county_health.columns]\n",
    "    county_health = county_health[existing_columns].copy()\n",
    "    \n",
    "    # Clean and standardize county names\n",
    "    county_health['county_clean'] = standardize_county_names(county_health['name'])\n",
    "    county_health['state_county'] = county_health['state_abbreviation'].astype(str) + '_' + county_health['county_clean']\n",
    "    \n",
    "    # For multiple years, take the most recent available data (2022 first, then 2021, then 2020)\n",
    "    # This handles the decreasing completeness over time\n",
    "    county_health = county_health.sort_values(['state_county', 'release_year'], ascending=[True, False])\n",
    "    county_health = county_health.groupby('state_county').first().reset_index()\n",
    "    \n",
    "    print(f\"County Health dataset prepared: {len(county_health)} counties\")\n",
    "    print(f\"Geographic coverage: {county_health['state_abbreviation'].nunique()} states\")\n",
    "    \n",
    "    return county_health\n",
    "\n",
    "def load_and_prepare_readmissions(file_path: str) -> pd.DataFrame:\n",
    "    \"\"\"\n",
    "    Load and prepare Hospital Readmissions dataset\n",
    "    \"\"\"\n",
    "    print(\"Loading Hospital Readmissions dataset...\")\n",
    "    \n",
    "    # Load the dataset\n",
    "    readmissions = pd.read_csv(file_path)\n",
    "    \n",
    "    # Filter to pneumonia readmissions (primary outcome)\n",
    "    readmissions = readmissions[readmissions['Measure Name'] == 'READM-30-PN-HRRP'].copy()\n",
    "    #readmissions = readmissions[readmissions['Measure Name'] == 'READM-30-HIP-KNEE-HRRP'].copy()\n",
    "    \"\"\"\n",
    "    # Select relevant columns\n",
    "    columns_to_keep = [\n",
    "        'Facility ID',\n",
    "        'Facility Name',\n",
    "        'Measure ID',\n",
    "        'Number of Discharges',\n",
    "        'Footnote',\n",
    "        'Excess Readmission Ratio',\n",
    "        'Predicted Readmission Rate',\n",
    "        'Expected Readmission Rate',\n",
    "        'Number of Readmissions'\n",
    "    ]\n",
    "    \"\"\"\n",
    "    # Keep only existing columns\n",
    "    existing_columns = [col for col in readmissions.columns]\n",
    "    readmissions = readmissions[existing_columns].copy()\n",
    "    \n",
    "    # Clean Facility ID\n",
    "    readmissions['Facility ID'] = readmissions['Facility ID'].astype(str).str.strip()\n",
    "    \n",
    "    # Remove records with missing outcome data\n",
    "    readmissions = readmissions.dropna(subset=['Excess Readmission Ratio'])\n",
    "    \n",
    "    # Remove duplicates\n",
    "    readmissions = readmissions.drop_duplicates(subset=['Facility ID'])\n",
    "    \n",
    "    print(f\"Readmissions dataset prepared: {len(readmissions)} hospitals with pneumonia data\")\n",
    "    \n",
    "    return readmissions\n",
    "\n",
    "def execute_three_way_merge(hospital_general: pd.DataFrame, \n",
    "                           county_health: pd.DataFrame, \n",
    "                           readmissions: pd.DataFrame) -> Tuple[pd.DataFrame, Dict]:\n",
    "    \"\"\"\n",
    "    Execute the three-way merge and return merged dataset with statistics\n",
    "    \"\"\"\n",
    "    print(\"\\n=== EXECUTING THREE-WAY MERGE ===\")\n",
    "    \n",
    "    # Step 1: Merge Hospital General with County Health Rankings\n",
    "    print(\"Step 1: Merging Hospital General with County Health Rankings...\")\n",
    "    \n",
    "    merge_stats = {}\n",
    "    \n",
    "    # First merge on State_County\n",
    "    hospital_county_merge = pd.merge(\n",
    "        hospital_general, \n",
    "        county_health, \n",
    "        on='state_county', \n",
    "        how='left',\n",
    "        suffixes=('_hospital', '_county')\n",
    "    )\n",
    "    \n",
    "    # Check merge success\n",
    "    successful_county_merge = hospital_county_merge['release_year'].notna().sum()\n",
    "    merge_stats['hospital_county_successful'] = successful_county_merge\n",
    "    merge_stats['hospital_county_total'] = len(hospital_general)\n",
    "    merge_stats['hospital_county_rate'] = successful_county_merge / len(hospital_general) * 100\n",
    "    \n",
    "    print(f\"Hospital-County merge: {successful_county_merge}/{len(hospital_general)} hospitals matched ({merge_stats['hospital_county_rate']:.1f}%)\")\n",
    "    \n",
    "    # Step 2: Merge with Readmissions data\n",
    "    print(\"Step 2: Merging with Readmissions data...\")\n",
    "    \n",
    "    final_merged = pd.merge(\n",
    "        hospital_county_merge,\n",
    "        readmissions,\n",
    "        on='Facility ID',\n",
    "        how='inner',  # Only keep hospitals with readmissions data\n",
    "        suffixes=('', '_readmissions')\n",
    "    )\n",
    "    \n",
    "    # Check final merge success\n",
    "    merge_stats['final_sample_size'] = len(final_merged)\n",
    "    merge_stats['readmissions_total'] = len(readmissions)\n",
    "    merge_stats['three_way_success_rate'] = len(final_merged) / len(readmissions) * 100\n",
    "    \n",
    "    print(f\"Final three-way merge: {len(final_merged)} hospitals with complete data\")\n",
    "    print(f\"Success rate from readmissions sample: {merge_stats['three_way_success_rate']:.1f}%\")\n",
    "    \n",
    "    # Step 3: Clean final dataset\n",
    "    print(\"Step 3: Cleaning final dataset...\")\n",
    "    \n",
    "    # Remove duplicate columns and clean names\n",
    "    final_merged = final_merged.loc[:, ~final_merged.columns.duplicated()]\n",
    "    \n",
    "    # Create final analysis variables\n",
    "    #final_merged['Has_Emergency_Services'] = final_merged['Emergency Services'].map({'Yes': 1, 'No': 0})\n",
    "    \n",
    "    # Convert numeric columns\n",
    "    numeric_columns = [\n",
    "        'median_household_income_raw_value', 'children_in_poverty_raw_value', 'unemployment_raw_value',\n",
    "        'uninsured_adults_raw_value', 'primary_care_physicians_raw_value',\n",
    "        'mental_health_providers_raw_value',\n",
    "           '%_65_and_older_raw_value',\n",
    "           '%_non_hispanic_black_raw_value',\n",
    "           '%_american_indian_alaska_native_raw_value',\n",
    "           '%_asian_raw_value',\n",
    "           '%_hispanic_raw_value',\n",
    "           '%_native_hawaiian_other_pacific_islander_raw_value',\n",
    "           '%_non_hispanic_white_raw_value',\n",
    "           '%_rural_raw_value',\n",
    "           '%_females_raw_value','Excess Readmission Ratio'\n",
    "    ]\n",
    "    \n",
    "    for col in numeric_columns:\n",
    "        if col in final_merged.columns:\n",
    "            final_merged[col] = pd.to_numeric(final_merged[col], errors='coerce')\n",
    "    \n",
    "    # Calculate data completeness for key variables\n",
    "    merge_stats['key_variable_completeness'] = {}\n",
    "    for col in numeric_columns:\n",
    "        if col in final_merged.columns:\n",
    "            completeness = (1 - final_merged[col].isna().sum() / len(final_merged)) * 100\n",
    "            merge_stats['key_variable_completeness'][col] = completeness\n",
    "    \n",
    "    print(f\"Final dataset ready: {len(final_merged)} hospitals\")\n",
    "    \n",
    "    return final_merged, merge_stats\n",
    "\n",
    "def analyze_merge_results(merged_data: pd.DataFrame, merge_stats: Dict) -> None:\n",
    "    \"\"\"\n",
    "    Analyze and display merge results\n",
    "    \"\"\"\n",
    "    print(\"\\n=== MERGE ANALYSIS RESULTS ===\")\n",
    "    \n",
    "    print(f\"\\nFinal Sample Size: {merge_stats['final_sample_size']} hospitals\")\n",
    "    print(f\"Geographic Coverage: {merged_data['State'].nunique()} states, {merged_data['state_county'].nunique()} counties\")\n",
    "    \n",
    "    print(f\"\\nMerge Success Rates:\")\n",
    "    print(f\"  Hospital-County merge: {merge_stats['hospital_county_rate']:.1f}%\")\n",
    "    print(f\"  Three-way merge success: {merge_stats['three_way_success_rate']:.1f}%\")\n",
    "    \n",
    "    print(f\"\\nHospital Characteristics Distribution:\")\n",
    "    print(f\"  Hospital Type:\\n{merged_data['Hospital_Type_Category'].value_counts()}\")\n",
    "    print(f\"  Hospital Ownership:\\n{merged_data['Ownership_Category'].value_counts()}\")\n",
    "    print(f\"  Emergency Services: {merged_data['Has_Emergency_Services'].mean()*100:.1f}% have emergency services\")\n",
    "    \n",
    "    print(f\"\\nKey Variable Completeness:\")\n",
    "    for var, completeness in merge_stats['key_variable_completeness'].items():\n",
    "        print(f\"  {var}: {completeness:.1f}%\")\n",
    "    \n",
    "    print(f\"\\nPrimary Outcome (Excess Readmission Ratio):\")\n",
    "    err_stats = merged_data['Excess Readmission Ratio'].describe()\n",
    "    print(f\"  Mean: {err_stats['mean']:.3f}\")\n",
    "    print(f\"  Std: {err_stats['std']:.3f}\")\n",
    "    print(f\"  Range: {err_stats['min']:.3f} - {err_stats['max']:.3f}\")\n",
    "\n"
   ]
  },
  {
   "cell_type": "code",
   "execution_count": 96,
   "id": "13553db8-8a4f-4f3b-a2d5-965c5049da40",
   "metadata": {
    "tags": []
   },
   "outputs": [
    {
     "name": "stdout",
     "output_type": "stream",
     "text": [
      "=== SOCIAL DETERMINANTS ANALYSIS: THREE-WAY DATA MERGE ===\n",
      "\n",
      "Loading Hospital General Information dataset...\n",
      "Hospital General dataset prepared: 5384 hospitals\n",
      "Geographic coverage: 56 states, 1549 counties\n",
      "Loading County Health Rankings dataset...\n",
      "County Health dataset prepared: 3180 counties\n",
      "Geographic coverage: 52 states\n",
      "Loading Hospital Readmissions dataset...\n",
      "Readmissions dataset prepared: 2731 hospitals with pneumonia data\n",
      "\n",
      "=== EXECUTING THREE-WAY MERGE ===\n",
      "Step 1: Merging Hospital General with County Health Rankings...\n",
      "Hospital-County merge: 5163/5384 hospitals matched (95.9%)\n",
      "Step 2: Merging with Readmissions data...\n",
      "Final three-way merge: 2237 hospitals with complete data\n",
      "Success rate from readmissions sample: 81.9%\n",
      "Step 3: Cleaning final dataset...\n",
      "Final dataset ready: 2237 hospitals\n",
      "\n",
      "=== MERGE ANALYSIS RESULTS ===\n",
      "\n",
      "Final Sample Size: 2237 hospitals\n",
      "Geographic Coverage: 42 states, 1208 counties\n",
      "\n",
      "Merge Success Rates:\n",
      "  Hospital-County merge: 95.9%\n",
      "  Three-way merge success: 81.9%\n",
      "\n",
      "Hospital Characteristics Distribution:\n",
      "  Hospital Type:\n",
      "Hospital_Type_Category\n",
      "Acute Care    2237\n",
      "Name: count, dtype: int64\n",
      "  Hospital Ownership:\n",
      "Ownership_Category\n",
      "Private       1543\n",
      "Non-Profit     372\n",
      "Public         311\n",
      "Other           11\n",
      "Name: count, dtype: int64\n",
      "  Emergency Services: 96.2% have emergency services\n",
      "\n",
      "Key Variable Completeness:\n",
      "  median_household_income_raw_value: 96.3%\n",
      "  children_in_poverty_raw_value: 96.3%\n",
      "  unemployment_raw_value: 96.3%\n",
      "  uninsured_adults_raw_value: 96.3%\n",
      "  primary_care_physicians_raw_value: 96.2%\n",
      "  mental_health_providers_raw_value: 96.2%\n",
      "  %_65_and_older_raw_value: 96.3%\n",
      "  %_non_hispanic_black_raw_value: 96.3%\n",
      "  %_american_indian_alaska_native_raw_value: 96.3%\n",
      "  %_asian_raw_value: 96.3%\n",
      "  %_hispanic_raw_value: 96.3%\n",
      "  %_native_hawaiian_other_pacific_islander_raw_value: 96.3%\n",
      "  %_non_hispanic_white_raw_value: 96.3%\n",
      "  %_rural_raw_value: 96.2%\n",
      "  %_females_raw_value: 96.3%\n",
      "  Excess Readmission Ratio: 100.0%\n",
      "\n",
      "Primary Outcome (Excess Readmission Ratio):\n",
      "  Mean: 0.999\n",
      "  Std: 0.064\n",
      "  Range: 0.780 - 1.287\n",
      "\n",
      "Merged dataset saved to: merged_social_determinants_analysis.csv\n"
     ]
    }
   ],
   "source": [
    "# Main execution function\n",
    "def main():\n",
    "    \"\"\"\n",
    "    Main function to execute the three-way merge\n",
    "    \"\"\"\n",
    "    print(\"=== SOCIAL DETERMINANTS ANALYSIS: THREE-WAY DATA MERGE ===\\n\")\n",
    "    \n",
    "    # File paths - UPDATE THESE WITH YOUR ACTUAL FILE PATHS\n",
    "    hospital_general_path = \"hospital_general_preprocessed.csv\"  # Update this path\n",
    "    county_health_path = \"county_health_processed.csv\"  # Update this path\n",
    "    readmissions_path = \"readmission_processed.csv\"  # Update this path\n",
    "    \n",
    "    try:\n",
    "        # Load and prepare datasets\n",
    "        hospital_general = load_and_prepare_hospital_general(hospital_general_path)\n",
    "        county_health = load_and_prepare_county_health(county_health_path)\n",
    "        readmissions = load_and_prepare_readmissions(readmissions_path)\n",
    "        \n",
    "        # Execute three-way merge\n",
    "        merged_data, merge_stats = execute_three_way_merge(hospital_general, county_health, readmissions)\n",
    "        \n",
    "        # Analyze results\n",
    "        analyze_merge_results(merged_data, merge_stats)\n",
    "        \n",
    "        # Save merged dataset\n",
    "        output_path = \"merged_social_determinants_analysis.csv\"\n",
    "        merged_data.to_csv(output_path, index=False)\n",
    "        print(f\"\\nMerged dataset saved to: {output_path}\")\n",
    "        \n",
    "        # Return for further analysis\n",
    "        return merged_data, merge_stats\n",
    "        \n",
    "    except FileNotFoundError as e:\n",
    "        print(f\"Error: Could not find file. Please update the file paths in the main() function.\")\n",
    "        print(f\"Missing file: {e}\")\n",
    "        return None, None\n",
    "    except Exception as e:\n",
    "        print(f\"Error during merge process: {e}\")\n",
    "        return None, None\n",
    "\n",
    "if __name__ == \"__main__\":\n",
    "    merged_data, merge_stats = main()"
   ]
  },
  {
   "cell_type": "code",
   "execution_count": 97,
   "id": "2962fab0-c11b-4dba-a825-47285bcacc4f",
   "metadata": {
    "tags": []
   },
   "outputs": [
    {
     "data": {
      "text/plain": [
       "Index(['Facility ID', 'Facility Name', 'State', 'County_Standardized',\n",
       "       'State_County_Key', 'Hospital_Type_Category', 'Ownership_Category',\n",
       "       'Has_Emergency_Services', 'Hospital_Rating_Numeric', 'ZIP Code',\n",
       "       'county_clean_hospital', 'state_county', 'state_fips_code',\n",
       "       'county_fips_code', '5_digit_fips_code', 'state_abbreviation', 'name',\n",
       "       'release_year', 'median_household_income_raw_value',\n",
       "       'median_household_income_ci_low', 'median_household_income_ci_high',\n",
       "       'children_in_poverty_raw_value', 'children_in_poverty_ci_low',\n",
       "       'children_in_poverty_ci_high', 'unemployment_raw_value',\n",
       "       'income_inequality_raw_value', 'some_college_raw_value',\n",
       "       'high_school_graduation_raw_value', 'uninsured_adults_raw_value',\n",
       "       'primary_care_physicians_raw_value',\n",
       "       'ratio_of_population_to_primary_care_physicians',\n",
       "       'mental_health_providers_raw_value',\n",
       "       'ratio_of_population_to_mental_health_providers',\n",
       "       'severe_housing_problems_raw_value', 'social_associations_raw_value',\n",
       "       'residential_segregation_black_white_raw_value',\n",
       "       '%_65_and_older_raw_value', '%_non_hispanic_black_raw_value',\n",
       "       '%_american_indian_alaska_native_raw_value', '%_asian_raw_value',\n",
       "       '%_hispanic_raw_value',\n",
       "       '%_native_hawaiian_other_pacific_islander_raw_value',\n",
       "       '%_non_hispanic_white_raw_value', '%_rural_raw_value',\n",
       "       '%_females_raw_value', 'population_raw_value',\n",
       "       'adult_smoking_raw_value', 'adult_obesity_raw_value',\n",
       "       'excessive_drinking_raw_value', 'physical_inactivity_raw_value',\n",
       "       'poor_or_fair_health_raw_value', 'poor_physical_health_days_raw_value',\n",
       "       'poor_mental_health_days_raw_value',\n",
       "       'children_in_single_parent_households_raw_value',\n",
       "       'food_insecurity_raw_value', 'homeownership_raw_value',\n",
       "       '%_not_proficient_in_english_raw_value', 'uninsured_children_raw_value',\n",
       "       'other_primary_care_providers_raw_value', 'county_clean_county',\n",
       "       'Facility Name_readmissions', 'State_readmissions', 'Measure Name',\n",
       "       'Number of Discharges', 'Footnote', 'Excess Readmission Ratio',\n",
       "       'Predicted Readmission Rate', 'Expected Readmission Rate',\n",
       "       'Number of Readmissions', 'Start Date', 'End Date'],\n",
       "      dtype='object')"
      ]
     },
     "execution_count": 97,
     "metadata": {},
     "output_type": "execute_result"
    }
   ],
   "source": [
    "merged_data.columns"
   ]
  },
  {
   "cell_type": "code",
   "execution_count": null,
   "id": "d12cf4bc-f52d-4839-b7ae-e6bca84096cf",
   "metadata": {},
   "outputs": [],
   "source": []
  },
  {
   "cell_type": "code",
   "execution_count": null,
   "id": "ff4ea350-e943-41f4-8cdd-f2b996f6dcff",
   "metadata": {},
   "outputs": [],
   "source": []
  },
  {
   "cell_type": "code",
   "execution_count": null,
   "id": "251b25c4-3341-4df2-bbb0-f2b16c5a4418",
   "metadata": {},
   "outputs": [],
   "source": []
  },
  {
   "cell_type": "code",
   "execution_count": null,
   "id": "bdbef0dd-9de0-4895-97cc-25a578c65378",
   "metadata": {},
   "outputs": [],
   "source": []
  }
 ],
 "metadata": {
  "environment": {
   "kernel": "conda-base-py",
   "name": "workbench-notebooks.m124",
   "type": "gcloud",
   "uri": "us-docker.pkg.dev/deeplearning-platform-release/gcr.io/workbench-notebooks:m124"
  },
  "kernelspec": {
   "display_name": "Python 3 (ipykernel) (Local)",
   "language": "python",
   "name": "conda-base-py"
  },
  "language_info": {
   "codemirror_mode": {
    "name": "ipython",
    "version": 3
   },
   "file_extension": ".py",
   "mimetype": "text/x-python",
   "name": "python",
   "nbconvert_exporter": "python",
   "pygments_lexer": "ipython3",
   "version": "3.10.14"
  }
 },
 "nbformat": 4,
 "nbformat_minor": 5
}
