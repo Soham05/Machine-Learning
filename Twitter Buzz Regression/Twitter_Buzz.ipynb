{
 "cells": [
  {
   "cell_type": "markdown",
   "metadata": {},
   "source": [
    "### <font color='red'> Project 2 : Buzz Prediction on Twitter\n",
    "\n",
    "Project Description:\n",
    "- There are two different datasets for Regression and Classification tasks. Right-most column in both the datasets is a dependent variable i.e. buzz.\n"
   ]
  },
  {
   "cell_type": "code",
   "execution_count": 1,
   "metadata": {},
   "outputs": [],
   "source": [
    "import pandas as pd\n",
    "import numpy as np\n",
    "import matplotlib.pyplot as plt\n",
    "import seaborn as sns\n",
    "from sklearn.model_selection import GridSearchCV\n",
    "from sklearn.model_selection import cross_val_score\n",
    "from sklearn.metrics import r2_score,mean_absolute_error,mean_squared_error,precision_recall_curve,f1_score,auc,average_precision_score,roc_curve,roc_auc_score,average_precision_score\n",
    "from sklearn.metrics import classification_report,confusion_matrix\n",
    "import matplotlib \n",
    "\n",
    "matplotlib.style.use('ggplot')"
   ]
  },
  {
   "cell_type": "code",
   "execution_count": 2,
   "metadata": {},
   "outputs": [],
   "source": [
    "# Creating list of Column names as mentioned in description file.\n",
    "columns = ['NCD_0','NCD_1','NCD_2','NCD_3','NCD_4','NCD_5','NCD_6','AI_0','AI_1','AI_2','AI_3','AI_4','AI_5','AI_6','AS(NA)_0','AS(NA)_1','AS(NA)_2','AS(NA)_3','AS(NA)_4','AS(NA)_5','AS(NA)_6','BL_0','BL_1','BL_2','BL_3','BL_4','BL_5','BL_6','NAC_0','NAC_1','NAC_2','NAC_3','NAC_4','NAC_5','NAC_6','AS(NAC)_0','AS(NAC)_1','AS(NAC)_2','AS(NAC)_3','AS(NAC)_4','AS(NAC)_5','AS(NAC)_6','CS_0','CS_1','CS_2','CS_3','CS_4','CS_5','CS_6','AT_0','AT_1','AT_2','AT_3','AT_4','AT_5','AT_6','NA_0','NA_1','NA_2','NA_3','NA_4','NA_5','NA_6','ADL_0','ADL_1','ADL_2','ADL_3','ADL_4','ADL_5','ADL_6','NAD_0','NAD_1','NAD_2','NAD_3','NAD_4','NAD_5','NAD_6','Buzz']"
   ]
  },
  {
   "cell_type": "code",
   "execution_count": 3,
   "metadata": {},
   "outputs": [],
   "source": [
    "# This DataFrame will be used for Regression\n",
    "twitterDataReg = pd.read_csv(\"twitter.data\",sep=',',header = None,skipinitialspace=True)\n",
    "# This DataFrame will be used for Classification\n",
    "twitterDataClass = pd.read_csv(\"Twitter-Absolute-Sigma-500.data\",header = None,skipinitialspace=True)"
   ]
  },
  {
   "cell_type": "code",
   "execution_count": 4,
   "metadata": {},
   "outputs": [],
   "source": [
    "twitterDataReg.columns  = columns\n",
    "twitterDataClass.columns = columns"
   ]
  },
  {
   "cell_type": "code",
   "execution_count": 5,
   "metadata": {},
   "outputs": [
    {
     "data": {
      "text/html": [
       "<div>\n",
       "<style scoped>\n",
       "    .dataframe tbody tr th:only-of-type {\n",
       "        vertical-align: middle;\n",
       "    }\n",
       "\n",
       "    .dataframe tbody tr th {\n",
       "        vertical-align: top;\n",
       "    }\n",
       "\n",
       "    .dataframe thead th {\n",
       "        text-align: right;\n",
       "    }\n",
       "</style>\n",
       "<table border=\"1\" class=\"dataframe\">\n",
       "  <thead>\n",
       "    <tr style=\"text-align: right;\">\n",
       "      <th></th>\n",
       "      <th>NCD_0</th>\n",
       "      <th>NCD_1</th>\n",
       "      <th>NCD_2</th>\n",
       "      <th>NCD_3</th>\n",
       "      <th>NCD_4</th>\n",
       "      <th>NCD_5</th>\n",
       "      <th>NCD_6</th>\n",
       "      <th>AI_0</th>\n",
       "      <th>AI_1</th>\n",
       "      <th>AI_2</th>\n",
       "      <th>...</th>\n",
       "      <th>ADL_5</th>\n",
       "      <th>ADL_6</th>\n",
       "      <th>NAD_0</th>\n",
       "      <th>NAD_1</th>\n",
       "      <th>NAD_2</th>\n",
       "      <th>NAD_3</th>\n",
       "      <th>NAD_4</th>\n",
       "      <th>NAD_5</th>\n",
       "      <th>NAD_6</th>\n",
       "      <th>Buzz</th>\n",
       "    </tr>\n",
       "  </thead>\n",
       "  <tbody>\n",
       "    <tr>\n",
       "      <th>0</th>\n",
       "      <td>0</td>\n",
       "      <td>2</td>\n",
       "      <td>0</td>\n",
       "      <td>0</td>\n",
       "      <td>1</td>\n",
       "      <td>1</td>\n",
       "      <td>1</td>\n",
       "      <td>0</td>\n",
       "      <td>1</td>\n",
       "      <td>0</td>\n",
       "      <td>...</td>\n",
       "      <td>1.0</td>\n",
       "      <td>1.0</td>\n",
       "      <td>0</td>\n",
       "      <td>2</td>\n",
       "      <td>0</td>\n",
       "      <td>0</td>\n",
       "      <td>1</td>\n",
       "      <td>1</td>\n",
       "      <td>1</td>\n",
       "      <td>0.0</td>\n",
       "    </tr>\n",
       "    <tr>\n",
       "      <th>1</th>\n",
       "      <td>2</td>\n",
       "      <td>1</td>\n",
       "      <td>0</td>\n",
       "      <td>0</td>\n",
       "      <td>0</td>\n",
       "      <td>0</td>\n",
       "      <td>4</td>\n",
       "      <td>2</td>\n",
       "      <td>1</td>\n",
       "      <td>0</td>\n",
       "      <td>...</td>\n",
       "      <td>0.0</td>\n",
       "      <td>1.0</td>\n",
       "      <td>2</td>\n",
       "      <td>1</td>\n",
       "      <td>0</td>\n",
       "      <td>0</td>\n",
       "      <td>0</td>\n",
       "      <td>0</td>\n",
       "      <td>4</td>\n",
       "      <td>0.5</td>\n",
       "    </tr>\n",
       "    <tr>\n",
       "      <th>2</th>\n",
       "      <td>1</td>\n",
       "      <td>0</td>\n",
       "      <td>0</td>\n",
       "      <td>0</td>\n",
       "      <td>0</td>\n",
       "      <td>4</td>\n",
       "      <td>1</td>\n",
       "      <td>1</td>\n",
       "      <td>0</td>\n",
       "      <td>0</td>\n",
       "      <td>...</td>\n",
       "      <td>1.0</td>\n",
       "      <td>1.0</td>\n",
       "      <td>1</td>\n",
       "      <td>0</td>\n",
       "      <td>0</td>\n",
       "      <td>0</td>\n",
       "      <td>0</td>\n",
       "      <td>4</td>\n",
       "      <td>1</td>\n",
       "      <td>0.0</td>\n",
       "    </tr>\n",
       "    <tr>\n",
       "      <th>3</th>\n",
       "      <td>1</td>\n",
       "      <td>0</td>\n",
       "      <td>0</td>\n",
       "      <td>1</td>\n",
       "      <td>0</td>\n",
       "      <td>0</td>\n",
       "      <td>1</td>\n",
       "      <td>1</td>\n",
       "      <td>0</td>\n",
       "      <td>0</td>\n",
       "      <td>...</td>\n",
       "      <td>0.0</td>\n",
       "      <td>1.0</td>\n",
       "      <td>1</td>\n",
       "      <td>0</td>\n",
       "      <td>0</td>\n",
       "      <td>1</td>\n",
       "      <td>0</td>\n",
       "      <td>0</td>\n",
       "      <td>1</td>\n",
       "      <td>2.5</td>\n",
       "    </tr>\n",
       "    <tr>\n",
       "      <th>4</th>\n",
       "      <td>0</td>\n",
       "      <td>1</td>\n",
       "      <td>0</td>\n",
       "      <td>0</td>\n",
       "      <td>1</td>\n",
       "      <td>2</td>\n",
       "      <td>3</td>\n",
       "      <td>0</td>\n",
       "      <td>1</td>\n",
       "      <td>0</td>\n",
       "      <td>...</td>\n",
       "      <td>1.0</td>\n",
       "      <td>1.0</td>\n",
       "      <td>0</td>\n",
       "      <td>1</td>\n",
       "      <td>0</td>\n",
       "      <td>0</td>\n",
       "      <td>1</td>\n",
       "      <td>2</td>\n",
       "      <td>3</td>\n",
       "      <td>0.5</td>\n",
       "    </tr>\n",
       "  </tbody>\n",
       "</table>\n",
       "<p>5 rows × 78 columns</p>\n",
       "</div>"
      ],
      "text/plain": [
       "   NCD_0  NCD_1  NCD_2  NCD_3  NCD_4  NCD_5  NCD_6  AI_0  AI_1  AI_2  ...   \\\n",
       "0      0      2      0      0      1      1      1     0     1     0  ...    \n",
       "1      2      1      0      0      0      0      4     2     1     0  ...    \n",
       "2      1      0      0      0      0      4      1     1     0     0  ...    \n",
       "3      1      0      0      1      0      0      1     1     0     0  ...    \n",
       "4      0      1      0      0      1      2      3     0     1     0  ...    \n",
       "\n",
       "   ADL_5  ADL_6  NAD_0  NAD_1  NAD_2  NAD_3  NAD_4  NAD_5  NAD_6  Buzz  \n",
       "0    1.0    1.0      0      2      0      0      1      1      1   0.0  \n",
       "1    0.0    1.0      2      1      0      0      0      0      4   0.5  \n",
       "2    1.0    1.0      1      0      0      0      0      4      1   0.0  \n",
       "3    0.0    1.0      1      0      0      1      0      0      1   2.5  \n",
       "4    1.0    1.0      0      1      0      0      1      2      3   0.5  \n",
       "\n",
       "[5 rows x 78 columns]"
      ]
     },
     "execution_count": 5,
     "metadata": {},
     "output_type": "execute_result"
    }
   ],
   "source": [
    "twitterDataReg.head()"
   ]
  },
  {
   "cell_type": "code",
   "execution_count": 6,
   "metadata": {},
   "outputs": [
    {
     "data": {
      "text/html": [
       "<div>\n",
       "<style scoped>\n",
       "    .dataframe tbody tr th:only-of-type {\n",
       "        vertical-align: middle;\n",
       "    }\n",
       "\n",
       "    .dataframe tbody tr th {\n",
       "        vertical-align: top;\n",
       "    }\n",
       "\n",
       "    .dataframe thead th {\n",
       "        text-align: right;\n",
       "    }\n",
       "</style>\n",
       "<table border=\"1\" class=\"dataframe\">\n",
       "  <thead>\n",
       "    <tr style=\"text-align: right;\">\n",
       "      <th></th>\n",
       "      <th>NCD_0</th>\n",
       "      <th>NCD_1</th>\n",
       "      <th>NCD_2</th>\n",
       "      <th>NCD_3</th>\n",
       "      <th>NCD_4</th>\n",
       "      <th>NCD_5</th>\n",
       "      <th>NCD_6</th>\n",
       "      <th>AI_0</th>\n",
       "      <th>AI_1</th>\n",
       "      <th>AI_2</th>\n",
       "      <th>...</th>\n",
       "      <th>ADL_5</th>\n",
       "      <th>ADL_6</th>\n",
       "      <th>NAD_0</th>\n",
       "      <th>NAD_1</th>\n",
       "      <th>NAD_2</th>\n",
       "      <th>NAD_3</th>\n",
       "      <th>NAD_4</th>\n",
       "      <th>NAD_5</th>\n",
       "      <th>NAD_6</th>\n",
       "      <th>Buzz</th>\n",
       "    </tr>\n",
       "  </thead>\n",
       "  <tbody>\n",
       "    <tr>\n",
       "      <th>0</th>\n",
       "      <td>889</td>\n",
       "      <td>939</td>\n",
       "      <td>960</td>\n",
       "      <td>805</td>\n",
       "      <td>805</td>\n",
       "      <td>1143</td>\n",
       "      <td>1121</td>\n",
       "      <td>549</td>\n",
       "      <td>613</td>\n",
       "      <td>587</td>\n",
       "      <td>...</td>\n",
       "      <td>1.0</td>\n",
       "      <td>1.0</td>\n",
       "      <td>889</td>\n",
       "      <td>939</td>\n",
       "      <td>960</td>\n",
       "      <td>805</td>\n",
       "      <td>805</td>\n",
       "      <td>1143</td>\n",
       "      <td>1121</td>\n",
       "      <td>1.0</td>\n",
       "    </tr>\n",
       "    <tr>\n",
       "      <th>1</th>\n",
       "      <td>542</td>\n",
       "      <td>473</td>\n",
       "      <td>504</td>\n",
       "      <td>626</td>\n",
       "      <td>647</td>\n",
       "      <td>795</td>\n",
       "      <td>832</td>\n",
       "      <td>366</td>\n",
       "      <td>288</td>\n",
       "      <td>318</td>\n",
       "      <td>...</td>\n",
       "      <td>1.0</td>\n",
       "      <td>1.0</td>\n",
       "      <td>542</td>\n",
       "      <td>473</td>\n",
       "      <td>504</td>\n",
       "      <td>626</td>\n",
       "      <td>647</td>\n",
       "      <td>795</td>\n",
       "      <td>832</td>\n",
       "      <td>1.0</td>\n",
       "    </tr>\n",
       "    <tr>\n",
       "      <th>2</th>\n",
       "      <td>92</td>\n",
       "      <td>99</td>\n",
       "      <td>196</td>\n",
       "      <td>100</td>\n",
       "      <td>184</td>\n",
       "      <td>79</td>\n",
       "      <td>162</td>\n",
       "      <td>66</td>\n",
       "      <td>59</td>\n",
       "      <td>118</td>\n",
       "      <td>...</td>\n",
       "      <td>1.0</td>\n",
       "      <td>1.0</td>\n",
       "      <td>92</td>\n",
       "      <td>99</td>\n",
       "      <td>196</td>\n",
       "      <td>100</td>\n",
       "      <td>184</td>\n",
       "      <td>79</td>\n",
       "      <td>162</td>\n",
       "      <td>0.0</td>\n",
       "    </tr>\n",
       "    <tr>\n",
       "      <th>3</th>\n",
       "      <td>90</td>\n",
       "      <td>87</td>\n",
       "      <td>92</td>\n",
       "      <td>344</td>\n",
       "      <td>184</td>\n",
       "      <td>848</td>\n",
       "      <td>184</td>\n",
       "      <td>83</td>\n",
       "      <td>78</td>\n",
       "      <td>76</td>\n",
       "      <td>...</td>\n",
       "      <td>1.0</td>\n",
       "      <td>1.0</td>\n",
       "      <td>90</td>\n",
       "      <td>87</td>\n",
       "      <td>92</td>\n",
       "      <td>344</td>\n",
       "      <td>184</td>\n",
       "      <td>848</td>\n",
       "      <td>184</td>\n",
       "      <td>1.0</td>\n",
       "    </tr>\n",
       "    <tr>\n",
       "      <th>4</th>\n",
       "      <td>169</td>\n",
       "      <td>98</td>\n",
       "      <td>101</td>\n",
       "      <td>90</td>\n",
       "      <td>96</td>\n",
       "      <td>95</td>\n",
       "      <td>185</td>\n",
       "      <td>141</td>\n",
       "      <td>68</td>\n",
       "      <td>85</td>\n",
       "      <td>...</td>\n",
       "      <td>1.0</td>\n",
       "      <td>1.0</td>\n",
       "      <td>169</td>\n",
       "      <td>98</td>\n",
       "      <td>101</td>\n",
       "      <td>90</td>\n",
       "      <td>96</td>\n",
       "      <td>95</td>\n",
       "      <td>185</td>\n",
       "      <td>1.0</td>\n",
       "    </tr>\n",
       "  </tbody>\n",
       "</table>\n",
       "<p>5 rows × 78 columns</p>\n",
       "</div>"
      ],
      "text/plain": [
       "   NCD_0  NCD_1  NCD_2  NCD_3  NCD_4  NCD_5  NCD_6  AI_0  AI_1  AI_2  ...   \\\n",
       "0    889    939    960    805    805   1143   1121   549   613   587  ...    \n",
       "1    542    473    504    626    647    795    832   366   288   318  ...    \n",
       "2     92     99    196    100    184     79    162    66    59   118  ...    \n",
       "3     90     87     92    344    184    848    184    83    78    76  ...    \n",
       "4    169     98    101     90     96     95    185   141    68    85  ...    \n",
       "\n",
       "   ADL_5  ADL_6  NAD_0  NAD_1  NAD_2  NAD_3  NAD_4  NAD_5  NAD_6  Buzz  \n",
       "0    1.0    1.0    889    939    960    805    805   1143   1121   1.0  \n",
       "1    1.0    1.0    542    473    504    626    647    795    832   1.0  \n",
       "2    1.0    1.0     92     99    196    100    184     79    162   0.0  \n",
       "3    1.0    1.0     90     87     92    344    184    848    184   1.0  \n",
       "4    1.0    1.0    169     98    101     90     96     95    185   1.0  \n",
       "\n",
       "[5 rows x 78 columns]"
      ]
     },
     "execution_count": 6,
     "metadata": {},
     "output_type": "execute_result"
    }
   ],
   "source": [
    "twitterDataClass.head()"
   ]
  },
  {
   "cell_type": "markdown",
   "metadata": {},
   "source": [
    "# Working on Regression Data"
   ]
  },
  {
   "cell_type": "code",
   "execution_count": 7,
   "metadata": {},
   "outputs": [
    {
     "data": {
      "text/plain": [
       "(583250, 78)"
      ]
     },
     "execution_count": 7,
     "metadata": {},
     "output_type": "execute_result"
    }
   ],
   "source": [
    "twitterDataReg.shape"
   ]
  },
  {
   "cell_type": "code",
   "execution_count": 8,
   "metadata": {
    "scrolled": true
   },
   "outputs": [
    {
     "data": {
      "text/html": [
       "<div>\n",
       "<style scoped>\n",
       "    .dataframe tbody tr th:only-of-type {\n",
       "        vertical-align: middle;\n",
       "    }\n",
       "\n",
       "    .dataframe tbody tr th {\n",
       "        vertical-align: top;\n",
       "    }\n",
       "\n",
       "    .dataframe thead th {\n",
       "        text-align: right;\n",
       "    }\n",
       "</style>\n",
       "<table border=\"1\" class=\"dataframe\">\n",
       "  <thead>\n",
       "    <tr style=\"text-align: right;\">\n",
       "      <th></th>\n",
       "      <th>NCD_0</th>\n",
       "      <th>NCD_1</th>\n",
       "      <th>NCD_2</th>\n",
       "      <th>NCD_3</th>\n",
       "      <th>NCD_4</th>\n",
       "      <th>NCD_5</th>\n",
       "      <th>NCD_6</th>\n",
       "      <th>AI_0</th>\n",
       "      <th>AI_1</th>\n",
       "      <th>AI_2</th>\n",
       "      <th>...</th>\n",
       "      <th>ADL_5</th>\n",
       "      <th>ADL_6</th>\n",
       "      <th>NAD_0</th>\n",
       "      <th>NAD_1</th>\n",
       "      <th>NAD_2</th>\n",
       "      <th>NAD_3</th>\n",
       "      <th>NAD_4</th>\n",
       "      <th>NAD_5</th>\n",
       "      <th>NAD_6</th>\n",
       "      <th>Buzz</th>\n",
       "    </tr>\n",
       "  </thead>\n",
       "  <tbody>\n",
       "    <tr>\n",
       "      <th>count</th>\n",
       "      <td>583250.000000</td>\n",
       "      <td>583250.000000</td>\n",
       "      <td>583250.000000</td>\n",
       "      <td>583250.000000</td>\n",
       "      <td>583250.000000</td>\n",
       "      <td>583250.000000</td>\n",
       "      <td>583250.000000</td>\n",
       "      <td>583250.000000</td>\n",
       "      <td>583250.000000</td>\n",
       "      <td>583250.000000</td>\n",
       "      <td>...</td>\n",
       "      <td>583250.000000</td>\n",
       "      <td>583250.000000</td>\n",
       "      <td>583250.000000</td>\n",
       "      <td>583250.000000</td>\n",
       "      <td>583250.000000</td>\n",
       "      <td>583250.000000</td>\n",
       "      <td>583250.000000</td>\n",
       "      <td>583250.000000</td>\n",
       "      <td>583250.000000</td>\n",
       "      <td>583250.000000</td>\n",
       "    </tr>\n",
       "    <tr>\n",
       "      <th>mean</th>\n",
       "      <td>140.339640</td>\n",
       "      <td>136.770147</td>\n",
       "      <td>159.679271</td>\n",
       "      <td>181.592091</td>\n",
       "      <td>201.097445</td>\n",
       "      <td>220.175371</td>\n",
       "      <td>219.388214</td>\n",
       "      <td>71.038051</td>\n",
       "      <td>69.829631</td>\n",
       "      <td>82.198203</td>\n",
       "      <td>...</td>\n",
       "      <td>1.136688</td>\n",
       "      <td>1.140372</td>\n",
       "      <td>140.789860</td>\n",
       "      <td>137.181270</td>\n",
       "      <td>160.105922</td>\n",
       "      <td>182.057440</td>\n",
       "      <td>201.596482</td>\n",
       "      <td>220.705900</td>\n",
       "      <td>219.936864</td>\n",
       "      <td>191.279493</td>\n",
       "    </tr>\n",
       "    <tr>\n",
       "      <th>std</th>\n",
       "      <td>431.772639</td>\n",
       "      <td>432.305129</td>\n",
       "      <td>502.057428</td>\n",
       "      <td>574.883713</td>\n",
       "      <td>630.448432</td>\n",
       "      <td>669.205930</td>\n",
       "      <td>672.182204</td>\n",
       "      <td>196.876718</td>\n",
       "      <td>202.199758</td>\n",
       "      <td>239.523042</td>\n",
       "      <td>...</td>\n",
       "      <td>1.432327</td>\n",
       "      <td>1.552313</td>\n",
       "      <td>432.624954</td>\n",
       "      <td>433.026611</td>\n",
       "      <td>502.774408</td>\n",
       "      <td>575.658022</td>\n",
       "      <td>631.258318</td>\n",
       "      <td>670.050977</td>\n",
       "      <td>673.032541</td>\n",
       "      <td>612.352354</td>\n",
       "    </tr>\n",
       "    <tr>\n",
       "      <th>min</th>\n",
       "      <td>0.000000</td>\n",
       "      <td>0.000000</td>\n",
       "      <td>0.000000</td>\n",
       "      <td>0.000000</td>\n",
       "      <td>0.000000</td>\n",
       "      <td>0.000000</td>\n",
       "      <td>0.000000</td>\n",
       "      <td>0.000000</td>\n",
       "      <td>0.000000</td>\n",
       "      <td>0.000000</td>\n",
       "      <td>...</td>\n",
       "      <td>0.000000</td>\n",
       "      <td>0.000000</td>\n",
       "      <td>0.000000</td>\n",
       "      <td>0.000000</td>\n",
       "      <td>0.000000</td>\n",
       "      <td>0.000000</td>\n",
       "      <td>0.000000</td>\n",
       "      <td>0.000000</td>\n",
       "      <td>0.000000</td>\n",
       "      <td>0.000000</td>\n",
       "    </tr>\n",
       "    <tr>\n",
       "      <th>25%</th>\n",
       "      <td>3.000000</td>\n",
       "      <td>3.000000</td>\n",
       "      <td>4.000000</td>\n",
       "      <td>4.000000</td>\n",
       "      <td>5.000000</td>\n",
       "      <td>6.000000</td>\n",
       "      <td>6.000000</td>\n",
       "      <td>2.000000</td>\n",
       "      <td>2.000000</td>\n",
       "      <td>2.000000</td>\n",
       "      <td>...</td>\n",
       "      <td>1.000000</td>\n",
       "      <td>1.000000</td>\n",
       "      <td>3.000000</td>\n",
       "      <td>3.000000</td>\n",
       "      <td>4.000000</td>\n",
       "      <td>4.000000</td>\n",
       "      <td>5.000000</td>\n",
       "      <td>6.000000</td>\n",
       "      <td>6.000000</td>\n",
       "      <td>4.500000</td>\n",
       "    </tr>\n",
       "    <tr>\n",
       "      <th>50%</th>\n",
       "      <td>18.000000</td>\n",
       "      <td>17.000000</td>\n",
       "      <td>21.000000</td>\n",
       "      <td>24.000000</td>\n",
       "      <td>27.000000</td>\n",
       "      <td>31.000000</td>\n",
       "      <td>30.000000</td>\n",
       "      <td>11.000000</td>\n",
       "      <td>11.000000</td>\n",
       "      <td>13.000000</td>\n",
       "      <td>...</td>\n",
       "      <td>1.000000</td>\n",
       "      <td>1.000000</td>\n",
       "      <td>18.000000</td>\n",
       "      <td>17.000000</td>\n",
       "      <td>21.000000</td>\n",
       "      <td>24.000000</td>\n",
       "      <td>27.000000</td>\n",
       "      <td>31.000000</td>\n",
       "      <td>31.000000</td>\n",
       "      <td>25.500000</td>\n",
       "    </tr>\n",
       "    <tr>\n",
       "      <th>75%</th>\n",
       "      <td>104.000000</td>\n",
       "      <td>100.000000</td>\n",
       "      <td>115.000000</td>\n",
       "      <td>131.000000</td>\n",
       "      <td>147.000000</td>\n",
       "      <td>166.000000</td>\n",
       "      <td>164.000000</td>\n",
       "      <td>59.000000</td>\n",
       "      <td>57.000000</td>\n",
       "      <td>65.000000</td>\n",
       "      <td>...</td>\n",
       "      <td>1.090909</td>\n",
       "      <td>1.091296</td>\n",
       "      <td>104.000000</td>\n",
       "      <td>101.000000</td>\n",
       "      <td>115.000000</td>\n",
       "      <td>131.000000</td>\n",
       "      <td>148.000000</td>\n",
       "      <td>167.000000</td>\n",
       "      <td>165.000000</td>\n",
       "      <td>139.000000</td>\n",
       "    </tr>\n",
       "    <tr>\n",
       "      <th>max</th>\n",
       "      <td>24210.000000</td>\n",
       "      <td>29574.000000</td>\n",
       "      <td>37505.000000</td>\n",
       "      <td>72366.000000</td>\n",
       "      <td>79079.000000</td>\n",
       "      <td>79079.000000</td>\n",
       "      <td>79079.000000</td>\n",
       "      <td>18654.000000</td>\n",
       "      <td>22035.000000</td>\n",
       "      <td>29402.000000</td>\n",
       "      <td>...</td>\n",
       "      <td>262.000000</td>\n",
       "      <td>295.000000</td>\n",
       "      <td>24301.000000</td>\n",
       "      <td>29574.000000</td>\n",
       "      <td>37505.000000</td>\n",
       "      <td>72366.000000</td>\n",
       "      <td>79083.000000</td>\n",
       "      <td>79083.000000</td>\n",
       "      <td>79083.000000</td>\n",
       "      <td>75724.500000</td>\n",
       "    </tr>\n",
       "  </tbody>\n",
       "</table>\n",
       "<p>8 rows × 78 columns</p>\n",
       "</div>"
      ],
      "text/plain": [
       "               NCD_0          NCD_1          NCD_2          NCD_3  \\\n",
       "count  583250.000000  583250.000000  583250.000000  583250.000000   \n",
       "mean      140.339640     136.770147     159.679271     181.592091   \n",
       "std       431.772639     432.305129     502.057428     574.883713   \n",
       "min         0.000000       0.000000       0.000000       0.000000   \n",
       "25%         3.000000       3.000000       4.000000       4.000000   \n",
       "50%        18.000000      17.000000      21.000000      24.000000   \n",
       "75%       104.000000     100.000000     115.000000     131.000000   \n",
       "max     24210.000000   29574.000000   37505.000000   72366.000000   \n",
       "\n",
       "               NCD_4          NCD_5          NCD_6           AI_0  \\\n",
       "count  583250.000000  583250.000000  583250.000000  583250.000000   \n",
       "mean      201.097445     220.175371     219.388214      71.038051   \n",
       "std       630.448432     669.205930     672.182204     196.876718   \n",
       "min         0.000000       0.000000       0.000000       0.000000   \n",
       "25%         5.000000       6.000000       6.000000       2.000000   \n",
       "50%        27.000000      31.000000      30.000000      11.000000   \n",
       "75%       147.000000     166.000000     164.000000      59.000000   \n",
       "max     79079.000000   79079.000000   79079.000000   18654.000000   \n",
       "\n",
       "                AI_1           AI_2      ...                ADL_5  \\\n",
       "count  583250.000000  583250.000000      ...        583250.000000   \n",
       "mean       69.829631      82.198203      ...             1.136688   \n",
       "std       202.199758     239.523042      ...             1.432327   \n",
       "min         0.000000       0.000000      ...             0.000000   \n",
       "25%         2.000000       2.000000      ...             1.000000   \n",
       "50%        11.000000      13.000000      ...             1.000000   \n",
       "75%        57.000000      65.000000      ...             1.090909   \n",
       "max     22035.000000   29402.000000      ...           262.000000   \n",
       "\n",
       "               ADL_6          NAD_0          NAD_1          NAD_2  \\\n",
       "count  583250.000000  583250.000000  583250.000000  583250.000000   \n",
       "mean        1.140372     140.789860     137.181270     160.105922   \n",
       "std         1.552313     432.624954     433.026611     502.774408   \n",
       "min         0.000000       0.000000       0.000000       0.000000   \n",
       "25%         1.000000       3.000000       3.000000       4.000000   \n",
       "50%         1.000000      18.000000      17.000000      21.000000   \n",
       "75%         1.091296     104.000000     101.000000     115.000000   \n",
       "max       295.000000   24301.000000   29574.000000   37505.000000   \n",
       "\n",
       "               NAD_3          NAD_4          NAD_5          NAD_6  \\\n",
       "count  583250.000000  583250.000000  583250.000000  583250.000000   \n",
       "mean      182.057440     201.596482     220.705900     219.936864   \n",
       "std       575.658022     631.258318     670.050977     673.032541   \n",
       "min         0.000000       0.000000       0.000000       0.000000   \n",
       "25%         4.000000       5.000000       6.000000       6.000000   \n",
       "50%        24.000000      27.000000      31.000000      31.000000   \n",
       "75%       131.000000     148.000000     167.000000     165.000000   \n",
       "max     72366.000000   79083.000000   79083.000000   79083.000000   \n",
       "\n",
       "                Buzz  \n",
       "count  583250.000000  \n",
       "mean      191.279493  \n",
       "std       612.352354  \n",
       "min         0.000000  \n",
       "25%         4.500000  \n",
       "50%        25.500000  \n",
       "75%       139.000000  \n",
       "max     75724.500000  \n",
       "\n",
       "[8 rows x 78 columns]"
      ]
     },
     "execution_count": 8,
     "metadata": {},
     "output_type": "execute_result"
    }
   ],
   "source": [
    "twitterDataReg.describe()"
   ]
  },
  {
   "cell_type": "code",
   "execution_count": 9,
   "metadata": {},
   "outputs": [
    {
     "data": {
      "text/plain": [
       "NCD_0       0\n",
       "NCD_1       0\n",
       "NCD_2       0\n",
       "NCD_3       0\n",
       "NCD_4       0\n",
       "NCD_5       0\n",
       "NCD_6       0\n",
       "AI_0        0\n",
       "AI_1        0\n",
       "AI_2        0\n",
       "AI_3        0\n",
       "AI_4        0\n",
       "AI_5        0\n",
       "AI_6        0\n",
       "AS(NA)_0    0\n",
       "AS(NA)_1    0\n",
       "AS(NA)_2    0\n",
       "AS(NA)_3    0\n",
       "AS(NA)_4    0\n",
       "AS(NA)_5    0\n",
       "AS(NA)_6    0\n",
       "BL_0        0\n",
       "BL_1        0\n",
       "BL_2        0\n",
       "BL_3        0\n",
       "BL_4        0\n",
       "BL_5        0\n",
       "BL_6        0\n",
       "NAC_0       0\n",
       "NAC_1       0\n",
       "           ..\n",
       "CS_6        0\n",
       "AT_0        0\n",
       "AT_1        0\n",
       "AT_2        0\n",
       "AT_3        0\n",
       "AT_4        0\n",
       "AT_5        0\n",
       "AT_6        0\n",
       "NA_0        0\n",
       "NA_1        0\n",
       "NA_2        0\n",
       "NA_3        0\n",
       "NA_4        0\n",
       "NA_5        0\n",
       "NA_6        0\n",
       "ADL_0       0\n",
       "ADL_1       0\n",
       "ADL_2       0\n",
       "ADL_3       0\n",
       "ADL_4       0\n",
       "ADL_5       0\n",
       "ADL_6       0\n",
       "NAD_0       0\n",
       "NAD_1       0\n",
       "NAD_2       0\n",
       "NAD_3       0\n",
       "NAD_4       0\n",
       "NAD_5       0\n",
       "NAD_6       0\n",
       "Buzz        0\n",
       "Length: 78, dtype: int64"
      ]
     },
     "execution_count": 9,
     "metadata": {},
     "output_type": "execute_result"
    }
   ],
   "source": [
    "twitterDataReg.isna().sum()"
   ]
  },
  {
   "cell_type": "markdown",
   "metadata": {},
   "source": [
    "##### Defining X as features and y as target variable"
   ]
  },
  {
   "cell_type": "code",
   "execution_count": 10,
   "metadata": {},
   "outputs": [],
   "source": [
    "X = pd.DataFrame(twitterDataReg.loc[:,twitterDataReg.columns!='Buzz'])\n",
    "y = pd.DataFrame(twitterDataReg['Buzz'])"
   ]
  },
  {
   "cell_type": "markdown",
   "metadata": {},
   "source": [
    "# Splitting Data 75/25 for final training and testing for Regression"
   ]
  },
  {
   "cell_type": "code",
   "execution_count": 11,
   "metadata": {},
   "outputs": [],
   "source": [
    "from sklearn.preprocessing import StandardScaler\n",
    "from sklearn.preprocessing import MinMaxScaler\n",
    "from sklearn.model_selection import train_test_split\n",
    "\n",
    "X_train_FR,X_test_FR,y_train_FR,y_test_FR = train_test_split(X,y,random_state = 0)\n",
    "stdscaler = StandardScaler()\n",
    "X_train_FR = stdscaler.fit_transform(X_train_FR)\n",
    "X_test_FR = stdscaler.transform(X_test_FR)"
   ]
  },
  {
   "cell_type": "code",
   "execution_count": 12,
   "metadata": {},
   "outputs": [],
   "source": [
    "X_train_FR = pd.DataFrame(X_train_FR,columns=['NCD_0','NCD_1','NCD_2','NCD_3','NCD_4','NCD_5','NCD_6','AI_0','AI_1','AI_2','AI_3','AI_4','AI_5','AI_6','AS(NA)_0','AS(NA)_1','AS(NA)_2','AS(NA)_3','AS(NA)_4','AS(NA)_5','AS(NA)_6','BL_0','BL_1','BL_2','BL_3','BL_4','BL_5','BL_6','NAC_0','NAC_1','NAC_2','NAC_3','NAC_4','NAC_5','NAC_6','AS(NAC)_0','AS(NAC)_1','AS(NAC)_2','AS(NAC)_3','AS(NAC)_4','AS(NAC)_5','AS(NAC)_6','CS_0','CS_1','CS_2','CS_3','CS_4','CS_5','CS_6','AT_0','AT_1','AT_2','AT_3','AT_4','AT_5','AT_6','NA_0','NA_1','NA_2','NA_3','NA_4','NA_5','NA_6','ADL_0','ADL_1','ADL_2','ADL_3','ADL_4','ADL_5','ADL_6','NAD_0','NAD_1','NAD_2','NAD_3','NAD_4','NAD_5','NAD_6'])"
   ]
  },
  {
   "cell_type": "code",
   "execution_count": 13,
   "metadata": {
    "scrolled": true
   },
   "outputs": [
    {
     "data": {
      "image/png": "[encoded data removed]",
      "text/plain": [
       "<Figure size 432x360 with 2 Axes>"
      ]
     },
     "metadata": {},
     "output_type": "display_data"
    }
   ],
   "source": [
    "%matplotlib inline\n",
    "\n",
    "fig, (ax1, ax2) = plt.subplots(ncols=2, figsize=(6, 5))\n",
    "\n",
    "ax1.set_title(\"Before Scaling\")\n",
    "#sns.distplot(twitterDataReg['NCD_0'], hist=False, rug=True)\n",
    "sns.kdeplot(twitterDataReg['NCD_0'],ax=ax1)\n",
    "sns.kdeplot(twitterDataReg['NCD_1'],ax=ax1)\n",
    "sns.kdeplot(twitterDataReg['NCD_2'],ax=ax1)\n",
    "ax1.set_xscale('log')\n",
    "ax2.set_title(\"After Standard Scaling\")\n",
    "#sns.distplot(X_train['NCD_0'], hist=False, rug=True)\n",
    "sns.kdeplot(X_train_FR['NCD_0'],ax=ax2)\n",
    "sns.kdeplot(X_train_FR['NCD_1'],ax=ax2)\n",
    "sns.kdeplot(X_train_FR['NCD_2'],ax=ax2)\n",
    "ax2.set_xscale('log')"
   ]
  },
  {
   "cell_type": "markdown",
   "metadata": {},
   "source": [
    "Standard Scaling removes the mean and scales the data to unit variance as we can see in the plot. However, as outliers of each feature have different magnitudes\n",
    "these variables are not scaled at the same scale. Standard Scalar is not gurranting balanced feature scaling."
   ]
  },
  {
   "cell_type": "markdown",
   "metadata": {},
   "source": [
    "##### Scaling using MinMax Scaler"
   ]
  },
  {
   "cell_type": "code",
   "execution_count": 14,
   "metadata": {},
   "outputs": [],
   "source": [
    "X_train_FR1,X_test_FR1,y_train_FR1,y_test_FR1 = train_test_split(X,y,random_state = 0)\n",
    "mmscaler = MinMaxScaler()\n",
    "X_train_FR1 = mmscaler.fit_transform(X_train_FR1)\n",
    "X_test_FR1 = mmscaler.transform(X_test_FR1)"
   ]
  },
  {
   "cell_type": "code",
   "execution_count": 15,
   "metadata": {},
   "outputs": [],
   "source": [
    "X_train_FR1 = pd.DataFrame(X_train_FR1,columns=['NCD_0','NCD_1','NCD_2','NCD_3','NCD_4','NCD_5','NCD_6','AI_0','AI_1','AI_2','AI_3','AI_4','AI_5','AI_6','AS(NA)_0','AS(NA)_1','AS(NA)_2','AS(NA)_3','AS(NA)_4','AS(NA)_5','AS(NA)_6','BL_0','BL_1','BL_2','BL_3','BL_4','BL_5','BL_6','NAC_0','NAC_1','NAC_2','NAC_3','NAC_4','NAC_5','NAC_6','AS(NAC)_0','AS(NAC)_1','AS(NAC)_2','AS(NAC)_3','AS(NAC)_4','AS(NAC)_5','AS(NAC)_6','CS_0','CS_1','CS_2','CS_3','CS_4','CS_5','CS_6','AT_0','AT_1','AT_2','AT_3','AT_4','AT_5','AT_6','NA_0','NA_1','NA_2','NA_3','NA_4','NA_5','NA_6','ADL_0','ADL_1','ADL_2','ADL_3','ADL_4','ADL_5','ADL_6','NAD_0','NAD_1','NAD_2','NAD_3','NAD_4','NAD_5','NAD_6'])"
   ]
  },
  {
   "cell_type": "code",
   "execution_count": 16,
   "metadata": {
    "scrolled": true
   },
   "outputs": [
    {
     "data": {
      "image/png": "[encoded data removed]",
      "text/plain": [
       "<Figure size 432x360 with 2 Axes>"
      ]
     },
     "metadata": {},
     "output_type": "display_data"
    }
   ],
   "source": [
    "%matplotlib inline\n",
    "\n",
    "fig, (ax1, ax2) = plt.subplots(ncols=2, figsize=(6, 5))\n",
    "\n",
    "ax1.set_title(\"Before Scaling\")\n",
    "sns.kdeplot(twitterDataReg['NCD_0'],ax=ax1)\n",
    "sns.kdeplot(twitterDataReg['NCD_1'],ax=ax1)\n",
    "sns.kdeplot(twitterDataReg['NCD_2'],ax=ax1)\n",
    "ax1.set_xscale('log')\n",
    "ax2.set_title(\"After MinMax Scaling\")\n",
    "sns.kdeplot(X_train_FR1['NCD_0'],ax=ax2)\n",
    "sns.kdeplot(X_train_FR1['NCD_1'],ax=ax2)\n",
    "sns.kdeplot(X_train_FR1['NCD_2'],ax=ax2)\n",
    "ax2.set_xscale('log')\n",
    "plt.show()"
   ]
  },
  {
   "cell_type": "markdown",
   "metadata": {},
   "source": [
    "In MinMax Scaling the data is scaled to same scale(Normalize betweeen 0,1) as seen in the plot. However they are not centered to mean = 0.(Standardized!!)\n",
    "Also MinMax Scaling is more sensetive to outliers and thus affecting inliers as well. As seen, the plot seems skewed to the right.\n",
    "\n",
    "We will be selecting Standard scaling for Regression problem as it is often recommended to use Standardized data.\n",
    "Secondly, we will be using Polynomial regression and so if the data is not centered then the degree term of X will be highly corelated to the normal term. Centering the data removes this issue. "
   ]
  },
  {
   "cell_type": "code",
   "execution_count": 17,
   "metadata": {},
   "outputs": [],
   "source": [
    "#Standard Scaling\n",
    "X_train,X_test,y_train,y_test = train_test_split(X,y,random_state = 0,test_size = .9995)\n",
    "\n",
    "\n",
    "stdscaler = StandardScaler()\n",
    "X_train = stdscaler.fit_transform(X_train)\n",
    "X_test = stdscaler.transform(X_test)"
   ]
  },
  {
   "cell_type": "markdown",
   "metadata": {},
   "source": [
    "## Linear regression"
   ]
  },
  {
   "cell_type": "code",
   "execution_count": 18,
   "metadata": {
    "scrolled": true
   },
   "outputs": [
    {
     "name": "stdout",
     "output_type": "stream",
     "text": [
      "Cross Validation Scores are: [ 0.69065973  0.94740851  0.70207112  0.76246588  0.93830149  0.80108434\n",
      "  0.72490097 -0.3071992   0.85253687  0.43695819  0.74195453]\n"
     ]
    }
   ],
   "source": [
    "from sklearn.linear_model import LinearRegression\n",
    "\n",
    "linearModel = LinearRegression(n_jobs = -1)\n",
    "linearModel.fit(X_train,y_train.values.ravel())\n",
    "\n",
    "lr_score = cross_val_score(linearModel,X_train,y_train,cv=11)\n",
    "print(\"Cross Validation Scores are: {}\".format(lr_score))"
   ]
  },
  {
   "cell_type": "code",
   "execution_count": 19,
   "metadata": {},
   "outputs": [],
   "source": [
    "LinearReg_train_prediction = linearModel.predict(X_train)\n",
    "LinearReg_test_prediction = linearModel.predict(X_test)"
   ]
  },
  {
   "cell_type": "code",
   "execution_count": 20,
   "metadata": {},
   "outputs": [
    {
     "name": "stdout",
     "output_type": "stream",
     "text": [
      "Train r2_score: 0.99\n",
      "Test r2_score: 0.79 \n"
     ]
    }
   ],
   "source": [
    "print('Train r2_score: %.2f'%r2_score(LinearReg_train_prediction, y_train))\n",
    "print('Test r2_score: %.2f '%r2_score(LinearReg_test_prediction, y_test))"
   ]
  },
  {
   "cell_type": "code",
   "execution_count": 21,
   "metadata": {},
   "outputs": [],
   "source": [
    "report_table = [['Linear Regression','NA', mean_absolute_error(LinearReg_train_prediction, y_train),  mean_absolute_error(LinearReg_test_prediction, y_test), r2_score(LinearReg_train_prediction, y_train), r2_score(LinearReg_test_prediction, y_test) ]]"
   ]
  },
  {
   "cell_type": "markdown",
   "metadata": {},
   "source": [
    "# Polynomial Regression"
   ]
  },
  {
   "cell_type": "code",
   "execution_count": 22,
   "metadata": {},
   "outputs": [],
   "source": [
    "from  sklearn.preprocessing import PolynomialFeatures\n",
    "\n",
    "train_score_list = []\n",
    "test_score_list = []\n",
    "\n",
    "for n in range(1,3):\n",
    "    poly = PolynomialFeatures(n)\n",
    "    X_train_poly = poly.fit_transform(X_train)\n",
    "    X_test_poly = poly.transform(X_test)\n",
    "    linearModel.fit(X_train_poly, y_train)\n",
    "    train_score_list.append(linearModel.score(X_train_poly, y_train))\n",
    "    test_score_list.append(linearModel.score(X_test_poly, y_test))"
   ]
  },
  {
   "cell_type": "code",
   "execution_count": 23,
   "metadata": {},
   "outputs": [
    {
     "name": "stdout",
     "output_type": "stream",
     "text": [
      "[0.9784815733396125, 1.0]\n"
     ]
    }
   ],
   "source": [
    "print(train_score_list)"
   ]
  },
  {
   "cell_type": "code",
   "execution_count": 24,
   "metadata": {},
   "outputs": [
    {
     "name": "stdout",
     "output_type": "stream",
     "text": [
      "[0.7462444600135085, -236253.80638718492]\n"
     ]
    }
   ],
   "source": [
    "print(test_score_list)"
   ]
  },
  {
   "cell_type": "code",
   "execution_count": 25,
   "metadata": {},
   "outputs": [
    {
     "data": {
      "text/plain": [
       "<matplotlib.legend.Legend at 0x252c3cee9e8>"
      ]
     },
     "execution_count": 25,
     "metadata": {},
     "output_type": "execute_result"
    },
    {
     "data": {
      "image/png": "[encoded data removed]",
      "text/plain": [
       "<Figure size 432x288 with 1 Axes>"
      ]
     },
     "metadata": {},
     "output_type": "display_data"
    }
   ],
   "source": [
    "%matplotlib inline\n",
    "\n",
    "x_axis = range(1,3)\n",
    "plt.plot(x_axis, train_score_list, c = 'g', label = 'Train Score')\n",
    "plt.plot(x_axis, test_score_list, c = 'b', label = 'Test Score')\n",
    "plt.xlabel('degree')\n",
    "plt.ylabel('accuracy')\n",
    "plt.legend()"
   ]
  },
  {
   "cell_type": "markdown",
   "metadata": {},
   "source": [
    "As expected polynomial regression is not yeilding any positive increase in the linear regression and so won't be using it"
   ]
  },
  {
   "cell_type": "markdown",
   "metadata": {},
   "source": [
    "## SGD Regressor"
   ]
  },
  {
   "cell_type": "code",
   "execution_count": 26,
   "metadata": {},
   "outputs": [
    {
     "data": {
      "text/plain": [
       "GridSearchCV(cv=10, error_score='raise',\n",
       "       estimator=SGDRegressor(alpha=0.0001, average=False, epsilon=0.1, eta0=0.01,\n",
       "       fit_intercept=True, l1_ratio=0.15, learning_rate='invscaling',\n",
       "       loss='squared_loss', max_iter=None, n_iter=None, penalty='l2',\n",
       "       power_t=0.25, random_state=0, shuffle=True, tol=None, verbose=0,\n",
       "       warm_start=False),\n",
       "       fit_params=None, iid=True, n_jobs=-1,\n",
       "       param_grid={'max_iter': [1000, 10000, 100000], 'penalty': ['l1', 'l2'], 'alpha': [0.1, 1, 10, 100]},\n",
       "       pre_dispatch='2*n_jobs', refit=True, return_train_score='warn',\n",
       "       scoring='r2', verbose=0)"
      ]
     },
     "execution_count": 26,
     "metadata": {},
     "output_type": "execute_result"
    }
   ],
   "source": [
    "from sklearn.linear_model import SGDRegressor\n",
    "\n",
    "sgd = SGDRegressor(random_state = 0)\n",
    "\n",
    "#### GridSearchCV for parameters for SGDRegressor\n",
    "\n",
    "sgd_param = {\n",
    "    'max_iter':[1000,10000,100000],\n",
    "    'penalty': ['l1','l2'],\n",
    "    'alpha':[0.1,1,10,100]\n",
    "}\n",
    "\n",
    "gridsgd = GridSearchCV(estimator = sgd,param_grid = sgd_param,n_jobs=-1,cv=10,scoring='r2')\n",
    "gridsgd.fit(X_train,y_train.values.ravel())"
   ]
  },
  {
   "cell_type": "code",
   "execution_count": 27,
   "metadata": {},
   "outputs": [
    {
     "data": {
      "text/plain": [
       "{'alpha': 0.1, 'max_iter': 10000, 'penalty': 'l2'}"
      ]
     },
     "execution_count": 27,
     "metadata": {},
     "output_type": "execute_result"
    }
   ],
   "source": [
    "gridsgd.best_params_"
   ]
  },
  {
   "cell_type": "code",
   "execution_count": 28,
   "metadata": {},
   "outputs": [
    {
     "data": {
      "text/plain": [
       "0.8833952754839274"
      ]
     },
     "execution_count": 28,
     "metadata": {},
     "output_type": "execute_result"
    }
   ],
   "source": [
    "gridsgd.score(X_train,y_train.values.ravel())\n",
    "gridsgd.score(X_test,y_test.values.ravel())"
   ]
  },
  {
   "cell_type": "code",
   "execution_count": 29,
   "metadata": {},
   "outputs": [],
   "source": [
    "grid_sgd_train_prediction = gridsgd.predict(X_train)\n",
    "grid_sgd_test_prediction = gridsgd.predict(X_test)"
   ]
  },
  {
   "cell_type": "code",
   "execution_count": 30,
   "metadata": {},
   "outputs": [
    {
     "name": "stdout",
     "output_type": "stream",
     "text": [
      "Train r2_score: 0.98\n",
      "Test r2_score: 0.84 \n"
     ]
    }
   ],
   "source": [
    "print('Train r2_score: %.2f'%r2_score(grid_sgd_train_prediction, y_train))\n",
    "print('Test r2_score: %.2f '%r2_score(grid_sgd_test_prediction, y_test))"
   ]
  },
  {
   "cell_type": "code",
   "execution_count": 31,
   "metadata": {},
   "outputs": [],
   "source": [
    "report_table = [['SGDRegressor', gridsgd.best_params_, mean_absolute_error(grid_sgd_train_prediction, y_train),mean_absolute_error(grid_sgd_test_prediction, y_test), r2_score(grid_sgd_train_prediction, y_train), r2_score(grid_sgd_test_prediction, y_test) ]]"
   ]
  },
  {
   "cell_type": "markdown",
   "metadata": {},
   "source": [
    "# KNN Regressor"
   ]
  },
  {
   "cell_type": "code",
   "execution_count": 32,
   "metadata": {},
   "outputs": [
    {
     "data": {
      "text/plain": [
       "GridSearchCV(cv=11, error_score='raise',\n",
       "       estimator=KNeighborsRegressor(algorithm='auto', leaf_size=30, metric='minkowski',\n",
       "          metric_params=None, n_jobs=1, n_neighbors=5, p=2,\n",
       "          weights='uniform'),\n",
       "       fit_params=None, iid=True, n_jobs=-1,\n",
       "       param_grid={'n_neighbors': [1, 5, 10, 15, 20]},\n",
       "       pre_dispatch='2*n_jobs', refit=True, return_train_score='warn',\n",
       "       scoring='r2', verbose=0)"
      ]
     },
     "execution_count": 32,
     "metadata": {},
     "output_type": "execute_result"
    }
   ],
   "source": [
    "from sklearn.neighbors import KNeighborsRegressor\n",
    "knn_param = {'n_neighbors':[1, 5, 10, 15, 20]}\n",
    "knn_reg = KNeighborsRegressor()\n",
    "knngrid = GridSearchCV(estimator = knn_reg,param_grid=knn_param,n_jobs=-1,cv=11,scoring='r2')\n",
    "knngrid.fit(X_train,y_train)"
   ]
  },
  {
   "cell_type": "code",
   "execution_count": 33,
   "metadata": {},
   "outputs": [
    {
     "name": "stdout",
     "output_type": "stream",
     "text": [
      "0.8731162004715234\n",
      "0.514211104918507\n"
     ]
    }
   ],
   "source": [
    "print(knngrid.score(X_train,y_train.values.ravel()))\n",
    "print(knngrid.score(X_test,y_test))"
   ]
  },
  {
   "cell_type": "code",
   "execution_count": 34,
   "metadata": {},
   "outputs": [
    {
     "data": {
      "text/plain": [
       "{'n_neighbors': 5}"
      ]
     },
     "execution_count": 34,
     "metadata": {},
     "output_type": "execute_result"
    }
   ],
   "source": [
    "knngrid.best_params_"
   ]
  },
  {
   "cell_type": "code",
   "execution_count": 35,
   "metadata": {},
   "outputs": [],
   "source": [
    "knn_grid_train_prediction = knngrid.predict(X_train)\n",
    "knn_grid_test_prediction = knngrid.predict(X_test)"
   ]
  },
  {
   "cell_type": "code",
   "execution_count": 36,
   "metadata": {},
   "outputs": [
    {
     "name": "stdout",
     "output_type": "stream",
     "text": [
      "Train r2_score: 0.78\n",
      "Test r2_score: -1.08 \n"
     ]
    }
   ],
   "source": [
    "print('Train r2_score: %.2f'%r2_score(knn_grid_train_prediction, y_train))\n",
    "print('Test r2_score: %.2f '%r2_score(knn_grid_test_prediction, y_test))"
   ]
  },
  {
   "cell_type": "code",
   "execution_count": 37,
   "metadata": {},
   "outputs": [],
   "source": [
    "report_table = report_table + [['KnnRegressor', knngrid.best_params_, mean_absolute_error(knn_grid_train_prediction, y_train),mean_absolute_error(knn_grid_test_prediction, y_test), r2_score(knn_grid_train_prediction, y_train), r2_score(knn_grid_test_prediction, y_test) ]]"
   ]
  },
  {
   "cell_type": "markdown",
   "metadata": {},
   "source": [
    "# Ridge Regression"
   ]
  },
  {
   "cell_type": "code",
   "execution_count": 38,
   "metadata": {},
   "outputs": [
    {
     "data": {
      "text/plain": [
       "GridSearchCV(cv=10, error_score='raise',\n",
       "       estimator=Ridge(alpha=1.0, copy_X=True, fit_intercept=True, max_iter=None,\n",
       "   normalize=False, random_state=None, solver='auto', tol=0.001),\n",
       "       fit_params=None, iid=True, n_jobs=-1,\n",
       "       param_grid={'alpha': [0.01, 0.1, 1, 10, 100, 1000]},\n",
       "       pre_dispatch='2*n_jobs', refit=True, return_train_score='warn',\n",
       "       scoring='r2', verbose=0)"
      ]
     },
     "execution_count": 38,
     "metadata": {},
     "output_type": "execute_result"
    }
   ],
   "source": [
    "from sklearn.linear_model import Ridge\n",
    "ridge_param = {'alpha':[0.01, 0.1, 1, 10, 100,1000]}\n",
    "ridge_reg = Ridge()\n",
    "gridridge = GridSearchCV(estimator = ridge_reg,param_grid = ridge_param,n_jobs=-1,cv=10,scoring='r2')\n",
    "gridridge.fit(X_train,y_train.values.ravel())"
   ]
  },
  {
   "cell_type": "code",
   "execution_count": 39,
   "metadata": {},
   "outputs": [
    {
     "data": {
      "text/plain": [
       "{'alpha': 100}"
      ]
     },
     "execution_count": 39,
     "metadata": {},
     "output_type": "execute_result"
    }
   ],
   "source": [
    "gridridge.best_params_"
   ]
  },
  {
   "cell_type": "code",
   "execution_count": 40,
   "metadata": {},
   "outputs": [],
   "source": [
    "ridge_grid_train_prediction = gridridge.predict(X_train)\n",
    "ridge_grid_test_prediction = gridridge.predict(X_test)"
   ]
  },
  {
   "cell_type": "code",
   "execution_count": 41,
   "metadata": {},
   "outputs": [
    {
     "name": "stdout",
     "output_type": "stream",
     "text": [
      "Train r2_score: 0.97\n",
      "Test r2_score: 0.82 \n"
     ]
    }
   ],
   "source": [
    "print('Train r2_score: %.2f'%r2_score(ridge_grid_train_prediction, y_train))\n",
    "print('Test r2_score: %.2f '%r2_score(ridge_grid_test_prediction, y_test))"
   ]
  },
  {
   "cell_type": "code",
   "execution_count": 42,
   "metadata": {},
   "outputs": [],
   "source": [
    "report_table =report_table + [['Ridge_Regressor', gridridge.best_params_, mean_absolute_error(ridge_grid_train_prediction, y_train),mean_absolute_error(ridge_grid_test_prediction, y_test), r2_score(ridge_grid_train_prediction, y_train), r2_score(ridge_grid_test_prediction, y_test) ]]"
   ]
  },
  {
   "cell_type": "markdown",
   "metadata": {},
   "source": [
    "# Lasso Regression"
   ]
  },
  {
   "cell_type": "code",
   "execution_count": 43,
   "metadata": {},
   "outputs": [
    {
     "data": {
      "text/plain": [
       "GridSearchCV(cv=10, error_score='raise',\n",
       "       estimator=Lasso(alpha=1.0, copy_X=True, fit_intercept=True, max_iter=1000,\n",
       "   normalize=False, positive=False, precompute=False, random_state=None,\n",
       "   selection='cyclic', tol=0.0001, warm_start=False),\n",
       "       fit_params=None, iid=True, n_jobs=-1,\n",
       "       param_grid={'alpha': [0.01, 0.1, 1, 10, 100, 1000]},\n",
       "       pre_dispatch='2*n_jobs', refit=True, return_train_score='warn',\n",
       "       scoring='r2', verbose=0)"
      ]
     },
     "execution_count": 43,
     "metadata": {},
     "output_type": "execute_result"
    }
   ],
   "source": [
    "from sklearn.linear_model import Lasso\n",
    "lasso_param = {'alpha':[0.01, 0.1, 1, 10, 100,1000]}\n",
    "lasso_reg = Lasso()\n",
    "gridlasso = GridSearchCV(estimator = lasso_reg,param_grid = lasso_param,n_jobs=-1,cv=10,scoring='r2')\n",
    "gridlasso.fit(X_train,y_train.values.ravel())"
   ]
  },
  {
   "cell_type": "code",
   "execution_count": 44,
   "metadata": {},
   "outputs": [
    {
     "data": {
      "text/plain": [
       "{'alpha': 1}"
      ]
     },
     "execution_count": 44,
     "metadata": {},
     "output_type": "execute_result"
    }
   ],
   "source": [
    "gridlasso.best_params_"
   ]
  },
  {
   "cell_type": "code",
   "execution_count": 45,
   "metadata": {},
   "outputs": [],
   "source": [
    "lasso_grid_train_prediction = gridlasso.predict(X_train)\n",
    "lasso_grid_test_prediction = gridlasso.predict(X_test)"
   ]
  },
  {
   "cell_type": "code",
   "execution_count": 46,
   "metadata": {},
   "outputs": [
    {
     "name": "stdout",
     "output_type": "stream",
     "text": [
      "Train r2_score: 0.98\n",
      "Test r2_score: 0.84 \n"
     ]
    }
   ],
   "source": [
    "print('Train r2_score: %.2f'%r2_score(lasso_grid_train_prediction, y_train))\n",
    "print('Test r2_score: %.2f '%r2_score(lasso_grid_test_prediction, y_test))"
   ]
  },
  {
   "cell_type": "code",
   "execution_count": 47,
   "metadata": {},
   "outputs": [],
   "source": [
    "report_table =report_table + [['Lasso_Regressor', gridlasso.best_params_, mean_absolute_error(lasso_grid_train_prediction, y_train),mean_absolute_error(lasso_grid_test_prediction, y_test), r2_score(lasso_grid_train_prediction, y_train), r2_score(lasso_grid_test_prediction, y_test) ]]"
   ]
  },
  {
   "cell_type": "markdown",
   "metadata": {},
   "source": [
    "# LinearSVR"
   ]
  },
  {
   "cell_type": "code",
   "execution_count": 48,
   "metadata": {},
   "outputs": [
    {
     "data": {
      "text/plain": [
       "GridSearchCV(cv=10, error_score='raise',\n",
       "       estimator=SVR(C=1.0, cache_size=200, coef0=0.0, degree=3, epsilon=0.1, gamma='auto',\n",
       "  kernel='linear', max_iter=-1, shrinking=True, tol=0.001, verbose=False),\n",
       "       fit_params=None, iid=True, n_jobs=-1,\n",
       "       param_grid={'C': [0.01, 0.1, 1, 10, 100, 1000]},\n",
       "       pre_dispatch='2*n_jobs', refit=True, return_train_score='warn',\n",
       "       scoring='r2', verbose=0)"
      ]
     },
     "execution_count": 48,
     "metadata": {},
     "output_type": "execute_result"
    }
   ],
   "source": [
    "from sklearn.svm import SVR,LinearSVR\n",
    "lsvr_param = {'C':[0.01, 0.1, 1, 10, 100,1000]}\n",
    "linearsvr_reg = SVR(kernel = 'linear')\n",
    "gridlinearsvr = GridSearchCV(estimator = linearsvr_reg,param_grid = lsvr_param,n_jobs=-1,cv=10,scoring='r2')\n",
    "gridlinearsvr.fit(X_train,y_train.values.ravel())"
   ]
  },
  {
   "cell_type": "code",
   "execution_count": 49,
   "metadata": {},
   "outputs": [
    {
     "data": {
      "text/plain": [
       "{'C': 10}"
      ]
     },
     "execution_count": 49,
     "metadata": {},
     "output_type": "execute_result"
    }
   ],
   "source": [
    "gridlinearsvr.best_params_"
   ]
  },
  {
   "cell_type": "code",
   "execution_count": 50,
   "metadata": {},
   "outputs": [],
   "source": [
    "linearsvr_grid_train_prediction = gridlinearsvr.predict(X_train)\n",
    "linearsvr_grid_test_prediction = gridlinearsvr.predict(X_test)"
   ]
  },
  {
   "cell_type": "code",
   "execution_count": 51,
   "metadata": {},
   "outputs": [
    {
     "name": "stdout",
     "output_type": "stream",
     "text": [
      "Train r2_score: 0.98\n",
      "Test r2_score: 0.83 \n"
     ]
    }
   ],
   "source": [
    "print('Train r2_score: %.2f'%r2_score(linearsvr_grid_train_prediction, y_train))\n",
    "print('Test r2_score: %.2f '%r2_score(linearsvr_grid_test_prediction, y_test))"
   ]
  },
  {
   "cell_type": "code",
   "execution_count": 52,
   "metadata": {},
   "outputs": [],
   "source": [
    "report_table =report_table + [['LinearSVR_Regressor', gridlinearsvr.best_params_, mean_absolute_error(linearsvr_grid_train_prediction, y_train),mean_absolute_error(linearsvr_grid_test_prediction, y_test), r2_score(linearsvr_grid_train_prediction, y_train), r2_score(linearsvr_grid_test_prediction, y_test) ]]"
   ]
  },
  {
   "cell_type": "markdown",
   "metadata": {},
   "source": [
    "# Gaussian_SVR"
   ]
  },
  {
   "cell_type": "code",
   "execution_count": 53,
   "metadata": {},
   "outputs": [
    {
     "data": {
      "text/plain": [
       "GridSearchCV(cv=10, error_score='raise',\n",
       "       estimator=SVR(C=1.0, cache_size=200, coef0=0.0, degree=3, epsilon=0.1, gamma='auto',\n",
       "  kernel='rbf', max_iter=-1, shrinking=True, tol=0.001, verbose=False),\n",
       "       fit_params=None, iid=True, n_jobs=-1,\n",
       "       param_grid={'C': [0.01, 0.1, 1, 10, 100, 1000], 'gamma': [0.01, 0.1, 1, 10, 100]},\n",
       "       pre_dispatch='2*n_jobs', refit=True, return_train_score='warn',\n",
       "       scoring='r2', verbose=0)"
      ]
     },
     "execution_count": 53,
     "metadata": {},
     "output_type": "execute_result"
    }
   ],
   "source": [
    "from sklearn.svm import SVR,LinearSVR\n",
    "svr_param = {'C':[0.01, 0.1, 1, 10, 100,1000],'gamma':[0.01,0.1,1,10,100]}\n",
    "svr_reg = SVR(kernel = 'rbf')\n",
    "gridsvr = GridSearchCV(estimator = svr_reg,param_grid = svr_param,n_jobs=-1,cv=10,scoring='r2')\n",
    "gridsvr.fit(X_train,y_train.values.ravel())"
   ]
  },
  {
   "cell_type": "code",
   "execution_count": 54,
   "metadata": {},
   "outputs": [
    {
     "data": {
      "text/plain": [
       "{'C': 1000, 'gamma': 0.01}"
      ]
     },
     "execution_count": 54,
     "metadata": {},
     "output_type": "execute_result"
    }
   ],
   "source": [
    "gridsvr.best_params_"
   ]
  },
  {
   "cell_type": "code",
   "execution_count": 55,
   "metadata": {},
   "outputs": [],
   "source": [
    "svr_grid_train_prediction = gridsvr.predict(X_train)\n",
    "svr_grid_test_prediction = gridsvr.predict(X_test)"
   ]
  },
  {
   "cell_type": "code",
   "execution_count": 56,
   "metadata": {},
   "outputs": [
    {
     "name": "stdout",
     "output_type": "stream",
     "text": [
      "Train r2_score: 0.62\n",
      "Test r2_score: -4.76 \n"
     ]
    }
   ],
   "source": [
    "print('Train r2_score: %.2f'%r2_score(svr_grid_train_prediction, y_train))\n",
    "print('Test r2_score: %.2f '%r2_score(svr_grid_test_prediction, y_test))"
   ]
  },
  {
   "cell_type": "code",
   "execution_count": 57,
   "metadata": {},
   "outputs": [],
   "source": [
    "report_table =report_table + [['SVR_Regressor', gridsvr.best_params_, mean_absolute_error(svr_grid_train_prediction, y_train),mean_absolute_error(svr_grid_test_prediction, y_test), r2_score(svr_grid_train_prediction, y_train), r2_score(svr_grid_test_prediction, y_test) ]]"
   ]
  },
  {
   "cell_type": "markdown",
   "metadata": {},
   "source": [
    "# RandomForestRegressor"
   ]
  },
  {
   "cell_type": "code",
   "execution_count": 58,
   "metadata": {},
   "outputs": [
    {
     "data": {
      "text/plain": [
       "GridSearchCV(cv=10, error_score='raise',\n",
       "       estimator=RandomForestRegressor(bootstrap=True, criterion='mse', max_depth=None,\n",
       "           max_features='auto', max_leaf_nodes=None,\n",
       "           min_impurity_decrease=0.0, min_impurity_split=None,\n",
       "           min_samples_leaf=1, min_samples_split=2,\n",
       "           min_weight_fraction_leaf=0.0, n_estimators=10, n_jobs=1,\n",
       "           oob_score=False, random_state=0, verbose=0, warm_start=False),\n",
       "       fit_params=None, iid=True, n_jobs=-1,\n",
       "       param_grid={'bootstrap': [True], 'n_estimators': [500, 1000, 2000], 'min_samples_leaf': [10, 20, 50, 80]},\n",
       "       pre_dispatch='2*n_jobs', refit=True, return_train_score='warn',\n",
       "       scoring='r2', verbose=0)"
      ]
     },
     "execution_count": 58,
     "metadata": {},
     "output_type": "execute_result"
    }
   ],
   "source": [
    "from sklearn.ensemble import RandomForestRegressor\n",
    "rfr_param = {'bootstrap':[True],'n_estimators' : [500,1000,2000],'min_samples_leaf': [10,20,50,80]}\n",
    "rfr = RandomForestRegressor(random_state = 0)\n",
    "rfrgrid = GridSearchCV(estimator=rfr,param_grid=rfr_param,n_jobs=-1,cv = 10,scoring='r2')\n",
    "rfrgrid.fit(X_train,y_train.values.ravel())"
   ]
  },
  {
   "cell_type": "code",
   "execution_count": 59,
   "metadata": {},
   "outputs": [
    {
     "data": {
      "text/plain": [
       "{'bootstrap': True, 'min_samples_leaf': 10, 'n_estimators': 2000}"
      ]
     },
     "execution_count": 59,
     "metadata": {},
     "output_type": "execute_result"
    }
   ],
   "source": [
    "rfrgrid.best_params_"
   ]
  },
  {
   "cell_type": "code",
   "execution_count": 60,
   "metadata": {},
   "outputs": [],
   "source": [
    "rfr_grid_train_prediction = rfrgrid.predict(X_train)\n",
    "rfr_grid_test_prediction = rfrgrid.predict(X_test)"
   ]
  },
  {
   "cell_type": "code",
   "execution_count": 61,
   "metadata": {},
   "outputs": [
    {
     "name": "stdout",
     "output_type": "stream",
     "text": [
      "Train r2_score: 0.55\n",
      "Test r2_score: -1.24 \n"
     ]
    }
   ],
   "source": [
    "print('Train r2_score: %.2f'%r2_score(rfr_grid_train_prediction, y_train))\n",
    "print('Test r2_score: %.2f '%r2_score(rfr_grid_test_prediction, y_test))"
   ]
  },
  {
   "cell_type": "code",
   "execution_count": 62,
   "metadata": {},
   "outputs": [],
   "source": [
    "report_table=report_table + [['RandomForest', rfrgrid.best_params_, mean_absolute_error(rfr_grid_train_prediction, y_train),mean_absolute_error(rfr_grid_test_prediction, y_test), r2_score(rfr_grid_train_prediction, y_train), r2_score(rfr_grid_test_prediction, y_test) ]]"
   ]
  },
  {
   "cell_type": "code",
   "execution_count": 63,
   "metadata": {},
   "outputs": [],
   "source": [
    "report_table = pd.DataFrame(report_table,columns = ['Model name', 'Model parameter', 'Mean_absolute_Error(Train)', 'Mean_absolute_Error(Test)', 'Train R^2 score', 'Test R^2 score'])"
   ]
  },
  {
   "cell_type": "code",
   "execution_count": 64,
   "metadata": {},
   "outputs": [
    {
     "data": {
      "text/html": [
       "<div>\n",
       "<style scoped>\n",
       "    .dataframe tbody tr th:only-of-type {\n",
       "        vertical-align: middle;\n",
       "    }\n",
       "\n",
       "    .dataframe tbody tr th {\n",
       "        vertical-align: top;\n",
       "    }\n",
       "\n",
       "    .dataframe thead th {\n",
       "        text-align: right;\n",
       "    }\n",
       "</style>\n",
       "<table border=\"1\" class=\"dataframe\">\n",
       "  <thead>\n",
       "    <tr style=\"text-align: right;\">\n",
       "      <th></th>\n",
       "      <th>Model name</th>\n",
       "      <th>Model parameter</th>\n",
       "      <th>Mean_absolute_Error(Train)</th>\n",
       "      <th>Mean_absolute_Error(Test)</th>\n",
       "      <th>Train R^2 score</th>\n",
       "      <th>Test R^2 score</th>\n",
       "    </tr>\n",
       "  </thead>\n",
       "  <tbody>\n",
       "    <tr>\n",
       "      <th>0</th>\n",
       "      <td>SGDRegressor</td>\n",
       "      <td>{'alpha': 0.1, 'max_iter': 10000, 'penalty': '...</td>\n",
       "      <td>24.450220</td>\n",
       "      <td>52.548453</td>\n",
       "      <td>0.980406</td>\n",
       "      <td>0.842721</td>\n",
       "    </tr>\n",
       "    <tr>\n",
       "      <th>1</th>\n",
       "      <td>KnnRegressor</td>\n",
       "      <td>{'n_neighbors': 5}</td>\n",
       "      <td>36.412027</td>\n",
       "      <td>74.167653</td>\n",
       "      <td>0.779749</td>\n",
       "      <td>-1.082562</td>\n",
       "    </tr>\n",
       "    <tr>\n",
       "      <th>2</th>\n",
       "      <td>Ridge_Regressor</td>\n",
       "      <td>{'alpha': 100}</td>\n",
       "      <td>27.548246</td>\n",
       "      <td>52.936209</td>\n",
       "      <td>0.973022</td>\n",
       "      <td>0.819503</td>\n",
       "    </tr>\n",
       "    <tr>\n",
       "      <th>3</th>\n",
       "      <td>Lasso_Regressor</td>\n",
       "      <td>{'alpha': 1}</td>\n",
       "      <td>24.256527</td>\n",
       "      <td>52.405366</td>\n",
       "      <td>0.981558</td>\n",
       "      <td>0.843351</td>\n",
       "    </tr>\n",
       "    <tr>\n",
       "      <th>4</th>\n",
       "      <td>LinearSVR_Regressor</td>\n",
       "      <td>{'C': 10}</td>\n",
       "      <td>21.464068</td>\n",
       "      <td>52.987895</td>\n",
       "      <td>0.980753</td>\n",
       "      <td>0.832866</td>\n",
       "    </tr>\n",
       "    <tr>\n",
       "      <th>5</th>\n",
       "      <td>SVR_Regressor</td>\n",
       "      <td>{'C': 1000, 'gamma': 0.01}</td>\n",
       "      <td>25.272350</td>\n",
       "      <td>98.075151</td>\n",
       "      <td>0.615921</td>\n",
       "      <td>-4.760704</td>\n",
       "    </tr>\n",
       "    <tr>\n",
       "      <th>6</th>\n",
       "      <td>RandomForest</td>\n",
       "      <td>{'bootstrap': True, 'min_samples_leaf': 10, 'n...</td>\n",
       "      <td>44.931513</td>\n",
       "      <td>82.958101</td>\n",
       "      <td>0.548026</td>\n",
       "      <td>-1.244657</td>\n",
       "    </tr>\n",
       "  </tbody>\n",
       "</table>\n",
       "</div>"
      ],
      "text/plain": [
       "            Model name                                    Model parameter  \\\n",
       "0         SGDRegressor  {'alpha': 0.1, 'max_iter': 10000, 'penalty': '...   \n",
       "1         KnnRegressor                                 {'n_neighbors': 5}   \n",
       "2      Ridge_Regressor                                     {'alpha': 100}   \n",
       "3      Lasso_Regressor                                       {'alpha': 1}   \n",
       "4  LinearSVR_Regressor                                          {'C': 10}   \n",
       "5        SVR_Regressor                         {'C': 1000, 'gamma': 0.01}   \n",
       "6         RandomForest  {'bootstrap': True, 'min_samples_leaf': 10, 'n...   \n",
       "\n",
       "   Mean_absolute_Error(Train)  Mean_absolute_Error(Test)  Train R^2 score  \\\n",
       "0                   24.450220                  52.548453         0.980406   \n",
       "1                   36.412027                  74.167653         0.779749   \n",
       "2                   27.548246                  52.936209         0.973022   \n",
       "3                   24.256527                  52.405366         0.981558   \n",
       "4                   21.464068                  52.987895         0.980753   \n",
       "5                   25.272350                  98.075151         0.615921   \n",
       "6                   44.931513                  82.958101         0.548026   \n",
       "\n",
       "   Test R^2 score  \n",
       "0        0.842721  \n",
       "1       -1.082562  \n",
       "2        0.819503  \n",
       "3        0.843351  \n",
       "4        0.832866  \n",
       "5       -4.760704  \n",
       "6       -1.244657  "
      ]
     },
     "execution_count": 64,
     "metadata": {},
     "output_type": "execute_result"
    }
   ],
   "source": [
    "report_table"
   ]
  },
  {
   "cell_type": "markdown",
   "metadata": {},
   "source": [
    "Lassor regression has lowest mean_absolute_error and better R2 score when compairing to other models."
   ]
  },
  {
   "cell_type": "markdown",
   "metadata": {},
   "source": [
    "## Lasso Regression on Final Test Data"
   ]
  },
  {
   "cell_type": "code",
   "execution_count": 65,
   "metadata": {},
   "outputs": [
    {
     "data": {
      "text/plain": [
       "Lasso(alpha=1, copy_X=True, fit_intercept=True, max_iter=1000,\n",
       "   normalize=False, positive=False, precompute=False, random_state=None,\n",
       "   selection='cyclic', tol=0.0001, warm_start=False)"
      ]
     },
     "execution_count": 65,
     "metadata": {},
     "output_type": "execute_result"
    }
   ],
   "source": [
    "lasso_reg = Lasso(alpha = 1)\n",
    "lasso_reg.fit(X_train_FR,y_train_FR.values.ravel())"
   ]
  },
  {
   "cell_type": "code",
   "execution_count": 66,
   "metadata": {},
   "outputs": [
    {
     "data": {
      "text/plain": [
       "(437437, 77)"
      ]
     },
     "execution_count": 66,
     "metadata": {},
     "output_type": "execute_result"
    }
   ],
   "source": [
    "X_train_FR.shape"
   ]
  },
  {
   "cell_type": "code",
   "execution_count": 67,
   "metadata": {},
   "outputs": [
    {
     "data": {
      "text/plain": [
       "(145813, 77)"
      ]
     },
     "execution_count": 67,
     "metadata": {},
     "output_type": "execute_result"
    }
   ],
   "source": [
    "X_test_FR.shape"
   ]
  },
  {
   "cell_type": "code",
   "execution_count": 68,
   "metadata": {},
   "outputs": [
    {
     "name": "stdout",
     "output_type": "stream",
     "text": [
      "0.930819248421121\n",
      "0.9427434696737714\n"
     ]
    }
   ],
   "source": [
    "print(lasso_reg.score(X_train_FR,y_train_FR.values.ravel()))\n",
    "print(lasso_reg.score(X_test_FR,y_test_FR))"
   ]
  },
  {
   "cell_type": "code",
   "execution_count": 69,
   "metadata": {},
   "outputs": [],
   "source": [
    "lasso_reg_train_prediction = lasso_reg.predict(X_train_FR)\n",
    "lasso_reg_test_prediction = lasso_reg.predict(X_test_FR)"
   ]
  },
  {
   "cell_type": "code",
   "execution_count": 70,
   "metadata": {},
   "outputs": [
    {
     "name": "stdout",
     "output_type": "stream",
     "text": [
      "Train r2_score: 0.93\n",
      "Test r2_score: 0.94 \n"
     ]
    }
   ],
   "source": [
    "print('Train r2_score: %.2f'%r2_score(lasso_reg_train_prediction, y_train_FR))\n",
    "print('Test r2_score: %.2f '%r2_score(lasso_reg_test_prediction, y_test_FR))"
   ]
  },
  {
   "cell_type": "code",
   "execution_count": 71,
   "metadata": {},
   "outputs": [
    {
     "name": "stdout",
     "output_type": "stream",
     "text": [
      "Train mean_absolute_error: 45.56\n",
      "Test mean_absolute_error: 45.43 \n"
     ]
    }
   ],
   "source": [
    "print('Train mean_absolute_error: %.2f'%mean_absolute_error(lasso_reg_train_prediction, y_train_FR))\n",
    "print('Test mean_absolute_error: %.2f '%mean_absolute_error(lasso_reg_test_prediction, y_test_FR))"
   ]
  },
  {
   "cell_type": "code",
   "execution_count": 72,
   "metadata": {},
   "outputs": [
    {
     "name": "stdout",
     "output_type": "stream",
     "text": [
      "Train mean_squared_error: 26387.74\n",
      "Test mean_squared_error: 20360.58 \n"
     ]
    }
   ],
   "source": [
    "print('Train mean_squared_error: %.2f'%mean_squared_error(lasso_reg_train_prediction, y_train_FR))\n",
    "print('Test mean_squared_error: %.2f '%mean_squared_error(lasso_reg_test_prediction, y_test_FR))"
   ]
  },
  {
   "cell_type": "markdown",
   "metadata": {},
   "source": [
    "In regression dataset we have lasso regression which is giving the least mean_aboslute_error and highest R2.\n",
    "Also, an interesting finding is that as we are using alpha = 1, that is all the features are being used.\n",
    "\n",
    "Results:\n",
    "Train r2_score: 0.93\n",
    "Test r2_score: 0.94\n",
    "Train mean_absolute_error: 45.56\n",
    "Test mean_absolute_error: 45.43\n",
    "Train mean_squared_error: 26387.74\n",
    "Test mean_squared_error: 20360.58"
   ]
  },
  {
   "cell_type": "markdown",
   "metadata": {},
   "source": [
    "# Classification"
   ]
  },
  {
   "cell_type": "markdown",
   "metadata": {},
   "source": [
    "## EDA and Pre-processing for Classification "
   ]
  },
  {
   "cell_type": "code",
   "execution_count": 73,
   "metadata": {},
   "outputs": [
    {
     "data": {
      "text/plain": [
       "(140707, 78)"
      ]
     },
     "execution_count": 73,
     "metadata": {},
     "output_type": "execute_result"
    }
   ],
   "source": [
    "twitterDataClass.shape"
   ]
  },
  {
   "cell_type": "code",
   "execution_count": 74,
   "metadata": {},
   "outputs": [
    {
     "data": {
      "text/plain": [
       "NCD_0       0\n",
       "NCD_1       0\n",
       "NCD_2       0\n",
       "NCD_3       0\n",
       "NCD_4       0\n",
       "NCD_5       0\n",
       "NCD_6       0\n",
       "AI_0        0\n",
       "AI_1        0\n",
       "AI_2        0\n",
       "AI_3        0\n",
       "AI_4        0\n",
       "AI_5        0\n",
       "AI_6        0\n",
       "AS(NA)_0    0\n",
       "AS(NA)_1    0\n",
       "AS(NA)_2    0\n",
       "AS(NA)_3    0\n",
       "AS(NA)_4    0\n",
       "AS(NA)_5    0\n",
       "AS(NA)_6    0\n",
       "BL_0        0\n",
       "BL_1        0\n",
       "BL_2        0\n",
       "BL_3        0\n",
       "BL_4        0\n",
       "BL_5        0\n",
       "BL_6        0\n",
       "NAC_0       0\n",
       "NAC_1       0\n",
       "           ..\n",
       "CS_6        0\n",
       "AT_0        0\n",
       "AT_1        0\n",
       "AT_2        0\n",
       "AT_3        0\n",
       "AT_4        0\n",
       "AT_5        0\n",
       "AT_6        0\n",
       "NA_0        0\n",
       "NA_1        0\n",
       "NA_2        0\n",
       "NA_3        0\n",
       "NA_4        0\n",
       "NA_5        0\n",
       "NA_6        0\n",
       "ADL_0       0\n",
       "ADL_1       0\n",
       "ADL_2       0\n",
       "ADL_3       0\n",
       "ADL_4       0\n",
       "ADL_5       0\n",
       "ADL_6       0\n",
       "NAD_0       0\n",
       "NAD_1       0\n",
       "NAD_2       0\n",
       "NAD_3       0\n",
       "NAD_4       0\n",
       "NAD_5       0\n",
       "NAD_6       0\n",
       "Buzz        0\n",
       "Length: 78, dtype: int64"
      ]
     },
     "execution_count": 74,
     "metadata": {},
     "output_type": "execute_result"
    }
   ],
   "source": [
    "twitterDataClass.isna().sum()"
   ]
  },
  {
   "cell_type": "code",
   "execution_count": 75,
   "metadata": {},
   "outputs": [
    {
     "data": {
      "text/plain": [
       "0.0    112932\n",
       "1.0     27775\n",
       "Name: Buzz, dtype: int64"
      ]
     },
     "execution_count": 75,
     "metadata": {},
     "output_type": "execute_result"
    }
   ],
   "source": [
    "twitterDataClass['Buzz'].value_counts()"
   ]
  },
  {
   "cell_type": "markdown",
   "metadata": {},
   "source": [
    "Defining X, y values"
   ]
  },
  {
   "cell_type": "code",
   "execution_count": 76,
   "metadata": {},
   "outputs": [],
   "source": [
    "X_c = pd.DataFrame(twitterDataClass.loc[:,twitterDataClass.columns!='Buzz'])\n",
    "y_c = pd.DataFrame(twitterDataClass['Buzz'])"
   ]
  },
  {
   "cell_type": "markdown",
   "metadata": {},
   "source": [
    "## Splitting data in 75/25 for final evalations of Classification models"
   ]
  },
  {
   "cell_type": "markdown",
   "metadata": {},
   "source": [
    "### Standard Scaling Vs MinMax Scaling"
   ]
  },
  {
   "cell_type": "code",
   "execution_count": 77,
   "metadata": {},
   "outputs": [],
   "source": [
    "X_train_F,X_test_F,y_train_F,y_test_F = train_test_split(X_c,y_c,random_state = 0)\n",
    "mmscaler = MinMaxScaler()\n",
    "X_train_F = mmscaler.fit_transform(X_train_F)\n",
    "X_test_F = mmscaler.transform(X_test_F)"
   ]
  },
  {
   "cell_type": "code",
   "execution_count": 78,
   "metadata": {},
   "outputs": [],
   "source": [
    "X_train_F = pd.DataFrame(X_train_F,columns=['NCD_0','NCD_1','NCD_2','NCD_3','NCD_4','NCD_5','NCD_6','AI_0','AI_1','AI_2','AI_3','AI_4','AI_5','AI_6','AS(NA)_0','AS(NA)_1','AS(NA)_2','AS(NA)_3','AS(NA)_4','AS(NA)_5','AS(NA)_6','BL_0','BL_1','BL_2','BL_3','BL_4','BL_5','BL_6','NAC_0','NAC_1','NAC_2','NAC_3','NAC_4','NAC_5','NAC_6','AS(NAC)_0','AS(NAC)_1','AS(NAC)_2','AS(NAC)_3','AS(NAC)_4','AS(NAC)_5','AS(NAC)_6','CS_0','CS_1','CS_2','CS_3','CS_4','CS_5','CS_6','AT_0','AT_1','AT_2','AT_3','AT_4','AT_5','AT_6','NA_0','NA_1','NA_2','NA_3','NA_4','NA_5','NA_6','ADL_0','ADL_1','ADL_2','ADL_3','ADL_4','ADL_5','ADL_6','NAD_0','NAD_1','NAD_2','NAD_3','NAD_4','NAD_5','NAD_6'])"
   ]
  },
  {
   "cell_type": "code",
   "execution_count": 79,
   "metadata": {},
   "outputs": [
    {
     "data": {
      "image/png": "[encoded data removed]",
      "text/plain": [
       "<Figure size 432x360 with 2 Axes>"
      ]
     },
     "metadata": {},
     "output_type": "display_data"
    }
   ],
   "source": [
    "%matplotlib inline\n",
    "\n",
    "fig, (ax1, ax2) = plt.subplots(ncols=2, figsize=(6, 5))\n",
    "\n",
    "ax1.set_title(\"Before Scaling\")\n",
    "#sns.distplot(twitterDataReg['NCD_0'], hist=False, rug=True)\n",
    "sns.kdeplot(twitterDataClass['NCD_0'],ax=ax1)\n",
    "sns.kdeplot(twitterDataClass['NCD_1'],ax=ax1)\n",
    "sns.kdeplot(twitterDataClass['NCD_2'],ax=ax1)\n",
    "ax1.set_xscale('log')\n",
    "ax2.set_title(\"After MinMax Scaling\")\n",
    "#sns.distplot(X_train['NCD_0'], hist=False, rug=True)\n",
    "sns.kdeplot(X_train_F['NCD_0'],ax=ax2)\n",
    "sns.kdeplot(X_train_F['NCD_1'],ax=ax2)\n",
    "sns.kdeplot(X_train_F['NCD_2'],ax=ax2)\n",
    "ax2.set_xscale('log')"
   ]
  },
  {
   "cell_type": "code",
   "execution_count": 80,
   "metadata": {},
   "outputs": [],
   "source": [
    "X_train_F1,X_test_F1,y_train_F1,y_test_F1 = train_test_split(X_c,y_c,random_state = 0)\n",
    "stdscaler = StandardScaler()\n",
    "X_train_F1 = mmscaler.fit_transform(X_train_F1)\n",
    "X_test_F1 = mmscaler.transform(X_test_F1)"
   ]
  },
  {
   "cell_type": "code",
   "execution_count": 81,
   "metadata": {},
   "outputs": [],
   "source": [
    "X_train_F1 = pd.DataFrame(X_train_F1,columns=['NCD_0','NCD_1','NCD_2','NCD_3','NCD_4','NCD_5','NCD_6','AI_0','AI_1','AI_2','AI_3','AI_4','AI_5','AI_6','AS(NA)_0','AS(NA)_1','AS(NA)_2','AS(NA)_3','AS(NA)_4','AS(NA)_5','AS(NA)_6','BL_0','BL_1','BL_2','BL_3','BL_4','BL_5','BL_6','NAC_0','NAC_1','NAC_2','NAC_3','NAC_4','NAC_5','NAC_6','AS(NAC)_0','AS(NAC)_1','AS(NAC)_2','AS(NAC)_3','AS(NAC)_4','AS(NAC)_5','AS(NAC)_6','CS_0','CS_1','CS_2','CS_3','CS_4','CS_5','CS_6','AT_0','AT_1','AT_2','AT_3','AT_4','AT_5','AT_6','NA_0','NA_1','NA_2','NA_3','NA_4','NA_5','NA_6','ADL_0','ADL_1','ADL_2','ADL_3','ADL_4','ADL_5','ADL_6','NAD_0','NAD_1','NAD_2','NAD_3','NAD_4','NAD_5','NAD_6'])"
   ]
  },
  {
   "cell_type": "code",
   "execution_count": 82,
   "metadata": {},
   "outputs": [
    {
     "data": {
      "image/png": "[encoded data removed]",
      "text/plain": [
       "<Figure size 432x360 with 2 Axes>"
      ]
     },
     "metadata": {},
     "output_type": "display_data"
    }
   ],
   "source": [
    "%matplotlib inline\n",
    "\n",
    "fig, (ax1, ax2) = plt.subplots(ncols=2, figsize=(6, 5))\n",
    "\n",
    "ax1.set_title(\"Before Scaling\")\n",
    "#sns.distplot(twitterDataReg['NCD_0'], hist=False, rug=True)\n",
    "sns.kdeplot(twitterDataClass['NCD_0'],ax=ax1)\n",
    "sns.kdeplot(twitterDataClass['NCD_1'],ax=ax1)\n",
    "sns.kdeplot(twitterDataClass['NCD_2'],ax=ax1)\n",
    "ax1.set_xscale('log')\n",
    "ax2.set_title(\"After Standard Scaling\")\n",
    "#sns.distplot(X_train['NCD_0'], hist=False, rug=True)\n",
    "sns.kdeplot(X_train_F1['NCD_0'],ax=ax2)\n",
    "sns.kdeplot(X_train_F1['NCD_1'],ax=ax2)\n",
    "sns.kdeplot(X_train_F1['NCD_2'],ax=ax2)\n",
    "ax2.set_xscale('log')"
   ]
  },
  {
   "cell_type": "markdown",
   "metadata": {},
   "source": [
    "In Classification problems it is important to have data normalized that is having the same scale, rather than standardized\n",
    "without having equal scale \n",
    "So, we will be using MinMax scaling rather than Standard Scaling."
   ]
  },
  {
   "cell_type": "code",
   "execution_count": 83,
   "metadata": {},
   "outputs": [],
   "source": [
    "# MinMax Scaling\n",
    "X_train_C,X_test_C,y_train_C,y_test_C = train_test_split(X_c,y_c,random_state = 0,test_size=.90)\n",
    "stdscaler = MinMaxScaler()\n",
    "X_train_C = stdscaler.fit_transform(X_train_C)\n",
    "X_test_C = stdscaler.transform(X_test_C)"
   ]
  },
  {
   "cell_type": "markdown",
   "metadata": {},
   "source": [
    "# Logistic regression using f1 score as scoring parameter"
   ]
  },
  {
   "cell_type": "code",
   "execution_count": 84,
   "metadata": {},
   "outputs": [
    {
     "data": {
      "text/plain": [
       "GridSearchCV(cv=10, error_score='raise',\n",
       "       estimator=LogisticRegression(C=1.0, class_weight=None, dual=False, fit_intercept=True,\n",
       "          intercept_scaling=1, max_iter=100, multi_class='ovr', n_jobs=1,\n",
       "          penalty='l2', random_state=0, solver='liblinear', tol=0.0001,\n",
       "          verbose=0, warm_start=False),\n",
       "       fit_params=None, iid=True, n_jobs=-1,\n",
       "       param_grid={'penalty': ['l1', 'l2'], 'C': [0.01, 0.1, 1, 10, 100, 1000]},\n",
       "       pre_dispatch='2*n_jobs', refit=True, return_train_score='warn',\n",
       "       scoring='f1', verbose=0)"
      ]
     },
     "execution_count": 84,
     "metadata": {},
     "output_type": "execute_result"
    }
   ],
   "source": [
    "from sklearn.linear_model import LogisticRegression\n",
    "logit_param = {'penalty':['l1','l2'],'C':[0.01, 0.1, 1, 10, 100, 1000]}\n",
    "\n",
    "logit = LogisticRegression(random_state = 0)\n",
    "gridlogit1 = GridSearchCV(estimator = logit,param_grid = logit_param,n_jobs=-1,cv=10,scoring='f1')\n",
    "gridlogit1.fit(X_train_C,y_train_C.values.ravel())"
   ]
  },
  {
   "cell_type": "code",
   "execution_count": 85,
   "metadata": {},
   "outputs": [
    {
     "data": {
      "text/plain": [
       "{'C': 100, 'penalty': 'l1'}"
      ]
     },
     "execution_count": 85,
     "metadata": {},
     "output_type": "execute_result"
    }
   ],
   "source": [
    "gridlogit1.best_params_"
   ]
  },
  {
   "cell_type": "code",
   "execution_count": 86,
   "metadata": {},
   "outputs": [
    {
     "data": {
      "text/plain": [
       "0.9109708003841518"
      ]
     },
     "execution_count": 86,
     "metadata": {},
     "output_type": "execute_result"
    }
   ],
   "source": [
    "gridlogit1.score(X_test_C,y_test_C)"
   ]
  },
  {
   "cell_type": "code",
   "execution_count": 87,
   "metadata": {},
   "outputs": [],
   "source": [
    "gridlogit1_train_prediction = gridlogit1.predict(X_train_C)\n",
    "gridlogit1_test_prediction = gridlogit1.predict(X_test_C)"
   ]
  },
  {
   "cell_type": "code",
   "execution_count": 88,
   "metadata": {},
   "outputs": [
    {
     "name": "stdout",
     "output_type": "stream",
     "text": [
      "Train f1_score: 0.92\n",
      "Test f1_score: 0.91 \n"
     ]
    }
   ],
   "source": [
    "print('Train f1_score: %.2f'%f1_score(gridlogit1_train_prediction, y_train_C))\n",
    "print('Test f1_score: %.2f '%f1_score(gridlogit1_test_prediction, y_test_C))"
   ]
  },
  {
   "cell_type": "code",
   "execution_count": 89,
   "metadata": {},
   "outputs": [
    {
     "name": "stdout",
     "output_type": "stream",
     "text": [
      "CLassification_metrics :\n",
      "             precision    recall  f1-score   support\n",
      "\n",
      "        0.0       0.97      0.98      0.98    101624\n",
      "        1.0       0.93      0.89      0.91     25013\n",
      "\n",
      "avg / total       0.97      0.97      0.97    126637\n",
      "\n"
     ]
    }
   ],
   "source": [
    "print(\"CLassification_metrics :\")\n",
    "print(classification_report(y_test_C,gridlogit1_test_prediction))"
   ]
  },
  {
   "cell_type": "markdown",
   "metadata": {},
   "source": [
    "# Logistic regression using roc_auc as scoring parameter"
   ]
  },
  {
   "cell_type": "code",
   "execution_count": 90,
   "metadata": {},
   "outputs": [
    {
     "data": {
      "text/plain": [
       "GridSearchCV(cv=10, error_score='raise',\n",
       "       estimator=LogisticRegression(C=1.0, class_weight=None, dual=False, fit_intercept=True,\n",
       "          intercept_scaling=1, max_iter=100, multi_class='ovr', n_jobs=1,\n",
       "          penalty='l2', random_state=0, solver='liblinear', tol=0.0001,\n",
       "          verbose=0, warm_start=False),\n",
       "       fit_params=None, iid=True, n_jobs=-1,\n",
       "       param_grid={'penalty': ['l1', 'l2'], 'C': [0.01, 0.1, 1, 10, 100, 1000]},\n",
       "       pre_dispatch='2*n_jobs', refit=True, return_train_score='warn',\n",
       "       scoring='roc_auc', verbose=0)"
      ]
     },
     "execution_count": 90,
     "metadata": {},
     "output_type": "execute_result"
    }
   ],
   "source": [
    "gridlogit = GridSearchCV(estimator = logit,param_grid = logit_param,n_jobs=-1,cv=10,scoring='roc_auc')\n",
    "gridlogit.fit(X_train_C,y_train_C.values.ravel())"
   ]
  },
  {
   "cell_type": "code",
   "execution_count": 91,
   "metadata": {},
   "outputs": [
    {
     "data": {
      "text/plain": [
       "{'C': 10, 'penalty': 'l1'}"
      ]
     },
     "execution_count": 91,
     "metadata": {},
     "output_type": "execute_result"
    }
   ],
   "source": [
    "gridlogit.best_params_"
   ]
  },
  {
   "cell_type": "code",
   "execution_count": 92,
   "metadata": {},
   "outputs": [
    {
     "data": {
      "text/plain": [
       "0.9918309703232048"
      ]
     },
     "execution_count": 92,
     "metadata": {},
     "output_type": "execute_result"
    }
   ],
   "source": [
    "gridlogit.score(X_test_C,y_test_C)"
   ]
  },
  {
   "cell_type": "code",
   "execution_count": 93,
   "metadata": {},
   "outputs": [],
   "source": [
    "gridlogit_train_prediction = gridlogit.predict(X_train_C)\n",
    "gridlogit_test_prediction = gridlogit.predict(X_test_C)"
   ]
  },
  {
   "cell_type": "code",
   "execution_count": 94,
   "metadata": {},
   "outputs": [
    {
     "name": "stdout",
     "output_type": "stream",
     "text": [
      "Train auc_score: 0.96\n",
      "Test auc_score: 0.95 \n"
     ]
    }
   ],
   "source": [
    "print('Train auc_score: %.2f'%roc_auc_score(gridlogit_train_prediction, y_train_C))\n",
    "print('Test auc_score: %.2f '%roc_auc_score(gridlogit_test_prediction, y_test_C))"
   ]
  },
  {
   "cell_type": "code",
   "execution_count": 95,
   "metadata": {},
   "outputs": [
    {
     "name": "stdout",
     "output_type": "stream",
     "text": [
      "CLassification_metrics :\n",
      "             precision    recall  f1-score   support\n",
      "\n",
      "        0.0       0.97      0.98      0.98    101624\n",
      "        1.0       0.93      0.89      0.91     25013\n",
      "\n",
      "avg / total       0.97      0.97      0.97    126637\n",
      "\n"
     ]
    }
   ],
   "source": [
    "print(\"CLassification_metrics :\")\n",
    "print(classification_report(y_test_C,gridlogit_test_prediction))"
   ]
  },
  {
   "cell_type": "markdown",
   "metadata": {},
   "source": [
    "Here if we see the proportion of negative and positive class is imbalanced i.e 80/20.\n",
    "We ran our Logistic regresison with F1 scores and AUC as scoring parameters and found:\n",
    "Train f1_score: 0.92\n",
    "Test f1_score: 0.91\n",
    "Train auc_score: 0.96\n",
    "Test auc_score: 0.95\n",
    "As seen clearly we are getting high AUC scores which is expected due to its property of giving overly optimistic predictions\n",
    "of skewed data i.e imbalanced data.\n",
    "We are more concerned about reviewing both precision and recall due to imbalance.\n",
    "The reason for this is that typically the large number of classes with 0 examples, means we are less interested in the skill\n",
    "of the model at predicting class 0 correctly\n",
    " \n",
    "We are only concerned with the correct prediction of the minority class, class 1.\n",
    "For this we will use f1 score which gives us the harmonic mean of precision and recall and correct estimate of the model."
   ]
  },
  {
   "cell_type": "code",
   "execution_count": 96,
   "metadata": {},
   "outputs": [],
   "source": [
    "Class_report_table = [['Logistic Regression',gridlogit1.best_params_ , gridlogit1.score(X_train_C, y_train_C), gridlogit1.score(X_test_C, y_test_C), f1_score(gridlogit1_train_prediction, y_train_C), f1_score(gridlogit1_test_prediction, y_test_C) ]]"
   ]
  },
  {
   "cell_type": "markdown",
   "metadata": {},
   "source": [
    "# KnnClassifier"
   ]
  },
  {
   "cell_type": "code",
   "execution_count": 97,
   "metadata": {},
   "outputs": [
    {
     "data": {
      "text/plain": [
       "GridSearchCV(cv=10, error_score='raise',\n",
       "       estimator=KNeighborsClassifier(algorithm='auto', leaf_size=30, metric='minkowski',\n",
       "           metric_params=None, n_jobs=1, n_neighbors=5, p=2,\n",
       "           weights='uniform'),\n",
       "       fit_params=None, iid=True, n_jobs=1,\n",
       "       param_grid={'n_neighbors': [1, 5, 10, 15, 20]},\n",
       "       pre_dispatch='2*n_jobs', refit=True, return_train_score='warn',\n",
       "       scoring='f1', verbose=0)"
      ]
     },
     "execution_count": 97,
     "metadata": {},
     "output_type": "execute_result"
    }
   ],
   "source": [
    "from sklearn.neighbors import KNeighborsClassifier\n",
    "\n",
    "knn = KNeighborsClassifier()\n",
    "param_grid = {'n_neighbors':[1, 5, 10, 15, 20]}\n",
    "\n",
    "grid_knnC = GridSearchCV(knn, param_grid=param_grid, cv = 10, scoring='f1')\n",
    "grid_knnC.fit(X_train_C, y_train_C.values.ravel())"
   ]
  },
  {
   "cell_type": "code",
   "execution_count": 98,
   "metadata": {},
   "outputs": [
    {
     "data": {
      "text/plain": [
       "{'n_neighbors': 15}"
      ]
     },
     "execution_count": 98,
     "metadata": {},
     "output_type": "execute_result"
    }
   ],
   "source": [
    "grid_knnC.best_params_"
   ]
  },
  {
   "cell_type": "code",
   "execution_count": 99,
   "metadata": {},
   "outputs": [
    {
     "data": {
      "text/plain": [
       "0.9104840216781911"
      ]
     },
     "execution_count": 99,
     "metadata": {},
     "output_type": "execute_result"
    }
   ],
   "source": [
    "grid_knnC.score(X_train_C, y_train_C)"
   ]
  },
  {
   "cell_type": "code",
   "execution_count": 100,
   "metadata": {},
   "outputs": [
    {
     "data": {
      "text/plain": [
       "0.9004770521467347"
      ]
     },
     "execution_count": 100,
     "metadata": {},
     "output_type": "execute_result"
    }
   ],
   "source": [
    "grid_knnC.score(X_test_C,y_test_C)"
   ]
  },
  {
   "cell_type": "code",
   "execution_count": 101,
   "metadata": {},
   "outputs": [],
   "source": [
    "gridknnC_train_prediction = grid_knnC.predict(X_train_C)\n",
    "gridknnC_test_prediction = grid_knnC.predict(X_test_C)"
   ]
  },
  {
   "cell_type": "code",
   "execution_count": 102,
   "metadata": {},
   "outputs": [
    {
     "name": "stdout",
     "output_type": "stream",
     "text": [
      "Train F1 score: 0.91\n",
      "Test F1 score: 0.90 \n"
     ]
    }
   ],
   "source": [
    "print('Train F1 score: %.2f'%f1_score(gridknnC_train_prediction, y_train_C))\n",
    "print('Test F1 score: %.2f '%f1_score(gridknnC_test_prediction, y_test_C))"
   ]
  },
  {
   "cell_type": "code",
   "execution_count": 103,
   "metadata": {},
   "outputs": [],
   "source": [
    "Class_report_table =Class_report_table + [['Knn Classifier',grid_knnC.best_params_, grid_knnC.score(X_train_C, y_train_C), grid_knnC.score(X_test_C, y_test_C), f1_score(gridknnC_train_prediction, y_train_C), f1_score(gridknnC_test_prediction, y_test_C) ]]"
   ]
  },
  {
   "cell_type": "markdown",
   "metadata": {},
   "source": [
    "# LinearSVC"
   ]
  },
  {
   "cell_type": "code",
   "execution_count": 104,
   "metadata": {},
   "outputs": [
    {
     "data": {
      "text/plain": [
       "GridSearchCV(cv=10, error_score='raise',\n",
       "       estimator=SVC(C=1.0, cache_size=200, class_weight=None, coef0=0.0,\n",
       "  decision_function_shape='ovr', degree=3, gamma='auto', kernel='linear',\n",
       "  max_iter=-1, probability=False, random_state=0, shrinking=True,\n",
       "  tol=0.001, verbose=False),\n",
       "       fit_params=None, iid=True, n_jobs=-1,\n",
       "       param_grid={'C': [0.1, 1, 10, 100]}, pre_dispatch='2*n_jobs',\n",
       "       refit=True, return_train_score='warn', scoring='f1', verbose=0)"
      ]
     },
     "execution_count": 104,
     "metadata": {},
     "output_type": "execute_result"
    }
   ],
   "source": [
    "from sklearn.svm import SVC,LinearSVC\n",
    "lsvc_param = {'C':[0.1, 1, 10, 100]}\n",
    "linearsvc = SVC(kernel = 'linear',random_state=0)\n",
    "gridlinearsvc = GridSearchCV(estimator = linearsvc,param_grid = lsvc_param,n_jobs=-1,cv=10,scoring='f1')\n",
    "gridlinearsvc.fit(X_train_C,y_train_C.values.ravel())"
   ]
  },
  {
   "cell_type": "code",
   "execution_count": 105,
   "metadata": {},
   "outputs": [
    {
     "data": {
      "text/plain": [
       "0.9194718244374186"
      ]
     },
     "execution_count": 105,
     "metadata": {},
     "output_type": "execute_result"
    }
   ],
   "source": [
    "gridlinearsvc.score(X_train_C,y_train_C)"
   ]
  },
  {
   "cell_type": "code",
   "execution_count": 106,
   "metadata": {},
   "outputs": [
    {
     "data": {
      "text/plain": [
       "0.9107916019933012"
      ]
     },
     "execution_count": 106,
     "metadata": {},
     "output_type": "execute_result"
    }
   ],
   "source": [
    "gridlinearsvc.score(X_test_C,y_test_C)"
   ]
  },
  {
   "cell_type": "code",
   "execution_count": 107,
   "metadata": {},
   "outputs": [
    {
     "data": {
      "text/plain": [
       "{'C': 100}"
      ]
     },
     "execution_count": 107,
     "metadata": {},
     "output_type": "execute_result"
    }
   ],
   "source": [
    "gridlinearsvc.best_params_"
   ]
  },
  {
   "cell_type": "code",
   "execution_count": 108,
   "metadata": {},
   "outputs": [],
   "source": [
    "gridlinearsvc_train_prediction = gridlinearsvc.predict(X_train_C)\n",
    "gridlinearsvc_test_prediction = gridlinearsvc.predict(X_test_C)"
   ]
  },
  {
   "cell_type": "code",
   "execution_count": 109,
   "metadata": {},
   "outputs": [
    {
     "name": "stdout",
     "output_type": "stream",
     "text": [
      "Train F1 score: 0.92\n",
      "Test F1 score: 0.91 \n"
     ]
    }
   ],
   "source": [
    "print('Train F1 score: %.2f'%f1_score(gridlinearsvc_train_prediction, y_train_C))\n",
    "print('Test F1 score: %.2f '%f1_score(gridlinearsvc_test_prediction, y_test_C))"
   ]
  },
  {
   "cell_type": "code",
   "execution_count": 110,
   "metadata": {},
   "outputs": [],
   "source": [
    "Class_report_table =Class_report_table + [['LinearSVC ',gridlinearsvc.best_params_, gridlinearsvc.score(X_train_C,y_train_C), gridlinearsvc.score(X_test_C,y_test_C), roc_auc_score(gridlinearsvc_train_prediction, y_train_C), roc_auc_score(gridlinearsvc_test_prediction, y_test_C) ]]"
   ]
  },
  {
   "cell_type": "markdown",
   "metadata": {},
   "source": [
    "# Gaussian SVC"
   ]
  },
  {
   "cell_type": "code",
   "execution_count": 111,
   "metadata": {},
   "outputs": [
    {
     "data": {
      "text/plain": [
       "GridSearchCV(cv=10, error_score='raise',\n",
       "       estimator=SVC(C=1.0, cache_size=200, class_weight=None, coef0=0.0,\n",
       "  decision_function_shape='ovr', degree=3, gamma='auto', kernel='rbf',\n",
       "  max_iter=-1, probability=False, random_state=None, shrinking=True,\n",
       "  tol=0.001, verbose=False),\n",
       "       fit_params=None, iid=True, n_jobs=-1,\n",
       "       param_grid={'C': [0.1, 1, 10, 100, 1000], 'gamma': [0.01, 0.1, 1, 10, 100]},\n",
       "       pre_dispatch='2*n_jobs', refit=True, return_train_score='warn',\n",
       "       scoring='f1', verbose=0)"
      ]
     },
     "execution_count": 111,
     "metadata": {},
     "output_type": "execute_result"
    }
   ],
   "source": [
    "svc_param = {'C':[0.1, 1, 10, 100,1000],'gamma':[0.01,0.1,1,10,100]}\n",
    "svc = SVC(kernel = 'rbf')\n",
    "gridsvc = GridSearchCV(estimator = svc,param_grid = svc_param,n_jobs=-1,cv=10,scoring='f1')\n",
    "gridsvc.fit(X_train_C,y_train_C.values.ravel())"
   ]
  },
  {
   "cell_type": "code",
   "execution_count": 112,
   "metadata": {},
   "outputs": [
    {
     "data": {
      "text/plain": [
       "{'C': 1000, 'gamma': 0.1}"
      ]
     },
     "execution_count": 112,
     "metadata": {},
     "output_type": "execute_result"
    }
   ],
   "source": [
    "gridsvc.best_params_"
   ]
  },
  {
   "cell_type": "code",
   "execution_count": 113,
   "metadata": {},
   "outputs": [],
   "source": [
    "gridsvc_train_prediction = gridsvc.predict(X_train_C)\n",
    "gridsvc_test_prediction = gridsvc.predict(X_test_C)"
   ]
  },
  {
   "cell_type": "code",
   "execution_count": 114,
   "metadata": {},
   "outputs": [
    {
     "name": "stdout",
     "output_type": "stream",
     "text": [
      "Train F1 score: 0.92\n",
      "Test F1 score: 0.91 \n"
     ]
    }
   ],
   "source": [
    "print('Train F1 score: %.2f'%f1_score(gridsvc_train_prediction, y_train_C))\n",
    "print('Test F1 score: %.2f '%f1_score(gridsvc_test_prediction, y_test_C))"
   ]
  },
  {
   "cell_type": "code",
   "execution_count": 115,
   "metadata": {},
   "outputs": [],
   "source": [
    "Class_report_table =Class_report_table + [['GaussianSVC ',gridsvc.best_params_, gridsvc.score(X_train_C, y_train_C), gridsvc.score(X_test_C, y_test_C), f1_score(gridsvc_train_prediction, y_train_C), f1_score(gridsvc_test_prediction, y_test_C) ]]"
   ]
  },
  {
   "cell_type": "markdown",
   "metadata": {},
   "source": [
    "# RandomClassifier"
   ]
  },
  {
   "cell_type": "code",
   "execution_count": 116,
   "metadata": {},
   "outputs": [
    {
     "data": {
      "text/plain": [
       "GridSearchCV(cv=10, error_score='raise',\n",
       "       estimator=RandomForestClassifier(bootstrap=True, class_weight=None, criterion='gini',\n",
       "            max_depth=None, max_features='auto', max_leaf_nodes=None,\n",
       "            min_impurity_decrease=0.0, min_impurity_split=None,\n",
       "            min_samples_leaf=1, min_samples_split=2,\n",
       "            min_weight_fraction_leaf=0.0, n_estimators=10, n_jobs=1,\n",
       "            oob_score=False, random_state=0, verbose=0, warm_start=False),\n",
       "       fit_params=None, iid=True, n_jobs=-1,\n",
       "       param_grid={'bootstrap': [True], 'n_estimators': [500, 1000], 'min_samples_leaf': [10, 20, 50]},\n",
       "       pre_dispatch='2*n_jobs', refit=True, return_train_score='warn',\n",
       "       scoring='f1', verbose=0)"
      ]
     },
     "execution_count": 116,
     "metadata": {},
     "output_type": "execute_result"
    }
   ],
   "source": [
    "from sklearn.ensemble import RandomForestClassifier\n",
    "rf_param = {'bootstrap':[True],'n_estimators' : [500,1000],'min_samples_leaf': [10,20,50]}\n",
    "rf = RandomForestClassifier(random_state = 0)\n",
    "rfgrid = GridSearchCV(estimator=rf,param_grid=rf_param,n_jobs=-1,cv = 10,scoring='f1')\n",
    "rfgrid.fit(X_train_C,y_train_C.values.ravel())"
   ]
  },
  {
   "cell_type": "code",
   "execution_count": 117,
   "metadata": {},
   "outputs": [
    {
     "data": {
      "text/plain": [
       "{'bootstrap': True, 'min_samples_leaf': 10, 'n_estimators': 1000}"
      ]
     },
     "execution_count": 117,
     "metadata": {},
     "output_type": "execute_result"
    }
   ],
   "source": [
    "rfgrid.best_params_"
   ]
  },
  {
   "cell_type": "code",
   "execution_count": 118,
   "metadata": {},
   "outputs": [],
   "source": [
    "gridrf_train_prediction = gridsvc.predict(X_train_C)\n",
    "gridrf_test_prediction = gridsvc.predict(X_test_C)"
   ]
  },
  {
   "cell_type": "code",
   "execution_count": 119,
   "metadata": {},
   "outputs": [
    {
     "name": "stdout",
     "output_type": "stream",
     "text": [
      "Train F1 score: 0.92\n",
      "Test F1 score: 0.91 \n"
     ]
    }
   ],
   "source": [
    "print('Train F1 score: %.2f'%f1_score(gridrf_train_prediction, y_train_C))\n",
    "print('Test F1 score: %.2f '%f1_score(gridrf_test_prediction, y_test_C))"
   ]
  },
  {
   "cell_type": "code",
   "execution_count": 120,
   "metadata": {},
   "outputs": [],
   "source": [
    "Class_report_table =Class_report_table + [['Random_Forest ',rfgrid.best_params_, rfgrid.score(X_train_C, y_train_C), rfgrid.score(X_test_C, y_test_C), f1_score(gridrf_train_prediction, y_train_C), f1_score(gridrf_test_prediction, y_test_C)]]"
   ]
  },
  {
   "cell_type": "code",
   "execution_count": 121,
   "metadata": {},
   "outputs": [],
   "source": [
    "Class_report_table = pd.DataFrame(Class_report_table,columns = ['Model name', 'Model parameter', 'Train accuracy', 'Test accuracy', 'Train F1 score', 'Test F1 score'])"
   ]
  },
  {
   "cell_type": "code",
   "execution_count": 122,
   "metadata": {},
   "outputs": [
    {
     "data": {
      "text/html": [
       "<div>\n",
       "<style scoped>\n",
       "    .dataframe tbody tr th:only-of-type {\n",
       "        vertical-align: middle;\n",
       "    }\n",
       "\n",
       "    .dataframe tbody tr th {\n",
       "        vertical-align: top;\n",
       "    }\n",
       "\n",
       "    .dataframe thead th {\n",
       "        text-align: right;\n",
       "    }\n",
       "</style>\n",
       "<table border=\"1\" class=\"dataframe\">\n",
       "  <thead>\n",
       "    <tr style=\"text-align: right;\">\n",
       "      <th></th>\n",
       "      <th>Model name</th>\n",
       "      <th>Model parameter</th>\n",
       "      <th>Train accuracy</th>\n",
       "      <th>Test accuracy</th>\n",
       "      <th>Train F1 score</th>\n",
       "      <th>Test F1 score</th>\n",
       "    </tr>\n",
       "  </thead>\n",
       "  <tbody>\n",
       "    <tr>\n",
       "      <th>0</th>\n",
       "      <td>Logistic Regression</td>\n",
       "      <td>{'C': 100, 'penalty': 'l1'}</td>\n",
       "      <td>0.917704</td>\n",
       "      <td>0.910971</td>\n",
       "      <td>0.917704</td>\n",
       "      <td>0.910971</td>\n",
       "    </tr>\n",
       "    <tr>\n",
       "      <th>1</th>\n",
       "      <td>Knn Classifier</td>\n",
       "      <td>{'n_neighbors': 15}</td>\n",
       "      <td>0.910484</td>\n",
       "      <td>0.900477</td>\n",
       "      <td>0.910484</td>\n",
       "      <td>0.900477</td>\n",
       "    </tr>\n",
       "    <tr>\n",
       "      <th>2</th>\n",
       "      <td>LinearSVC</td>\n",
       "      <td>{'C': 100}</td>\n",
       "      <td>0.919472</td>\n",
       "      <td>0.910792</td>\n",
       "      <td>0.960000</td>\n",
       "      <td>0.952272</td>\n",
       "    </tr>\n",
       "    <tr>\n",
       "      <th>3</th>\n",
       "      <td>GaussianSVC</td>\n",
       "      <td>{'C': 1000, 'gamma': 0.1}</td>\n",
       "      <td>0.920193</td>\n",
       "      <td>0.910973</td>\n",
       "      <td>0.920193</td>\n",
       "      <td>0.910973</td>\n",
       "    </tr>\n",
       "    <tr>\n",
       "      <th>4</th>\n",
       "      <td>Random_Forest</td>\n",
       "      <td>{'bootstrap': True, 'min_samples_leaf': 10, 'n...</td>\n",
       "      <td>0.943465</td>\n",
       "      <td>0.913018</td>\n",
       "      <td>0.920193</td>\n",
       "      <td>0.910973</td>\n",
       "    </tr>\n",
       "  </tbody>\n",
       "</table>\n",
       "</div>"
      ],
      "text/plain": [
       "            Model name                                    Model parameter  \\\n",
       "0  Logistic Regression                        {'C': 100, 'penalty': 'l1'}   \n",
       "1       Knn Classifier                                {'n_neighbors': 15}   \n",
       "2           LinearSVC                                          {'C': 100}   \n",
       "3         GaussianSVC                           {'C': 1000, 'gamma': 0.1}   \n",
       "4       Random_Forest   {'bootstrap': True, 'min_samples_leaf': 10, 'n...   \n",
       "\n",
       "   Train accuracy  Test accuracy  Train F1 score  Test F1 score  \n",
       "0        0.917704       0.910971        0.917704       0.910971  \n",
       "1        0.910484       0.900477        0.910484       0.900477  \n",
       "2        0.919472       0.910792        0.960000       0.952272  \n",
       "3        0.920193       0.910973        0.920193       0.910973  \n",
       "4        0.943465       0.913018        0.920193       0.910973  "
      ]
     },
     "execution_count": 122,
     "metadata": {},
     "output_type": "execute_result"
    }
   ],
   "source": [
    "Class_report_table"
   ]
  },
  {
   "cell_type": "markdown",
   "metadata": {},
   "source": [
    "We can see that Linear SVC is giving us the best F1 scores for training and testing data! Let's run and check the classification\n",
    "repot"
   ]
  },
  {
   "cell_type": "markdown",
   "metadata": {},
   "source": [
    "## Linear SVC on Final Data"
   ]
  },
  {
   "cell_type": "code",
   "execution_count": 123,
   "metadata": {},
   "outputs": [
    {
     "data": {
      "text/plain": [
       "SVC(C=100, cache_size=200, class_weight=None, coef0=0.0,\n",
       "  decision_function_shape='ovr', degree=3, gamma='auto', kernel='linear',\n",
       "  max_iter=-1, probability=False, random_state=0, shrinking=True,\n",
       "  tol=0.001, verbose=False)"
      ]
     },
     "execution_count": 123,
     "metadata": {},
     "output_type": "execute_result"
    }
   ],
   "source": [
    "linearsvcF = SVC(kernel = 'linear',random_state=0,C=100)\n",
    "linearsvcF.fit(X_train_F,y_train_F.values.ravel())"
   ]
  },
  {
   "cell_type": "code",
   "execution_count": 124,
   "metadata": {},
   "outputs": [
    {
     "data": {
      "text/plain": [
       "(105530, 77)"
      ]
     },
     "execution_count": 124,
     "metadata": {},
     "output_type": "execute_result"
    }
   ],
   "source": [
    "X_train_F.shape"
   ]
  },
  {
   "cell_type": "code",
   "execution_count": 125,
   "metadata": {},
   "outputs": [
    {
     "data": {
      "text/plain": [
       "(35177, 77)"
      ]
     },
     "execution_count": 125,
     "metadata": {},
     "output_type": "execute_result"
    }
   ],
   "source": [
    "X_test_F.shape"
   ]
  },
  {
   "cell_type": "code",
   "execution_count": 126,
   "metadata": {},
   "outputs": [
    {
     "name": "stdout",
     "output_type": "stream",
     "text": [
      "0.9668530275750972\n",
      "0.9652613923870711\n"
     ]
    }
   ],
   "source": [
    "print(linearsvcF.score(X_train_F,y_train_F))\n",
    "print(linearsvcF.score(X_test_F,y_test_F))"
   ]
  },
  {
   "cell_type": "code",
   "execution_count": 127,
   "metadata": {},
   "outputs": [],
   "source": [
    "finalLinearSVC_train_prediction = linearsvcF.predict(X_train_F)\n",
    "finalLinearSVC_test_prediction = linearsvcF.predict(X_test_F)"
   ]
  },
  {
   "cell_type": "code",
   "execution_count": 128,
   "metadata": {},
   "outputs": [
    {
     "name": "stdout",
     "output_type": "stream",
     "text": [
      "Final Train F1 score: 0.91\n",
      "Final Test F1 score: 0.91 \n"
     ]
    }
   ],
   "source": [
    "print('Final Train F1 score: %.2f'%f1_score(finalLinearSVC_train_prediction, y_train_F))\n",
    "print('Final Test F1 score: %.2f '%f1_score(finalLinearSVC_test_prediction, y_test_F))"
   ]
  },
  {
   "cell_type": "code",
   "execution_count": 129,
   "metadata": {},
   "outputs": [
    {
     "name": "stdout",
     "output_type": "stream",
     "text": [
      "Confusion Metrics is :\n",
      "[[27800   783]\n",
      " [  439  6155]]\n"
     ]
    }
   ],
   "source": [
    "print(\"Confusion Metrics is :\")\n",
    "print(confusion_matrix(finalLinearSVC_test_prediction,y_test_F))"
   ]
  },
  {
   "cell_type": "code",
   "execution_count": 130,
   "metadata": {},
   "outputs": [
    {
     "name": "stdout",
     "output_type": "stream",
     "text": [
      "CLassification_metrics :\n",
      "             precision    recall  f1-score   support\n",
      "\n",
      "        0.0       0.97      0.98      0.98     28239\n",
      "        1.0       0.93      0.89      0.91      6938\n",
      "\n",
      "avg / total       0.96      0.97      0.96     35177\n",
      "\n"
     ]
    }
   ],
   "source": [
    "print(\"CLassification_metrics :\")\n",
    "print(classification_report(y_test_F,finalLinearSVC_test_prediction))"
   ]
  },
  {
   "cell_type": "markdown",
   "metadata": {},
   "source": [
    "## Plotting precision Recall Curve"
   ]
  },
  {
   "cell_type": "code",
   "execution_count": 131,
   "metadata": {},
   "outputs": [
    {
     "data": {
      "text/plain": [
       "Text(0.5,1,'Final Test F1 score: 0.91 ')"
      ]
     },
     "execution_count": 131,
     "metadata": {},
     "output_type": "execute_result"
    },
    {
     "data": {
      "image/png": "[encoded data removed]",
      "text/plain": [
       "<Figure size 432x288 with 1 Axes>"
      ]
     },
     "metadata": {},
     "output_type": "display_data"
    }
   ],
   "source": [
    "from sklearn.metrics import precision_recall_curve\n",
    "\n",
    "precision, recall, _ = precision_recall_curve(y_test_F,finalLinearSVC_test_prediction)\n",
    "\n",
    "plt.step(recall, precision, color='b', alpha=0.2,\n",
    "         where='post')\n",
    "plt.fill_between(recall, precision, step='post', alpha=0.2,\n",
    "                 color='b')\n",
    "\n",
    "plt.xlabel('Recall')\n",
    "plt.ylabel('Precision')\n",
    "plt.ylim([0.0, 1.05])\n",
    "plt.xlim([0.0, 1.0])\n",
    "plt.title('Final Test F1 score: %.2f '%f1_score(finalLinearSVC_test_prediction, y_test_F))"
   ]
  },
  {
   "cell_type": "markdown",
   "metadata": {},
   "source": [
    "## Plotting AUC ROC curve"
   ]
  },
  {
   "cell_type": "code",
   "execution_count": 132,
   "metadata": {},
   "outputs": [
    {
     "name": "stderr",
     "output_type": "stream",
     "text": [
      "C:\\Users\\shmbh\\Anaconda4\\lib\\site-packages\\matplotlib\\cbook\\deprecation.py:107: MatplotlibDeprecationWarning: Adding an axes using the same arguments as a previous axes currently reuses the earlier instance.  In a future version, a new instance will always be created and returned.  Meanwhile, this warning can be suppressed, and the future behavior ensured, by passing a unique label to each axes instance.\n",
      "  warnings.warn(message, mplDeprecation, stacklevel=1)\n"
     ]
    },
    {
     "data": {
      "image/png": "[encoded data removed]",
      "text/plain": [
       "<Figure size 576x576 with 1 Axes>"
      ]
     },
     "metadata": {},
     "output_type": "display_data"
    }
   ],
   "source": [
    "fpr_rf, tpr_rf, _ = roc_curve(y_test_F, finalLinearSVC_test_prediction)\n",
    "roc_auc_rf = auc(fpr_rf, tpr_rf)\n",
    "plt.figure(figsize=(8,8))\n",
    "plt.xlim([-0.01, 1.00])\n",
    "plt.ylim([-0.01, 1.01])\n",
    "plt.plot(fpr_rf, tpr_rf, lw=1, label='{} curve (AUC = {:0.2f})'.format('RF',roc_auc_rf))\n",
    "\n",
    "\n",
    "plt.xlabel('False Positive Rate', fontsize=16)\n",
    "plt.ylabel('True Positive Rate', fontsize=16)\n",
    "plt.title('ROC curve', fontsize=16)\n",
    "plt.legend(loc='lower right', fontsize=13)\n",
    "plt.plot([0, 1], [0, 1], color='navy', lw=1, linestyle='--')\n",
    "plt.axes().set_aspect('equal')\n",
    "plt.show()"
   ]
  },
  {
   "cell_type": "code",
   "execution_count": null,
   "metadata": {},
   "outputs": [],
   "source": []
  }
 ],
 "metadata": {
  "celltoolbar": "Edit Metadata",
  "kernelspec": {
   "display_name": "Python 3",
   "language": "python",
   "name": "python3"
  },
  "language_info": {
   "codemirror_mode": {
    "name": "ipython",
    "version": 3
   },
   "file_extension": ".py",
   "mimetype": "text/x-python",
   "name": "python",
   "nbconvert_exporter": "python",
   "pygments_lexer": "ipython3",
   "version": "3.6.5"
  }
 },
 "nbformat": 4,
 "nbformat_minor": 2
}
